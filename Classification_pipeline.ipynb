{
  "nbformat": 4,
  "nbformat_minor": 0,
  "metadata": {
    "colab": {
      "name": "Classification pipeline with CNN RNN.ipynb",
      "provenance": [],
      "collapsed_sections": [
        "L0lv3sfIA8Cm",
        "lsr7TZjxA7YQ",
        "mZYUScXMMUko",
        "v_-exix4QOrY",
        "gwxRy1h-3FNU",
        "YbcKpajrMlzi"
      ],
      "toc_visible": true
    },
    "kernelspec": {
      "display_name": "Python 3",
      "name": "python3"
    },
    "accelerator": "GPU"
  },
  "cells": [
    {
      "cell_type": "markdown",
      "metadata": {
        "id": "M8Um1oBWyOpT"
      },
      "source": [
        "###Import and stuff"
      ]
    },
    {
      "cell_type": "markdown",
      "metadata": {
        "id": "DIjHcLTRGdXB"
      },
      "source": [
        "####pip installs and imports"
      ]
    },
    {
      "cell_type": "code",
      "metadata": {
        "colab": {
          "base_uri": "https://localhost:8080/"
        },
        "id": "theb08H5yCwl",
        "outputId": "9825911a-139f-42b1-8468-2c54978ba9be"
      },
      "source": [
        "!pip install mne\n",
        "!pip install skorch\n",
        "\n",
        "import numpy as np\n",
        "import pandas as pd\n",
        "import matplotlib.pyplot as plt\n",
        "import os\n",
        "import mne\n",
        "from mne.preprocessing import Xdawn\n",
        "import math\n",
        "import sklearn\n",
        "from scipy import stats\n",
        "\n",
        "from sklearn.discriminant_analysis import LinearDiscriminantAnalysis\n",
        "from sklearn.ensemble import BaggingClassifier\n",
        "from sklearn.svm import SVC\n",
        "from sklearn.metrics import confusion_matrix as cm\n",
        "from sklearn.pipeline import make_pipeline\n",
        "from sklearn.model_selection import train_test_split\n",
        "from sklearn.metrics import precision_recall_fscore_support\n",
        "\n",
        "from sklearn.metrics import roc_auc_score\n",
        "from sklearn.metrics import plot_confusion_matrix\n",
        "import matplotlib.pyplot as plt\n",
        "\n",
        "from collections import Counter\n",
        "import sys\n",
        "from random import choices\n",
        "from random import shuffle\n",
        "import random\n",
        "import torch\n",
        "import torch.nn as nn\n",
        "import time\n",
        "\n",
        "mne.set_log_level('ERROR')"
      ],
      "execution_count": null,
      "outputs": [
        {
          "output_type": "stream",
          "text": [
            "Collecting mne\n",
            "\u001b[?25l  Downloading https://files.pythonhosted.org/packages/60/f7/2bf5de3fad42b66d00ee27539bc3be0260b4e66fdecc12f740cdf2daf2e7/mne-0.23.0-py3-none-any.whl (6.9MB)\n",
            "\u001b[K     |████████████████████████████████| 7.0MB 31.7MB/s \n",
            "\u001b[?25hRequirement already satisfied: scipy>=1.1.0 in /usr/local/lib/python3.7/dist-packages (from mne) (1.4.1)\n",
            "Requirement already satisfied: numpy>=1.15.4 in /usr/local/lib/python3.7/dist-packages (from mne) (1.19.5)\n",
            "Installing collected packages: mne\n",
            "Successfully installed mne-0.23.0\n",
            "Collecting skorch\n",
            "\u001b[?25l  Downloading https://files.pythonhosted.org/packages/78/bd/f714a726f2f3106abe5a24d11b1fe8e20570323479164b829f5d4b80f7f2/skorch-0.10.0-py3-none-any.whl (128kB)\n",
            "\u001b[K     |████████████████████████████████| 133kB 34.3MB/s \n",
            "\u001b[?25hRequirement already satisfied: scikit-learn>=0.19.1 in /usr/local/lib/python3.7/dist-packages (from skorch) (0.22.2.post1)\n",
            "Requirement already satisfied: tqdm>=4.14.0 in /usr/local/lib/python3.7/dist-packages (from skorch) (4.41.1)\n",
            "Requirement already satisfied: scipy>=1.1.0 in /usr/local/lib/python3.7/dist-packages (from skorch) (1.4.1)\n",
            "Requirement already satisfied: tabulate>=0.7.7 in /usr/local/lib/python3.7/dist-packages (from skorch) (0.8.9)\n",
            "Requirement already satisfied: numpy>=1.13.3 in /usr/local/lib/python3.7/dist-packages (from skorch) (1.19.5)\n",
            "Requirement already satisfied: joblib>=0.11 in /usr/local/lib/python3.7/dist-packages (from scikit-learn>=0.19.1->skorch) (1.0.1)\n",
            "Installing collected packages: skorch\n",
            "Successfully installed skorch-0.10.0\n"
          ],
          "name": "stdout"
        }
      ]
    },
    {
      "cell_type": "markdown",
      "metadata": {
        "id": "qS-LV8JWGnzQ"
      },
      "source": [
        "####Set google connect to drive"
      ]
    },
    {
      "cell_type": "code",
      "metadata": {
        "colab": {
          "base_uri": "https://localhost:8080/"
        },
        "id": "CC42ZZHlyQ03",
        "outputId": "5978c56d-f707-43fc-a532-c0e795df78e9"
      },
      "source": [
        "from google.colab import drive\n",
        "drive.mount('/content/drive',force_remount=True)"
      ],
      "execution_count": null,
      "outputs": [
        {
          "output_type": "stream",
          "text": [
            "Mounted at /content/drive\n"
          ],
          "name": "stdout"
        }
      ]
    },
    {
      "cell_type": "markdown",
      "metadata": {
        "id": "Y7a50GQKGxjP"
      },
      "source": [
        "####Set needed values and load data"
      ]
    },
    {
      "cell_type": "code",
      "metadata": {
        "colab": {
          "base_uri": "https://localhost:8080/"
        },
        "id": "ZhvjNfhi9pMT",
        "outputId": "e4a17d4c-feed-4d34-d2d4-0cdc54070c2a"
      },
      "source": [
        "torch.manual_seed(42) # set fixed random seed for reproducibility\n",
        "cuda = True # Set this if training on GPU\n",
        "cuda = cuda and torch.cuda.is_available()\n",
        "device = torch.device(\"cuda\" if cuda else \"cpu\")\n",
        "print(\"Using \"+repr(device))"
      ],
      "execution_count": null,
      "outputs": [
        {
          "output_type": "stream",
          "text": [
            "Using device(type='cuda')\n"
          ],
          "name": "stdout"
        }
      ]
    },
    {
      "cell_type": "code",
      "metadata": {
        "colab": {
          "base_uri": "https://localhost:8080/",
          "height": 105
        },
        "id": "m9_yrF7W163g",
        "outputId": "8bfd0145-4807-40b6-fa8d-b141c0644820"
      },
      "source": [
        "event_dict = {'Good feedback': 1, 'Bad feedback': 0}\n",
        "our_picks = ['Fz','Cz','P3','Pz','P4','PO7','PO8']\n",
        "\n",
        "# Loading and reading fif files\n",
        "train_epochs = mne.read_epochs('drive/MyDrive/BA thesis/Data/training-epo.fif',verbose='WARNING')\n",
        "test_epochs = mne.read_epochs('drive/MyDrive/BA thesis/Data/test-epo.fif',verbose='WARNING')\n",
        "\n",
        "all_epochs = mne.concatenate_epochs([train_epochs,test_epochs])\n",
        "all_epochs.event_id=event_dict\n",
        "all_epochs.rename_channels({'P08':'PO8'})\n",
        "\n",
        "# all_epochs.crop(0.14, 0.65)\n",
        "\n",
        "#Setting the 10-20 standard electrode locations\n",
        "montage = mne.channels.make_standard_montage('standard_1020')\n",
        "all_epochs.set_montage(montage,match_case=True, on_missing='warn')"
      ],
      "execution_count": null,
      "outputs": [
        {
          "output_type": "execute_result",
          "data": {
            "text/html": [
              "\n",
              "<table class=\"table table-hover\">\n",
              "    <tr>\n",
              "        <th>Number of events</th>\n",
              "        <td>8840</td>\n",
              "    </tr>\n",
              "    <tr>\n",
              "        <th>Events</th>\n",
              "        <td>Bad feedback: 2579<br>Good feedback: 6261<br></td>\n",
              "    </tr>\n",
              "    <tr>\n",
              "        <th>Time range</th>\n",
              "        <td>-0.250 – 1.000 sec</td>\n",
              "    </tr>\n",
              "    <tr>\n",
              "        <th>Baseline</th>\n",
              "        <td>-0.250 – 0.000 sec</td>\n",
              "    </tr>\n",
              "</table>\n"
            ],
            "text/plain": [
              "<Epochs |  8840 events (all good), -0.25 - 1 sec, baseline -0.25 – 0 sec, ~493.0 MB, data loaded,\n",
              " 'Bad feedback': 2579\n",
              " 'Good feedback': 6261>"
            ]
          },
          "metadata": {
            "tags": []
          },
          "execution_count": 4
        }
      ]
    },
    {
      "cell_type": "code",
      "metadata": {
        "id": "izYnQWhbTHi4"
      },
      "source": [
        "# vis_epochs = all_epochs.copy()\n",
        "# vis_epochs.pick_channels(our_picks)\n",
        "\n",
        "# vis_epochs[0].plot_image()\n",
        "# vis_epochs[0].plot_psd_topomap()\n",
        "# vis_epochs[0].plot_psd()\n",
        "# vis_epochs[0].plot_topo_image()\n",
        "# plt.show()"
      ],
      "execution_count": null,
      "outputs": []
    },
    {
      "cell_type": "markdown",
      "metadata": {
        "id": "KkQ8HaM7wLt6"
      },
      "source": [
        "###Visualization of some figures"
      ]
    },
    {
      "cell_type": "markdown",
      "metadata": {
        "id": "L0lv3sfIA8Cm"
      },
      "source": [
        "####Grand average of training set"
      ]
    },
    {
      "cell_type": "code",
      "metadata": {
        "id": "AbuXXtrNwVTm"
      },
      "source": [
        "#Creating the indexes for splitting session 1-4 (training) from session 5 (testing)\n",
        "#[0,1,2,3,4,...,238,239,340,341,342,...,578,579]\n",
        "train_idxs = []\n",
        "count = 0\n",
        "for i in range(1,27):\n",
        "    for j in range(240):\n",
        "        train_idxs.append(j + count*340)\n",
        "    count += 1\n",
        "\n",
        "test_idxs = np.delete(np.arange(26*340),train_idxs)"
      ],
      "execution_count": null,
      "outputs": []
    },
    {
      "cell_type": "code",
      "metadata": {
        "id": "orngJqB6wXaq"
      },
      "source": [
        "vis1 = all_epochs.copy().pick_channels(['Cz']).crop(-0.25,1)\n",
        "# vis1 = vis1[train_idxs].apply_baseline(baseline=(-0.25,0))\n",
        "vis1 = vis1.apply_baseline(baseline=(-0.25,0))\n",
        "# vis1 = all_epochs.copy().pick_channels(['Cz']).crop(0.15,0.65)\n",
        "# vis1 = vis1[train_idxs].apply_baseline(baseline=(0.15,0.65))\n",
        "vis1_feedback = vis1.events[:,2]\n",
        "vis1 = vis1.get_data()"
      ],
      "execution_count": null,
      "outputs": []
    },
    {
      "cell_type": "code",
      "metadata": {
        "id": "jeqKKWZK1s-8"
      },
      "source": [
        "good_index = [i for i, j in enumerate(vis1_feedback) if j == 1]\n",
        "bad_index = [i for i, j in enumerate(vis1_feedback) if j == 0]\n",
        "\n",
        "good_means = pd.DataFrame(vis1.squeeze()).iloc[good_index].mean()\n",
        "bad_means = pd.DataFrame(vis1.squeeze()).iloc[bad_index].mean()\n",
        "diff_means = bad_means-good_means"
      ],
      "execution_count": null,
      "outputs": []
    },
    {
      "cell_type": "code",
      "metadata": {
        "colab": {
          "base_uri": "https://localhost:8080/"
        },
        "id": "NoGM0XrQ32dy",
        "outputId": "9197e8ed-4db8-413e-96d3-7ea7a2acd247"
      },
      "source": [
        "x = np.arange(-250,1010,10)\n",
        "# x = np.arange(0.15,0.66,0.01)\n",
        "plt.plot(x,good_means,'-.', label = 'Correct feedback')\n",
        "plt.plot(x,bad_means, '--',label = 'Incorrect feedback')\n",
        "plt.plot(x,diff_means, label = 'Difference')\n",
        "plt.legend()\n",
        "plt.xlabel('Milliseconds (ms)')\n",
        "plt.ylabel('\\u03BCV')\n",
        "plt.gca().invert_yaxis()"
      ],
      "execution_count": null,
      "outputs": [
        {
          "output_type": "display_data",
          "data": {
            "image/png": "[encoded data removed]",
            "text/plain": [
              "<Figure size 432x288 with 1 Axes>"
            ]
          },
          "metadata": {
            "tags": [],
            "needs_background": "light"
          }
        }
      ]
    },
    {
      "cell_type": "markdown",
      "metadata": {
        "id": "lsr7TZjxA7YQ"
      },
      "source": [
        "####Grand average across between sessions"
      ]
    },
    {
      "cell_type": "code",
      "metadata": {
        "id": "PyrK9UmmBKPq"
      },
      "source": [
        "#Creating the indexes for splitting session 1-4 (training) from session 5 (testing)\n",
        "#[0,1,2,3,4,...,238,239,340,341,342,...,578,579]\n",
        "sess1 = []\n",
        "sess2 = []\n",
        "sess3 = []\n",
        "sess4 = []\n",
        "\n",
        "count = 0\n",
        "for i in range(1,27):\n",
        "    for j in range(60):\n",
        "        sess1.append(j + count*340)\n",
        "        sess2.append(j+60 + count*340)\n",
        "        sess3.append(j+120 + count*340)\n",
        "        sess4.append(j+180 + count*340)\n",
        "    count += 1\n",
        "\n",
        "test_idxs = np.delete(np.arange(26*340),train_idxs)"
      ],
      "execution_count": null,
      "outputs": []
    },
    {
      "cell_type": "code",
      "metadata": {
        "colab": {
          "base_uri": "https://localhost:8080/",
          "height": 279
        },
        "id": "OPZOincaBv0R",
        "outputId": "f6ddf937-7232-458a-b367-cc915a8002ef"
      },
      "source": [
        "x = np.arange(-250,1010,10)\n",
        "x = np.arange(150,660,10)\n",
        "\n",
        "# for sess in [sess1,sess2,sess3,sess4,test_idxs]:\n",
        "for sess in [train_idxs,test_idxs]:\n",
        "    vis1 = all_epochs.copy().pick_channels(['Cz']).crop(-0.25,1)\n",
        "    vis1 = vis1[sess].apply_baseline(baseline=(-0.25,0))\n",
        "    vis1.crop(0.15,0.65)\n",
        "\n",
        "    # vis1 = all_epochs.copy().pick_channels(['Cz']).crop(0.15,0.65)\n",
        "    # vis1 = vis1[train_idxs].apply_baseline(baseline=(0.15,0.65))\n",
        "    vis1_feedback = vis1.events[:,2]\n",
        "    vis1 = vis1.get_data()\n",
        "\n",
        "    good_index = [i for i, j in enumerate(vis1_feedback) if j == 1]\n",
        "    bad_index = [i for i, j in enumerate(vis1_feedback) if j == 0]\n",
        "\n",
        "    good_means = pd.DataFrame(vis1.squeeze()).iloc[good_index].mean()\n",
        "    bad_means = pd.DataFrame(vis1.squeeze()).iloc[bad_index].mean()\n",
        "    diff_means = bad_means-good_means\n",
        "\n",
        "\n",
        "# x = np.arange(0.15,0.66,0.01)\n",
        "    plt.plot(x,diff_means)\n",
        "\n",
        "\n",
        "plt.legend(['Session 1','Session 2','Session 3','Session 4','Session 5'])\n",
        "plt.legend(['Session 1-4','Session 5'])\n",
        "plt.xlabel('Milliseconds (ms)')\n",
        "plt.ylabel('\\u03BCV')\n",
        "plt.gca().invert_yaxis()"
      ],
      "execution_count": null,
      "outputs": [
        {
          "output_type": "display_data",
          "data": {
            "image/png": "[encoded data removed]",
            "text/plain": [
              "<Figure size 432x288 with 1 Axes>"
            ]
          },
          "metadata": {
            "tags": [],
            "needs_background": "light"
          }
        }
      ]
    },
    {
      "cell_type": "markdown",
      "metadata": {
        "id": "mZYUScXMMUko"
      },
      "source": [
        "####Visualizing the model performance"
      ]
    },
    {
      "cell_type": "code",
      "metadata": {
        "colab": {
          "base_uri": "https://localhost:8080/",
          "height": 285
        },
        "id": "_SElsaLKMZXd",
        "outputId": "a24e9a8d-0a47-47c0-ad3a-076ec41072f7"
      },
      "source": [
        "#LDA vs CNN-LSTM\n",
        "LDA_CNN = [1,1,24]\n",
        "\n",
        "plt.bar(['LDA ','2','3'],LDA_CNN)\n",
        "plt.bar(['LDf ','2','3'],LDA_CNN)"
      ],
      "execution_count": null,
      "outputs": [
        {
          "output_type": "execute_result",
          "data": {
            "text/plain": [
              "<BarContainer object of 3 artists>"
            ]
          },
          "metadata": {
            "tags": []
          },
          "execution_count": 15
        },
        {
          "output_type": "display_data",
          "data": {
            "image/png": "[encoded data removed]",
            "text/plain": [
              "<Figure size 432x288 with 1 Axes>"
            ]
          },
          "metadata": {
            "tags": [],
            "needs_background": "light"
          }
        }
      ]
    },
    {
      "cell_type": "markdown",
      "metadata": {
        "id": "EmRSaI-a_Ky-"
      },
      "source": [
        "###Selecting and augmenting data"
      ]
    },
    {
      "cell_type": "code",
      "metadata": {
        "id": "fZnCcBhvOD5k"
      },
      "source": [
        "#Creating the indexes for splitting session 1-4 (training) from session 5 (testing)\n",
        "#[0,1,2,3,4,...,238,239,340,341,342,...,578,579]\n",
        "train_idxs = []\n",
        "count = 0\n",
        "for i in range(1,27):\n",
        "    for j in range(240):\n",
        "        train_idxs.append(j + count*340)\n",
        "    count += 1\n",
        "\n",
        "test_idxs = np.delete(np.arange(26*340),train_idxs)"
      ],
      "execution_count": null,
      "outputs": []
    },
    {
      "cell_type": "code",
      "metadata": {
        "id": "K66k5wEX2A8P"
      },
      "source": [
        "#Function to make splits for training, validation and test sets. \n",
        "#i: subject_num, channel: channels to include, train_size: Percentage used for training, balance: bool for downsampling\n",
        "from sklearn.model_selection import KFold\n",
        "\n",
        "def balance_sampling_w_val_epoched(i,channel,train_size = 0.8, balance=False, fold_num = 5):\n",
        "  Fz_epochs_0 = all_epochs.copy().pick_channels(channel).crop(0.15,0.62)[i*340:i*340+240].shift_time(0.01).apply_baseline(baseline=(0.16,0.63))\n",
        "  Fz_epochs_1 = all_epochs.copy().pick_channels(channel).crop(0.16,0.63)[i*340:i*340+240].shift_time(0).apply_baseline(baseline=(0.16,0.63))\n",
        "  Fz_epochs_4 = all_epochs.copy().pick_channels(channel).crop(0.18,0.65)[i*340:i*340+240].shift_time(-0.02).apply_baseline(baseline=(0.16,0.63))\n",
        "  Fz_epochs_2 = all_epochs.copy().pick_channels(channel).crop(0.17,0.64)[i*340:i*340+240].shift_time(-0.01).apply_baseline(baseline=(0.16,0.63))\n",
        "  Fz_epochs_3 = all_epochs.copy().pick_channels(channel).crop(0.14,0.61)[i*340:i*340+240].shift_time(0.02).apply_baseline(baseline=(0.16,0.63))\n",
        "\n",
        "  length = len(Fz_epochs_0)\n",
        "  #The training subsample \n",
        "\n",
        "  kf = KFold(n_splits=fold_num, shuffle = True, random_state=i) #setting random state to i in order for both reproducibility and also randomness between the subjects\n",
        "  kf.get_n_splits(range(length))\n",
        "\n",
        "  kf_list = list(kf.split(range(length)))\n",
        "\n",
        "  all_kfolds = []\n",
        "  for fold in range(fold_num):\n",
        "    train_idx, val_idx = kf_list[fold]\n",
        "\n",
        "    Fz_epochs_concat_train = mne.concatenate_epochs([Fz_epochs_0[train_idx],\n",
        "                                            Fz_epochs_1[train_idx],\n",
        "                                            Fz_epochs_2[train_idx],\n",
        "                                            Fz_epochs_3[train_idx],\n",
        "                                            Fz_epochs_4[train_idx]])\n",
        "    Fz_labels_concat_train = Fz_epochs_concat_train.events[:,2]\n",
        "\n",
        "    #The validation subsample\n",
        "    Fz_epochs_concat_val = mne.concatenate_epochs([Fz_epochs_0[val_idx],\n",
        "                                            Fz_epochs_1[val_idx],\n",
        "                                            Fz_epochs_2[val_idx],\n",
        "                                            Fz_epochs_3[val_idx],\n",
        "                                            Fz_epochs_4[val_idx]])\n",
        "    Fz_labels_concat_val = Fz_epochs_concat_val.events[:,2]\n",
        "\n",
        "    #Upsample training \n",
        "    x_0 = Fz_epochs_concat_train[np.nonzero(Fz_labels_concat_train == 0)[0]]\n",
        "    x_1 = Fz_epochs_concat_train[np.nonzero(Fz_labels_concat_train == 1)[0]]\n",
        "\n",
        "    sample_size = min(len(x_0),len(x_1))\n",
        "    y_0 = [0]*len(x_0)\n",
        "    y_1 = [1]*len(x_1)\n",
        "\n",
        "    if balance == True:\n",
        "\n",
        "        idx_0 = np.random.choice(range(0,len(x_0)),size=sample_size,replace=False)\n",
        "        idx_0 = np.sort(idx_0)\n",
        "        x_0 = x_0[idx_0]\n",
        "\n",
        "        idx_1 = np.random.choice(range(0,len(x_1)),size=sample_size,replace=False)\n",
        "        idx_1 = np.sort(idx_1)\n",
        "        x_1 = x_1[idx_1]\n",
        "        \n",
        "    x = mne.concatenate_epochs([x_0,x_1])\n",
        "    y = np.concatenate((y_0,y_1))\n",
        "    idx_shuffle_train = np.random.permutation(len(x))\n",
        "    x_train, y_train = x[idx_shuffle_train], y[idx_shuffle_train]\n",
        "\n",
        "    #upsample and shuffle validation?\n",
        "    idx_shuffle_val = np.random.permutation(len(Fz_labels_concat_val))\n",
        "    x_val, y_val = Fz_epochs_concat_val[idx_shuffle_val], Fz_labels_concat_val[idx_shuffle_val]\n",
        "\n",
        "    x_test = all_epochs.copy().apply_baseline(baseline = (None, None)).pick_channels(channel).crop(0.16,0.63)[(i*340)+240:(i+1)*340]\n",
        "    y_test = all_epochs.copy().apply_baseline(baseline = (None, None)).pick_channels(channel).crop(0.16,0.63)[(i*340)+240:(i+1)*340].events[:,2]\n",
        "\n",
        "    all_kfolds.append((x_train, y_train, x_test, y_test, x_val, y_val))\n",
        "\n",
        "  return all_kfolds"
      ],
      "execution_count": null,
      "outputs": []
    },
    {
      "cell_type": "code",
      "metadata": {
        "id": "uwHtFS86t3M1"
      },
      "source": [
        "#Function to make splits for training, validation and test sets. \n",
        "#i: subject_num, channel: channels to include, train_size: Percentage used for training, balance: bool for downsampling\n",
        "def sampling_wo_folds(i,channel,train_size = 0.8, balance=False):\n",
        "    Fz_epochs_0 = all_epochs.copy().pick_channels(channel).crop(0.15,0.62)[i*340:i*340+240].shift_time(0.01).apply_baseline(baseline=(0.16,0.63))\n",
        "    Fz_epochs_1 = all_epochs.copy().pick_channels(channel).crop(0.16,0.63)[i*340:i*340+240].shift_time(0).apply_baseline(baseline=(0.16,0.63))\n",
        "    Fz_epochs_4 = all_epochs.copy().pick_channels(channel).crop(0.18,0.65)[i*340:i*340+240].shift_time(-0.02).apply_baseline(baseline=(0.16,0.63))\n",
        "    Fz_epochs_2 = all_epochs.copy().pick_channels(channel).crop(0.17,0.64)[i*340:i*340+240].shift_time(-0.01).apply_baseline(baseline=(0.16,0.63))\n",
        "    Fz_epochs_3 = all_epochs.copy().pick_channels(channel).crop(0.14,0.61)[i*340:i*340+240].shift_time(0.02).apply_baseline(baseline=(0.16,0.63))\n",
        "\n",
        "    length = len(Fz_epochs_0)\n",
        "    #The training subsample \n",
        "    train_idx = np.random.choice(range(length),size=math.ceil(train_size * length),replace=False)\n",
        "    val_idx = list(set(range(length)) - set(train_idx))\n",
        "\n",
        "    train_idx = np.sort(train_idx)\n",
        "\n",
        "    Fz_epochs_concat_train = mne.concatenate_epochs([Fz_epochs_0[train_idx],\n",
        "                                            Fz_epochs_1[train_idx],\n",
        "                                            Fz_epochs_2[train_idx],\n",
        "                                            Fz_epochs_3[train_idx],\n",
        "                                            Fz_epochs_4[train_idx]])\n",
        "    Fz_labels_concat_train = Fz_epochs_concat_train.events[:,2]\n",
        "\n",
        "    #The validation subsample\n",
        "    Fz_epochs_concat_val = mne.concatenate_epochs([Fz_epochs_0[val_idx],\n",
        "                                            Fz_epochs_1[val_idx],\n",
        "                                            Fz_epochs_2[val_idx],\n",
        "                                            Fz_epochs_3[val_idx],\n",
        "                                            Fz_epochs_4[val_idx]])\n",
        "    Fz_labels_concat_val = Fz_epochs_concat_val.events[:,2]\n",
        "\n",
        "    #Upsample training \n",
        "    x_0 = Fz_epochs_concat_train[np.nonzero(Fz_labels_concat_train == 0)[0]]\n",
        "    x_1 = Fz_epochs_concat_train[np.nonzero(Fz_labels_concat_train == 1)[0]]\n",
        "\n",
        "    sample_size = min(len(x_0),len(x_1))\n",
        "    y_0 = [0]*len(x_0)\n",
        "    y_1 = [1]*len(x_1)\n",
        "        \n",
        "    x = mne.concatenate_epochs([x_0,x_1])\n",
        "    y = np.concatenate((y_0,y_1))\n",
        "    idx_shuffle_train = np.random.permutation(len(x))\n",
        "    x_train, y_train = x[idx_shuffle_train], y[idx_shuffle_train]\n",
        "\n",
        "    #upsample and shuffle validation?\n",
        "    idx_shuffle_val = np.random.permutation(len(Fz_labels_concat_val))\n",
        "    x_val, y_val = Fz_epochs_concat_val[idx_shuffle_val], Fz_labels_concat_val[idx_shuffle_val]\n",
        "\n",
        "    x_test = all_epochs.copy().apply_baseline(baseline = (None, None)).pick_channels(channel).crop(0.16,0.63)[(i*340)+240:(i+1)*340]\n",
        "    y_test = all_epochs.copy().apply_baseline(baseline = (None, None)).pick_channels(channel).crop(0.16,0.63)[(i*340)+240:(i+1)*340].events[:,2]\n",
        "\n",
        "    return x_train, y_train, x_test, y_test, x_val, y_val"
      ],
      "execution_count": null,
      "outputs": []
    },
    {
      "cell_type": "code",
      "metadata": {
        "id": "Kju7gHm0w036"
      },
      "source": [
        "sampling_wo_folds(0,our_picks)"
      ],
      "execution_count": null,
      "outputs": []
    },
    {
      "cell_type": "markdown",
      "metadata": {
        "id": "1B-ZJ4PncNyO"
      },
      "source": [
        "##Modelling"
      ]
    },
    {
      "cell_type": "markdown",
      "metadata": {
        "id": "m8AmLsQBl2Fg"
      },
      "source": [
        "####Evaluations and metric functions"
      ]
    },
    {
      "cell_type": "code",
      "metadata": {
        "id": "yIEgXbozV3bp"
      },
      "source": [
        "def make_preds(model, dataloader, states=None, limit = 0.5):    \n",
        "    model.eval()\n",
        "    list_preds = []\n",
        "    list_probs = []\n",
        "    for data, label in dataloader:\n",
        "        data = data.to(device)\n",
        "        label = label.to(device)\n",
        "        if states != None:\n",
        "            out, states = model(data,states)\n",
        "        else:\n",
        "            out = model(data)\n",
        "        out = torch.sigmoid(out)\n",
        "        list_probs.append(out.detach().cpu().numpy())\n",
        "        out = torch.where(out >= limit, 1, 0)\n",
        "        list_preds.append(out.detach().cpu().numpy()) # removed squeeze\n",
        "    list_preds = np.concatenate(list_preds, axis=0).flatten()\n",
        "    list_probs = np.concatenate(list_probs, axis=0).flatten()\n",
        "\n",
        "    return list_preds, list_probs\n",
        "\n",
        "def plot_hist(probs, labels):\n",
        "    y_0 = np.array([probs[i] for i in range(len(labels)) if labels[i] == 0])\n",
        "    y_1 = np.array([probs[i] for i in range(len(labels)) if labels[i] == 1])\n",
        "    \n",
        "    bins_0 = []\n",
        "    bins_1 = []\n",
        "    for i in range(10):\n",
        "        count = len(y_0[(y_0 >= 0.1*i) & (y_0 <= 0.1*(i+1))])\n",
        "        bins_0.append(count/len(y_0))\n",
        "        count = len(y_1[(y_1 >= 0.1*i) & (y_1 <= 0.1*(i+1))])\n",
        "        bins_1.append(count/len(y_1))\n",
        "\n",
        "    axis_label = [str(i/10) + \"-\\n\" + str((i+1)/10) for i in range(10)]\n",
        "\n",
        "    fig, (axs1, axs2) = plt.subplots(1,2, sharey=True, figsize=(16,4))\n",
        "\n",
        "    axs1.bar(axis_label, bins_0,alpha=0.5, color='red')\n",
        "    axs2.bar(axis_label, bins_1,alpha=0.5, color='blue')\n",
        "    \n",
        "    axs1.set(ylabel='Percentages', title ='Probabilty distribution for ytrue = 0')\n",
        "    axs2.set(ylabel='Percentages', title ='Probabilty distribution for ytrue = 1')\n",
        "    \n",
        "    plt.xticks(range(10))\n",
        "    plt.ylim(0,1)\n",
        "\n",
        "    for i in range(10):\n",
        "        axs1.text(i-0.3,bins_0[i]+0.01,\"{:2.0f}%\".format(bins_0[i]*100))\n",
        "        axs2.text(i-0.3,bins_1[i]+0.01,\"{:2.0f}%\".format(bins_1[i]*100))\n",
        "\n",
        "    # plt.show()"
      ],
      "execution_count": null,
      "outputs": []
    },
    {
      "cell_type": "code",
      "metadata": {
        "id": "3DkfjjQ3BTZB"
      },
      "source": [
        "def evaluation(Y_true, Y_pred, pred_probs):\n",
        "\n",
        "    # 0 = error, 1 = non-error\n",
        "    TP = FP = FN = TN = 0\n",
        "\n",
        "    for i in range(len(Y_true)):\n",
        "        if Y_true[i] == Y_pred[i] == 0:\n",
        "            TP += 1\n",
        "        if Y_true[i] == 0 and Y_pred[i] == 1:\n",
        "            FN += 1\n",
        "        if Y_true[i] == 1 and Y_pred[i] == 0:\n",
        "            FP += 1\n",
        "        if Y_true[i] == Y_pred[i] == 1:\n",
        "            TN += 1\n",
        "\n",
        "    precision, recall, fscore, _ = precision_recall_fscore_support(Y_true, Y_pred)\n",
        "    precision_w, recall_w, fscore_w, _ = precision_recall_fscore_support(Y_true, Y_pred, average='macro')\n",
        "\n",
        "    #Consider setting average type. Default right now is average = macro\n",
        "    auc = roc_auc_score(Y_true,pred_probs)\n",
        "\n",
        "    return precision[0], precision[1], recall[0], recall[1], fscore[0], fscore[1], precision_w, recall_w, fscore_w, auc, TP, FP, TN, FN, recall[0]+recall[1]-1"
      ],
      "execution_count": null,
      "outputs": []
    },
    {
      "cell_type": "code",
      "metadata": {
        "id": "ZBhGahqhBRCb"
      },
      "source": [
        "def plot_cm(clf,X_test,Y_test):\n",
        "    np.set_printoptions(precision=3)\n",
        "\n",
        "    # Plot non-normalized confusion matrix\n",
        "    titles_options = [(\"Confusion matrix, without normalization\", None),\n",
        "                    (\"Normalized confusion matrix\", 'true')]\n",
        "    for title, normalize in titles_options:\n",
        "        disp = plot_confusion_matrix(clf, X_test, Y_test,\n",
        "                                    cmap=plt.cm.Blues,\n",
        "                                    values_format='.5g')\n",
        "        disp.ax_.set_title(title)\n",
        "\n",
        "        print(title)\n",
        "        print(disp.confusion_matrix)\n",
        "        \n",
        "    plt.show()\n",
        "    return None"
      ],
      "execution_count": null,
      "outputs": []
    },
    {
      "cell_type": "code",
      "metadata": {
        "id": "9QUUUs7s_iDp"
      },
      "source": [
        "cols = ['ErrP prec', 'Non_ErrP prec', 'ErrP recall', 'Non_ErrP recall', 'ErrP f', 'Non_ErrP f', 'weighted prec', 'weighted recall', 'weighted_f', 'auc','TP','FP','TN','FN', 'Youdon']"
      ],
      "execution_count": null,
      "outputs": []
    },
    {
      "cell_type": "markdown",
      "metadata": {
        "id": "EBsK8bPk8Nhp"
      },
      "source": [
        "####Prepping data for use in all models"
      ]
    },
    {
      "cell_type": "code",
      "metadata": {
        "id": "XRW1FFhU5wAt"
      },
      "source": [
        "def transform_data(data, fitted_xdawn, fitted_scaler, fitted_vectorizer):\n",
        "    data = fitted_xdawn.transform(data)    \n",
        "    data = fitted_scaler.transform(data)\n",
        "    data = fitted_vectorizer.transform(data)\n",
        "    return data\n",
        "\n",
        "class dataprepper(torch.utils.data.Dataset):\n",
        "    def __init__(self, x_input, y_input):\n",
        "        self.x_input = x_input.reshape((x_input.shape[0],1,x_input.shape[1]))\n",
        "        self.y_input = y_input\n",
        "\n",
        "    def __len__(self):\n",
        "        return len(self.y_input)\n",
        "\n",
        "    def __getitem__(self, index):\n",
        "        x_output = self.x_input[index]\n",
        "        y_output = self.y_input[index]\n",
        "\n",
        "        return torch.Tensor(x_output), torch.from_numpy(np.array(y_output)).float() #torch.nn.functional.one_hot(torch.from_numpy(np.array(label)).long(),2).float()"
      ],
      "execution_count": null,
      "outputs": []
    },
    {
      "cell_type": "code",
      "metadata": {
        "id": "IXOMAYWe8V3v",
        "colab": {
          "base_uri": "https://localhost:8080/"
        },
        "outputId": "39f4a587-0fec-443a-94ad-ee193b0f5d3c"
      },
      "source": [
        "xdawn = Xdawn(n_components=5,correct_overlap='auto')\n",
        "scale = mne.decoding.Scaler(scalings='mean')\n",
        "vecto = mne.decoding.Vectorizer()\n",
        "\n",
        "all_subjects_fold = []\n",
        "\n",
        "for i in range(26):\n",
        "    print(\"subject: \" + str(i))\n",
        "    subject_w_5fold = balance_sampling_w_val_epoched(i, our_picks,0.80,balance=False)\n",
        "    subject_fold = []\n",
        "\n",
        "    for fold in range(5):\n",
        "        xtrain,ytrain,xtest,ytest, xval, yval = subject_w_5fold[fold]\n",
        "\n",
        "        xtrain = xdawn.fit_transform(xtrain)\n",
        "        xtrain = scale.fit_transform(xtrain)\n",
        "        xtrain = vecto.fit_transform(xtrain)\n",
        "\n",
        "        xval = transform_data(xval,xdawn,scale,vecto)\n",
        "        xtest = transform_data(xtest,xdawn,scale,vecto)\n",
        "\n",
        "        subject_fold.append((xtrain, ytrain, xtest, ytest, xval, yval))\n",
        "\n",
        "    all_subjects_fold.append(subject_fold)\n",
        "\n",
        "#The all_subjects_fold has structure subject X fold X dataset: [subX [foldX [xtrain, ytrain, ...]]"
      ],
      "execution_count": null,
      "outputs": [
        {
          "output_type": "stream",
          "text": [
            "subject: 0\n",
            "subject: 1\n",
            "subject: 2\n",
            "subject: 3\n",
            "subject: 4\n",
            "subject: 5\n",
            "subject: 6\n",
            "subject: 7\n",
            "subject: 8\n",
            "subject: 9\n",
            "subject: 10\n",
            "subject: 11\n",
            "subject: 12\n",
            "subject: 13\n",
            "subject: 14\n",
            "subject: 15\n",
            "subject: 16\n",
            "subject: 17\n",
            "subject: 18\n",
            "subject: 19\n",
            "subject: 20\n",
            "subject: 21\n",
            "subject: 22\n",
            "subject: 23\n",
            "subject: 24\n",
            "subject: 25\n"
          ],
          "name": "stdout"
        }
      ]
    },
    {
      "cell_type": "code",
      "metadata": {
        "colab": {
          "base_uri": "https://localhost:8080/"
        },
        "id": "FFPaSTkXRmsE",
        "outputId": "6dded6ba-2167-4437-8a42-0bc3129a63ee"
      },
      "source": [
        "xdawn = Xdawn(n_components=5,correct_overlap='auto')\n",
        "scale = mne.decoding.Scaler(scalings='mean')\n",
        "vecto = mne.decoding.Vectorizer()\n",
        "\n",
        "all_subjects_cross = []\n",
        "\n",
        "for i in range(26):\n",
        "    print(\"subject: \" + str(i))\n",
        "    xtrain,ytrain,xtest,ytest, xval, yval = sampling_wo_folds(i, our_picks,0.80)\n",
        "\n",
        "    xtrain = xdawn.fit_transform(xtrain)\n",
        "    xtrain = scale.fit_transform(xtrain)\n",
        "    xtrain = vecto.fit_transform(xtrain)\n",
        "\n",
        "    xval = transform_data(xval,xdawn,scale,vecto)\n",
        "    xtest = transform_data(xtest,xdawn,scale,vecto)\n",
        "\n",
        "    all_subjects_cross.append((xtrain, ytrain, xtest, ytest, xval, yval))\n",
        "\n",
        "#The all_subjects_fold has structure subject X fold X dataset: [subX [foldX [xtrain, ytrain, ...]]"
      ],
      "execution_count": null,
      "outputs": [
        {
          "output_type": "stream",
          "text": [
            "subject: 0\n"
          ],
          "name": "stdout"
        },
        {
          "output_type": "stream",
          "text": [
            "<ipython-input-42-01b77d542400>:29: RuntimeWarning: The events passed to the Epochs constructor are not chronologically ordered.\n",
            "  Fz_epochs_4[val_idx]])\n"
          ],
          "name": "stderr"
        },
        {
          "output_type": "stream",
          "text": [
            "subject: 1\n"
          ],
          "name": "stdout"
        },
        {
          "output_type": "stream",
          "text": [
            "<ipython-input-42-01b77d542400>:29: RuntimeWarning: The events passed to the Epochs constructor are not chronologically ordered.\n",
            "  Fz_epochs_4[val_idx]])\n"
          ],
          "name": "stderr"
        },
        {
          "output_type": "stream",
          "text": [
            "subject: 2\n"
          ],
          "name": "stdout"
        },
        {
          "output_type": "stream",
          "text": [
            "<ipython-input-42-01b77d542400>:29: RuntimeWarning: The events passed to the Epochs constructor are not chronologically ordered.\n",
            "  Fz_epochs_4[val_idx]])\n"
          ],
          "name": "stderr"
        },
        {
          "output_type": "stream",
          "text": [
            "subject: 3\n"
          ],
          "name": "stdout"
        },
        {
          "output_type": "stream",
          "text": [
            "<ipython-input-42-01b77d542400>:29: RuntimeWarning: The events passed to the Epochs constructor are not chronologically ordered.\n",
            "  Fz_epochs_4[val_idx]])\n"
          ],
          "name": "stderr"
        },
        {
          "output_type": "stream",
          "text": [
            "subject: 4\n"
          ],
          "name": "stdout"
        },
        {
          "output_type": "stream",
          "text": [
            "<ipython-input-42-01b77d542400>:29: RuntimeWarning: The events passed to the Epochs constructor are not chronologically ordered.\n",
            "  Fz_epochs_4[val_idx]])\n"
          ],
          "name": "stderr"
        },
        {
          "output_type": "stream",
          "text": [
            "subject: 5\n"
          ],
          "name": "stdout"
        },
        {
          "output_type": "stream",
          "text": [
            "<ipython-input-42-01b77d542400>:29: RuntimeWarning: The events passed to the Epochs constructor are not chronologically ordered.\n",
            "  Fz_epochs_4[val_idx]])\n"
          ],
          "name": "stderr"
        },
        {
          "output_type": "stream",
          "text": [
            "subject: 6\n"
          ],
          "name": "stdout"
        },
        {
          "output_type": "stream",
          "text": [
            "<ipython-input-42-01b77d542400>:29: RuntimeWarning: The events passed to the Epochs constructor are not chronologically ordered.\n",
            "  Fz_epochs_4[val_idx]])\n"
          ],
          "name": "stderr"
        },
        {
          "output_type": "stream",
          "text": [
            "subject: 7\n"
          ],
          "name": "stdout"
        },
        {
          "output_type": "stream",
          "text": [
            "<ipython-input-42-01b77d542400>:29: RuntimeWarning: The events passed to the Epochs constructor are not chronologically ordered.\n",
            "  Fz_epochs_4[val_idx]])\n"
          ],
          "name": "stderr"
        },
        {
          "output_type": "stream",
          "text": [
            "subject: 8\n"
          ],
          "name": "stdout"
        },
        {
          "output_type": "stream",
          "text": [
            "<ipython-input-42-01b77d542400>:29: RuntimeWarning: The events passed to the Epochs constructor are not chronologically ordered.\n",
            "  Fz_epochs_4[val_idx]])\n"
          ],
          "name": "stderr"
        },
        {
          "output_type": "stream",
          "text": [
            "subject: 9\n"
          ],
          "name": "stdout"
        },
        {
          "output_type": "stream",
          "text": [
            "<ipython-input-42-01b77d542400>:29: RuntimeWarning: The events passed to the Epochs constructor are not chronologically ordered.\n",
            "  Fz_epochs_4[val_idx]])\n"
          ],
          "name": "stderr"
        },
        {
          "output_type": "stream",
          "text": [
            "subject: 10\n"
          ],
          "name": "stdout"
        },
        {
          "output_type": "stream",
          "text": [
            "<ipython-input-42-01b77d542400>:29: RuntimeWarning: The events passed to the Epochs constructor are not chronologically ordered.\n",
            "  Fz_epochs_4[val_idx]])\n"
          ],
          "name": "stderr"
        },
        {
          "output_type": "stream",
          "text": [
            "subject: 11\n"
          ],
          "name": "stdout"
        },
        {
          "output_type": "stream",
          "text": [
            "<ipython-input-42-01b77d542400>:29: RuntimeWarning: The events passed to the Epochs constructor are not chronologically ordered.\n",
            "  Fz_epochs_4[val_idx]])\n"
          ],
          "name": "stderr"
        },
        {
          "output_type": "stream",
          "text": [
            "subject: 12\n"
          ],
          "name": "stdout"
        },
        {
          "output_type": "stream",
          "text": [
            "<ipython-input-42-01b77d542400>:29: RuntimeWarning: The events passed to the Epochs constructor are not chronologically ordered.\n",
            "  Fz_epochs_4[val_idx]])\n"
          ],
          "name": "stderr"
        },
        {
          "output_type": "stream",
          "text": [
            "subject: 13\n"
          ],
          "name": "stdout"
        },
        {
          "output_type": "stream",
          "text": [
            "<ipython-input-42-01b77d542400>:29: RuntimeWarning: The events passed to the Epochs constructor are not chronologically ordered.\n",
            "  Fz_epochs_4[val_idx]])\n"
          ],
          "name": "stderr"
        },
        {
          "output_type": "stream",
          "text": [
            "subject: 14\n"
          ],
          "name": "stdout"
        },
        {
          "output_type": "stream",
          "text": [
            "<ipython-input-42-01b77d542400>:29: RuntimeWarning: The events passed to the Epochs constructor are not chronologically ordered.\n",
            "  Fz_epochs_4[val_idx]])\n"
          ],
          "name": "stderr"
        },
        {
          "output_type": "stream",
          "text": [
            "subject: 15\n"
          ],
          "name": "stdout"
        },
        {
          "output_type": "stream",
          "text": [
            "<ipython-input-42-01b77d542400>:29: RuntimeWarning: The events passed to the Epochs constructor are not chronologically ordered.\n",
            "  Fz_epochs_4[val_idx]])\n"
          ],
          "name": "stderr"
        },
        {
          "output_type": "stream",
          "text": [
            "subject: 16\n"
          ],
          "name": "stdout"
        },
        {
          "output_type": "stream",
          "text": [
            "<ipython-input-42-01b77d542400>:29: RuntimeWarning: The events passed to the Epochs constructor are not chronologically ordered.\n",
            "  Fz_epochs_4[val_idx]])\n"
          ],
          "name": "stderr"
        },
        {
          "output_type": "stream",
          "text": [
            "subject: 17\n"
          ],
          "name": "stdout"
        },
        {
          "output_type": "stream",
          "text": [
            "<ipython-input-42-01b77d542400>:29: RuntimeWarning: The events passed to the Epochs constructor are not chronologically ordered.\n",
            "  Fz_epochs_4[val_idx]])\n"
          ],
          "name": "stderr"
        },
        {
          "output_type": "stream",
          "text": [
            "subject: 18\n"
          ],
          "name": "stdout"
        },
        {
          "output_type": "stream",
          "text": [
            "<ipython-input-42-01b77d542400>:29: RuntimeWarning: The events passed to the Epochs constructor are not chronologically ordered.\n",
            "  Fz_epochs_4[val_idx]])\n"
          ],
          "name": "stderr"
        },
        {
          "output_type": "stream",
          "text": [
            "subject: 19\n"
          ],
          "name": "stdout"
        },
        {
          "output_type": "stream",
          "text": [
            "<ipython-input-42-01b77d542400>:29: RuntimeWarning: The events passed to the Epochs constructor are not chronologically ordered.\n",
            "  Fz_epochs_4[val_idx]])\n"
          ],
          "name": "stderr"
        },
        {
          "output_type": "stream",
          "text": [
            "subject: 20\n"
          ],
          "name": "stdout"
        },
        {
          "output_type": "stream",
          "text": [
            "<ipython-input-42-01b77d542400>:29: RuntimeWarning: The events passed to the Epochs constructor are not chronologically ordered.\n",
            "  Fz_epochs_4[val_idx]])\n"
          ],
          "name": "stderr"
        },
        {
          "output_type": "stream",
          "text": [
            "subject: 21\n"
          ],
          "name": "stdout"
        },
        {
          "output_type": "stream",
          "text": [
            "<ipython-input-42-01b77d542400>:29: RuntimeWarning: The events passed to the Epochs constructor are not chronologically ordered.\n",
            "  Fz_epochs_4[val_idx]])\n"
          ],
          "name": "stderr"
        },
        {
          "output_type": "stream",
          "text": [
            "subject: 22\n"
          ],
          "name": "stdout"
        },
        {
          "output_type": "stream",
          "text": [
            "<ipython-input-42-01b77d542400>:29: RuntimeWarning: The events passed to the Epochs constructor are not chronologically ordered.\n",
            "  Fz_epochs_4[val_idx]])\n"
          ],
          "name": "stderr"
        },
        {
          "output_type": "stream",
          "text": [
            "subject: 23\n"
          ],
          "name": "stdout"
        },
        {
          "output_type": "stream",
          "text": [
            "<ipython-input-42-01b77d542400>:29: RuntimeWarning: The events passed to the Epochs constructor are not chronologically ordered.\n",
            "  Fz_epochs_4[val_idx]])\n"
          ],
          "name": "stderr"
        },
        {
          "output_type": "stream",
          "text": [
            "subject: 24\n"
          ],
          "name": "stdout"
        },
        {
          "output_type": "stream",
          "text": [
            "<ipython-input-42-01b77d542400>:29: RuntimeWarning: The events passed to the Epochs constructor are not chronologically ordered.\n",
            "  Fz_epochs_4[val_idx]])\n"
          ],
          "name": "stderr"
        },
        {
          "output_type": "stream",
          "text": [
            "subject: 25\n"
          ],
          "name": "stdout"
        },
        {
          "output_type": "stream",
          "text": [
            "<ipython-input-42-01b77d542400>:29: RuntimeWarning: The events passed to the Epochs constructor are not chronologically ordered.\n",
            "  Fz_epochs_4[val_idx]])\n"
          ],
          "name": "stderr"
        }
      ]
    },
    {
      "cell_type": "code",
      "metadata": {
        "id": "pm5Ql-8CC3Bb"
      },
      "source": [
        "# # distribution of labels\n",
        "# ones_percents = []\n",
        "# for subject in all_subjects:\n",
        "#     positive_rate_train = sum(subject[1])/len(subject[1])\n",
        "#     positive_rate_test = sum(subject[3])/len(subject[3])\n",
        "#     ones_percents.append([positive_rate_train,positive_rate_test])\n",
        "# ones_df = pd.DataFrame(ones_percents,columns=['spell acc train','spell acc test'])\n",
        "# ones_df['spell diff'] = ones_df['spell acc train'].subtract(ones_df['spell acc test'])"
      ],
      "execution_count": null,
      "outputs": []
    },
    {
      "cell_type": "markdown",
      "metadata": {
        "id": "_V2GnmwmS4Bm"
      },
      "source": [
        "###Setup the classifiers"
      ]
    },
    {
      "cell_type": "markdown",
      "metadata": {
        "id": "A-w2jQA_8fcO"
      },
      "source": [
        "####Dummy classifier and LDA + training loop"
      ]
    },
    {
      "cell_type": "code",
      "metadata": {
        "id": "_0pF589x8ktY"
      },
      "source": [
        "from sklearn.dummy import DummyClassifier\n",
        "from sklearn.base import clone\n",
        "\n",
        "clf_most_f = DummyClassifier(strategy = 'most_frequent')\n",
        "clf_uniform = DummyClassifier(strategy = 'uniform')\n",
        "clf_lda = LinearDiscriminantAnalysis(solver = 'lsqr', shrinkage = 'auto')"
      ],
      "execution_count": null,
      "outputs": []
    },
    {
      "cell_type": "code",
      "metadata": {
        "id": "Kd1PuJwGVP82"
      },
      "source": [
        "def train_loop(clf, subject):\n",
        "\n",
        "    evaluations = []\n",
        "    models = []\n",
        "\n",
        "    for fold in range(5):\n",
        "        print(\"Fold: \" + str(fold))\n",
        "        xtrain,ytrain,xtest,ytest, xval, yval = all_subjects_fold[subject][fold]\n",
        "\n",
        "        clf_subject = clone(clf)\n",
        "        clf_subject.fit(xtrain,ytrain)\n",
        "        subject_pred = clf_subject.predict(xtest)\n",
        "        subject_pred_probs = clf_subject.predict_proba(xtest)\n",
        "\n",
        "        eval_metrics = evaluation(ytest, subject_pred, subject_pred_probs[:,-1])\n",
        "        evaluations.append(eval_metrics)\n",
        "        models.append(clf_subject)\n",
        "    \n",
        "    return evaluations, models\n",
        "\n",
        "def train_loop_cross(clf):\n",
        "\n",
        "    evaluations = []\n",
        "    models = []\n",
        "\n",
        "    for sub in range(26):\n",
        "        print(\"Sub: \" + str(sub))\n",
        "\n",
        "        xtrain,ytrain,xtest,ytest, xval, yval = all_subjects_cross[sub]\n",
        "\n",
        "        clf_subject = clone(clf)\n",
        "        clf_subject.fit(xtrain,ytrain)\n",
        "        subject_pred = clf_subject.predict(xtest)\n",
        "        subject_pred_probs = clf_subject.predict_proba(xtest)\n",
        "\n",
        "        eval_metrics = evaluation(ytest, subject_pred, subject_pred_probs[:,-1])\n",
        "        evaluations.append(eval_metrics)\n",
        "        models.append(clf_subject)\n",
        "    \n",
        "    return evaluations, models"
      ],
      "execution_count": null,
      "outputs": []
    },
    {
      "cell_type": "markdown",
      "metadata": {
        "id": "v_-exix4QOrY"
      },
      "source": [
        "####CNN + LSTM Model"
      ]
    },
    {
      "cell_type": "code",
      "metadata": {
        "id": "4fGLiMmhWDYR"
      },
      "source": [
        "lstm_layers = 2\n",
        "lstm_dim = 64\n",
        "dropout_prob = 0.1\n",
        "\n",
        "class BaseCNN(nn.Module):\n",
        "    def __init__(self):\n",
        "        super(BaseCNN, self).__init__()\n",
        "\n",
        "        self.batch_norm0 = nn.BatchNorm1d(1)\n",
        "        self.cv1d_1 = nn.Conv1d(1,64,padding=1,kernel_size=3)\n",
        "        self.cv1d_2 = nn.Conv1d(64,128,padding=1,kernel_size=3)\n",
        "        self.cv1d_3 = nn.Conv1d(128,256,padding=1,kernel_size=3)\n",
        "        self.cv1d_4 = nn.Conv1d(256,512,padding=1,kernel_size=3)\n",
        "\n",
        "        self.dropout1 = nn.Dropout(p=dropout_prob)\n",
        "\n",
        "        self.fc1 = nn.Linear(512,256)\n",
        "\n",
        "        self.LSTM = nn.LSTM(input_size = 256, hidden_size = lstm_dim, num_layers=lstm_layers, batch_first=True, dropout=dropout_prob)\n",
        "\n",
        "        self.maxpool1 = nn.MaxPool1d(kernel_size=2,ceil_mode=True)\n",
        "        self.relu = nn.ReLU(inplace=True)\n",
        "\n",
        "        self.lin1 = nn.Linear(64*240,256)\n",
        "        self.lin2 = nn.Linear(256,128)\n",
        "        self.lin3 = nn.Linear(128,64)\n",
        "        self.lin4 = nn.Linear(64,1)\n",
        "\n",
        "        # Initialize the weights of the model\n",
        "        self._init_weights()\n",
        "\n",
        "    def _init_weights(self):\n",
        "        all_params = list(self.LSTM.named_parameters())\n",
        "        for n in all_params:\n",
        "            if 'weight' in n:\n",
        "                nn.init.xavier_normal_(p)\n",
        "            elif 'bias' in n:\n",
        "                nn.init.zeros_(p)   \n",
        "\n",
        "    def forward(self, x, states):\n",
        "\n",
        "        out = self.relu(self.cv1d_1(x))\n",
        "        out = self.maxpool1(out) #reduced length to 480 -> 240\n",
        "\n",
        "        out = self.relu(self.cv1d_2(out))    \n",
        "        out = self.relu(self.cv1d_3(out))\n",
        "        out = self.relu(self.cv1d_4(out)) #ends with 512 features\n",
        "\n",
        "        batch, features, seq_len = out.size()\n",
        "\n",
        "        out = out.view(batch, seq_len, features)\n",
        "\n",
        "        out = self.fc1(out)\n",
        "        batch, features, seq_len = out.size()\n",
        "\n",
        "        out = self.dropout1(out)\n",
        "        lstm_in = out.view(batch,240,256) #lstm_in: batch, seq_len, features\n",
        "\n",
        "        lstm_out, states = self.LSTM(lstm_in, states)\n",
        "\n",
        "        batch, seq_len, features = out.size()\n",
        "\n",
        "        lstm_out = lstm_out.reshape(batch, seq_len*lstm_dim)\n",
        "\n",
        "        #Linear layers\n",
        "        out = self.lin1(lstm_out)\n",
        "        out = self.lin2(out)\n",
        "        out = self.lin3(out)\n",
        "        out = self.lin4(out)\n",
        "        \n",
        "        return out, states"
      ],
      "execution_count": null,
      "outputs": []
    },
    {
      "cell_type": "code",
      "metadata": {
        "id": "1vs5pyOqgcEs"
      },
      "source": [
        "def detach(states):\n",
        "    return [state.detach() for state in states]\n",
        "\n",
        "def eval_cnn_lstm(model, valid_loader, loss_fn, states):\n",
        "    model.eval()\n",
        "\n",
        "    val_loss = 0\n",
        "    with torch.no_grad():\n",
        "        for batch, label in valid_loader:\n",
        "            batch = batch.to(device)\n",
        "            label = label.to(device)\n",
        "            \n",
        "            out, states = model(batch, states)\n",
        "            loss = loss_fn(out.squeeze(), label.squeeze())\n",
        "            val_loss += loss.item()\n",
        "\n",
        "    return val_loss\n",
        "\n",
        "def cnn_lstm_train_loop(model, train_loader, optimizer, loss_fn, device,epochs,valid_loader = None):\n",
        "\n",
        "    best_model = model.state_dict()\n",
        "    best_val_loss = 1\n",
        "    start_time = time.time()\n",
        "\n",
        "    for epoch in range(epochs):\n",
        "        model.train()\n",
        "        train_loss = 0\n",
        "        states = (torch.zeros(lstm_layers, 20, lstm_dim).to(device), torch.zeros(lstm_layers, 20, lstm_dim).to(device))\n",
        "        \n",
        "        for batch, label in train_loader:\n",
        "            batch = batch.to(device)\n",
        "            label = label.to(device)\n",
        "            optimizer.zero_grad(set_to_none=True)\n",
        "            states = detach(states)\n",
        "            out, states = model(batch, states)\n",
        "\n",
        "            loss = loss_fn(out.squeeze(), label.squeeze())\n",
        "            optimizer.zero_grad()\n",
        "            loss.backward()\n",
        "            torch.nn.utils.clip_grad_norm_(model.parameters(), 1.0)\n",
        "            optimizer.step()\n",
        "            train_loss += loss.item()\n",
        "\n",
        "        val_loss = eval_cnn_lstm(model, valid_loader, loss_fn, states)\n",
        "\n",
        "        if (epoch+1) % 10 == 0 or epoch == 0:\n",
        "            print('=>Epoch: {} Train loss: {:.4f}, Val loss: {:.4f}, Time epoch: {:.2f}'.format(epoch+1, train_loss/len(train_loader), val_loss/len(valid_loader), time.time() - start_time))\n",
        "            start_time = time.time()\n",
        "\n",
        "        if val_loss < best_val_loss:\n",
        "            best_model = model.state_dict()\n",
        "            best_val_loss = val_loss\n",
        "    \n",
        "    model.load_state_dict(best_model)\n",
        "\n",
        "    return model, states"
      ],
      "execution_count": null,
      "outputs": []
    },
    {
      "cell_type": "code",
      "metadata": {
        "id": "_dDGlZvPX9fF"
      },
      "source": [
        "# input_test = torch.randn(10,1,480).to(device)\n",
        "# states = (torch.zeros(lstm_layers, 10, lstm_dim).to(device),\n",
        "#               torch.zeros(lstm_layers, 10, lstm_dim).to(device))\n",
        "# model = BaseCNN().to(device)\n",
        "# output, states = model(input_test, states)\n",
        "# print(torch.sigmoid(output))"
      ],
      "execution_count": null,
      "outputs": []
    },
    {
      "cell_type": "markdown",
      "metadata": {
        "id": "gwxRy1h-3FNU"
      },
      "source": [
        "####UNet"
      ]
    },
    {
      "cell_type": "code",
      "metadata": {
        "id": "W97kN_1wzKso"
      },
      "source": [
        "def double_conv(in_channels, out_channels):\n",
        "  conv = nn.Sequential(\n",
        "      nn.Conv1d(in_channels, out_channels, kernel_size=3, padding=1),\n",
        "      torch.nn.BatchNorm1d(out_channels),\n",
        "      nn.ReLU(inplace=True),\n",
        "      nn.Conv1d(out_channels, out_channels, kernel_size=3, padding=1),\n",
        "      torch.nn.BatchNorm1d(out_channels),\n",
        "      nn.ReLU(inplace=True),\n",
        "  )\n",
        "  return conv.float()\n",
        "\n",
        "class UNet(nn.Module):\n",
        "\n",
        "  def __init__(self):\n",
        "    \n",
        "    super(UNet,self).__init__()\n",
        "\n",
        "    # contraction\n",
        "    self.down_conv_1 = double_conv(1,64)\n",
        "    self.down_conv_2 = double_conv(64,128)\n",
        "    self.down_conv_3 = double_conv(128,256)\n",
        "    self.down_conv_4 = double_conv(256,512)\n",
        "    self.down_conv_5 = double_conv(512,1024)\n",
        "    # max pooling\n",
        "    self.max_pool = nn.MaxPool1d(kernel_size=2, stride=2, ceil_mode=True)\n",
        "    # expansion \n",
        "    self.up_2x2conv_1 = nn.ConvTranspose1d(1024, 512, kernel_size=2, stride=2).float()\n",
        "    self.up_2x2conv_2 = nn.ConvTranspose1d(512, 256, kernel_size=2, stride=2).float()\n",
        "    self.up_2x2conv_3 = nn.ConvTranspose1d(256, 128, kernel_size=2, stride=2).float()\n",
        "    self.up_2x2conv_4 = nn.ConvTranspose1d(128, 64, kernel_size=2, stride=2).float()\n",
        "    self.up_double_conv_1 = double_conv(1024,512) \n",
        "    self.up_double_conv_2 = double_conv(512, 256) \n",
        "    self.up_double_conv_3 = double_conv(256,128)\n",
        "    self.up_double_conv_4 = double_conv(128,64)\n",
        "    # output\n",
        "    self.out = nn.Linear(64*480,1) #batch_size * seq_len\n",
        "    self.dropout = nn.Dropout(p=0.2)\n",
        "\n",
        "  def forward(self, image):\n",
        "    # encoder\n",
        "    conv1 = self.down_conv_1(image) \n",
        "    pool1 = self.max_pool(conv1)\n",
        "    conv2 = self.down_conv_2(pool1) \n",
        "    pool2 = self.max_pool(conv2)\n",
        "    conv3 = self.down_conv_3(pool2) \n",
        "    pool3 = self.max_pool(conv3)\n",
        "    conv4 = self.down_conv_4(pool3)\n",
        "    pool4 = self.max_pool(conv4)\n",
        "    conv5 = self.down_conv_5(pool4)\n",
        "    \n",
        "    # decoder\n",
        "    x = self.up_2x2conv_1(conv5)\n",
        "    x = torch.cat((x,conv4),1)\n",
        "    x = self.up_double_conv_1(x)\n",
        "    \n",
        "    x = self.up_2x2conv_2(x)\n",
        "    x = torch.cat((x,conv3),1)\n",
        "    x = self.up_double_conv_2(x)\n",
        "\n",
        "    x = self.up_2x2conv_3(x)\n",
        "    x = torch.cat((x,conv2),1)\n",
        "    x = self.up_double_conv_3(x)\n",
        "\n",
        "    x = self.up_2x2conv_4(x)\n",
        "    x = torch.cat((x,conv1),1)\n",
        "    x = self.up_double_conv_4(x)\n",
        "    x = x.reshape((x.shape[0],64*480))\n",
        "\n",
        "    out = self.out(x)\n",
        "    out = self.dropout(out)\n",
        "\n",
        "    return out\n",
        "\n",
        "class ShortUNet(nn.Module):\n",
        "\n",
        "  def __init__(self):\n",
        "    super(ShortUNet,self).__init__()\n",
        "\n",
        "    # contraction\n",
        "    self.down_conv_1 = double_conv(1,64)\n",
        "    self.down_conv_2 = double_conv(64,128)\n",
        "    self.down_conv_3 = double_conv(128,256)\n",
        "    self.down_conv_4 = double_conv(256,512)\n",
        "    self.down_conv_5 = double_conv(512,1024)\n",
        "    # max pooling\n",
        "    self.max_pool = nn.MaxPool1d(kernel_size=2, stride=2, ceil_mode=True)\n",
        "    # expansion \n",
        "    self.up_2x2conv_1 = nn.ConvTranspose1d(1024, 512, kernel_size=2, stride=2).float()\n",
        "    self.up_2x2conv_2 = nn.ConvTranspose1d(512, 256, kernel_size=2, stride=2).float()\n",
        "    self.up_2x2conv_3 = nn.ConvTranspose1d(256, 128, kernel_size=2, stride=2).float()\n",
        "    self.up_2x2conv_4 = nn.ConvTranspose1d(128, 64, kernel_size=2, stride=2).float()\n",
        "    self.up_double_conv_1 = double_conv(1024,512) \n",
        "    self.up_double_conv_2 = double_conv(512, 256) \n",
        "    self.up_double_conv_3 = double_conv(256,128)\n",
        "    self.up_double_conv_4 = double_conv(128,64)\n",
        "    # output\n",
        "    #self.out = nn.Conv1d(in_channels=64, out_channels=1, kernel_size=1).double()\n",
        "    self.out = nn.Linear(64*480,1)\n",
        "    self.dropout = nn.Dropout(p=0.2)\n",
        "\n",
        "  def forward(self, image):\n",
        "    # encoder\n",
        "    conv1 = self.down_conv_1(image) \n",
        "    pool1 = self.max_pool(conv1)\n",
        "    conv2 = self.down_conv_2(pool1) \n",
        "    pool2 = self.max_pool(conv2)\n",
        "    conv3 = self.down_conv_3(pool2) \n",
        "    pool3 = self.max_pool(conv3)\n",
        "    conv4 = self.down_conv_4(pool3)\n",
        "    \n",
        "    # decoder\n",
        "    x = self.up_2x2conv_2(conv4)\n",
        "    x = torch.cat((x,conv3),1)\n",
        "    x = self.up_double_conv_2(x)\n",
        "\n",
        "    x = self.up_2x2conv_3(x)\n",
        "    x = torch.cat((x,conv2),1)\n",
        "    x = self.up_double_conv_3(x)\n",
        "\n",
        "    x = self.up_2x2conv_4(x)\n",
        "    x = torch.cat((x,conv1),1)\n",
        "    x = self.up_double_conv_4(x)\n",
        "    x = x.reshape((x.shape[0],64*480))\n",
        "    \n",
        "    # output\n",
        "    out = self.out(x)\n",
        "    out = self.dropout(out)\n",
        "\n",
        "    return out\n",
        "\n",
        "class ShortUNet_red_dim(nn.Module):\n",
        "\n",
        "  def __init__(self):\n",
        "    super(ShortUNet_red_dim,self).__init__()\n",
        "\n",
        "    # contraction\n",
        "    self.down_conv_1 = double_conv(1,32)\n",
        "    self.down_conv_2 = double_conv(32,64)\n",
        "    self.down_conv_3 = double_conv(64,128)\n",
        "    self.down_conv_4 = double_conv(128,256)\n",
        "    # max pooling\n",
        "    self.max_pool = nn.MaxPool1d(kernel_size=2, stride=2, ceil_mode=True)\n",
        "    # expansion \n",
        "    self.up_2x2conv_1 = nn.ConvTranspose1d(512, 256, kernel_size=2, stride=2).float()\n",
        "    self.up_2x2conv_2 = nn.ConvTranspose1d(256, 128, kernel_size=2, stride=2).float()\n",
        "    self.up_2x2conv_3 = nn.ConvTranspose1d(128, 64, kernel_size=2, stride=2).float()\n",
        "    self.up_2x2conv_4 = nn.ConvTranspose1d(64, 32, kernel_size=2, stride=2).float()\n",
        "    self.up_double_conv_1 = double_conv(512,256) \n",
        "    self.up_double_conv_2 = double_conv(256,128) \n",
        "    self.up_double_conv_3 = double_conv(128,64)\n",
        "    self.up_double_conv_4 = double_conv(64,32)\n",
        "    # output\n",
        "    #self.out = nn.Conv1d(in_channels=64, out_channels=1, kernel_size=1).double()\n",
        "    self.out = nn.Linear(32*480,1)\n",
        "    self.dropout = nn.Dropout(p=0.2)\n",
        "\n",
        "  def forward(self, image):\n",
        "    # encoder\n",
        "    conv1 = self.down_conv_1(image) \n",
        "    pool1 = self.max_pool(conv1)\n",
        "    conv2 = self.down_conv_2(pool1) \n",
        "    pool2 = self.max_pool(conv2)\n",
        "    conv3 = self.down_conv_3(pool2) \n",
        "    pool3 = self.max_pool(conv3)\n",
        "    conv4 = self.down_conv_4(pool3)\n",
        "    \n",
        "    # decoder\n",
        "    x = self.up_2x2conv_2(conv4)\n",
        "    x = torch.cat((x,conv3),1)\n",
        "    x = self.up_double_conv_2(x)\n",
        "\n",
        "    x = self.up_2x2conv_3(x)\n",
        "    x = torch.cat((x,conv2),1)\n",
        "    x = self.up_double_conv_3(x)\n",
        "\n",
        "    x = self.up_2x2conv_4(x)\n",
        "    x = torch.cat((x,conv1),1)\n",
        "    x = self.up_double_conv_4(x)\n",
        "    x = x.reshape((x.shape[0],32*480))\n",
        "    \n",
        "    # output\n",
        "    out = self.out(x)\n",
        "    out = self.dropout(out)\n",
        "\n",
        "    return out"
      ],
      "execution_count": null,
      "outputs": []
    },
    {
      "cell_type": "code",
      "metadata": {
        "id": "LHuKuIIF54vy"
      },
      "source": [
        "def eval_UNet(model, valid_loader, loss_fn):\n",
        "    model.eval()\n",
        "\n",
        "    val_loss = 0\n",
        "    with torch.no_grad():\n",
        "        for batch, label in valid_loader:\n",
        "            batch = batch.to(device)\n",
        "            label = label.to(device)     \n",
        "            out = model(batch)\n",
        "            loss = loss_fn(out.squeeze(), label.squeeze())\n",
        "            val_loss += loss.item()\n",
        "\n",
        "    return val_loss\n",
        "\n",
        "def train_loop_UNet(model, train_loader, optimizer, loss_fn, device,epochs,valid_loader = None):\n",
        "\n",
        "    best_model = model.state_dict()\n",
        "    best_val_loss = 1\n",
        "    start_time = time.time()\n",
        "\n",
        "    for epoch in range(epochs):\n",
        "        model.train()\n",
        "        train_loss = 0\n",
        "        \n",
        "        for batch, label in train_loader:\n",
        "            optimizer.zero_grad()\n",
        "            batch = batch.to(device)\n",
        "            label = label.to(device)\n",
        "            out = model(batch)\n",
        "            loss = loss_fn(out.view(-1),label)\n",
        "            torch.nn.utils.clip_grad_norm_(model.parameters(), 1.0)\n",
        "            loss.backward()\n",
        "            optimizer.step()\n",
        "            train_loss += loss.item()\n",
        "\n",
        "        val_loss = eval_UNet(model, valid_loader, loss_fn)\n",
        "\n",
        "        if (epoch+1) % 10 == 0 or epoch == 0:\n",
        "            print('=>Epoch: {} Train loss: {:.4f}, Val loss: {:.4f}, Time epoch: {:.2f}'.format(epoch+1, train_loss/len(train_loader), val_loss/len(valid_loader), time.time() - start_time))\n",
        "            start_time = time.time()\n",
        "\n",
        "        if val_loss < best_val_loss:\n",
        "            best_model = model.state_dict()\n",
        "            best_val_loss = val_loss\n",
        "\n",
        "    model.load_state_dict(best_model)\n",
        "\n",
        "    return model"
      ],
      "execution_count": null,
      "outputs": []
    },
    {
      "cell_type": "markdown",
      "metadata": {
        "id": "RFikPVlIUvV2"
      },
      "source": [
        "####Loop for Neural network"
      ]
    },
    {
      "cell_type": "code",
      "metadata": {
        "id": "2VGnCEPttBM-"
      },
      "source": [
        "batch_size = 64\n",
        "epochs = 10\n",
        "lr = 1e-4\n",
        "loss_fn = nn.BCEWithLogitsLoss()\n",
        "\n",
        "def Neural_loop(model, subject, loop, lr, epochs,Unet = True, limit = 0.5, batch = batch_size):\n",
        "    all_evaluations = []\n",
        "    all_models = []\n",
        "    all_states = []\n",
        "    batch_sz = batch\n",
        "\n",
        "    for fold in range(5):\n",
        "        print(\"Fold: \" + str(fold))\n",
        "        xtrain,ytrain,xtest,ytest, xval, yval = all_subjects_fold[subject][fold]\n",
        "\n",
        "        train_prepper = dataprepper(xtrain,ytrain)\n",
        "        val_prepper = dataprepper(xval,yval)\n",
        "        test_prepper = dataprepper(xtest,ytest)\n",
        "\n",
        "        if Unet == False:\n",
        "            batch_sz = 20\n",
        "\n",
        "        train_loader =  torch.utils.data.DataLoader(train_prepper, batch_size = batch_sz, num_workers=2,pin_memory=True)\n",
        "        val_loader =  torch.utils.data.DataLoader(val_prepper, batch_size = batch_sz, num_workers=2,pin_memory=True)\n",
        "        test_loader =  torch.utils.data.DataLoader(test_prepper, batch_size = batch_sz, num_workers=2,pin_memory=True)\n",
        "\n",
        "        if Unet == True:\n",
        "            model = ShortUNet().to(device)\n",
        "            optim = torch.optim.Adam(model.parameters(),lr=lr,weight_decay=1e-4)\n",
        "            outmodel = loop(model, train_loader,optim, loss_fn, device,epochs, val_loader)\n",
        "            preds_, probs_ = make_preds(outmodel, test_loader,limit=limit)\n",
        "        else:\n",
        "            model = BaseCNN().to(device)\n",
        "            optim = torch.optim.Adam(model.parameters(),lr=lr,weight_decay=1e-4)\n",
        "            outmodel, out_states = loop(model, train_loader,optim, loss_fn, device,epochs, val_loader)\n",
        "            preds_, probs_ = make_preds(outmodel, test_loader,out_states,limit=limit)\n",
        "            all_states.append(out_states)\n",
        "\n",
        "        eval_metrics = evaluation(ytest, preds_, probs_)\n",
        "        all_evaluations.append(eval_metrics)\n",
        "        all_models.append(outmodel)\n",
        "\n",
        "    if Unet == True:\n",
        "        return all_evaluations, all_models\n",
        "    else:\n",
        "        return all_evaluations, all_models, all_states\n",
        "\n",
        "def Neural_loop_cross(model, subject, loop, lr, epochs,Unet = True, limit = 0.5, batch = batch_size):\n",
        "    all_evaluations = []\n",
        "    all_models = []\n",
        "    all_states = []\n",
        "    batch_sz = batch\n",
        "\n",
        "    for sub in range(26):\n",
        "        print(\"Sub: \" + str(sub))\n",
        "        xtrain,ytrain,xtest,ytest, xval, yval = all_subjects_cross[sub]\n",
        "\n",
        "        train_prepper = dataprepper(xtrain,ytrain)\n",
        "        val_prepper = dataprepper(xval,yval)\n",
        "        test_prepper = dataprepper(xtest,ytest)\n",
        "\n",
        "        if Unet == False:\n",
        "            batch_sz = 20\n",
        "\n",
        "        train_loader =  torch.utils.data.DataLoader(train_prepper, batch_size = batch_sz, num_workers=2,pin_memory=True)\n",
        "        val_loader =  torch.utils.data.DataLoader(val_prepper, batch_size = batch_sz, num_workers=2,pin_memory=True)\n",
        "        test_loader =  torch.utils.data.DataLoader(test_prepper, batch_size = batch_sz, num_workers=2,pin_memory=True)\n",
        "\n",
        "        if Unet == True:\n",
        "            model = ShortUNet().to(device)\n",
        "            optim = torch.optim.Adam(model.parameters(),lr=lr,weight_decay=1e-4)\n",
        "            outmodel = loop(model, train_loader,optim, loss_fn, device,epochs, val_loader)\n",
        "            preds_, probs_ = make_preds(outmodel, test_loader,limit=limit)\n",
        "        else:\n",
        "            model = BaseCNN().to(device)\n",
        "            optim = torch.optim.Adam(model.parameters(),lr=lr,weight_decay=1e-4)\n",
        "            outmodel, out_states = loop(model, train_loader,optim, loss_fn, device,epochs, val_loader)\n",
        "            preds_, probs_ = make_preds(outmodel, test_loader,out_states,limit=limit)\n",
        "            all_states.append(out_states)\n",
        "\n",
        "        eval_metrics = evaluation(ytest, preds_, probs_)\n",
        "        all_evaluations.append(eval_metrics)\n",
        "        all_models.append(outmodel)\n",
        "\n",
        "    if Unet == True:\n",
        "        return all_evaluations, all_models\n",
        "    else:\n",
        "        return all_evaluations, all_models, all_states"
      ],
      "execution_count": null,
      "outputs": []
    },
    {
      "cell_type": "code",
      "metadata": {
        "id": "ikzBunKtVTMK"
      },
      "source": [
        "batch_size = 64\n",
        "epochs = 10\n",
        "lr = 1e-4\n",
        "loss_fn = nn.BCEWithLogitsLoss()\n",
        "\n",
        "def Neural_loop_gr_search(model, loop, lr, epochs,Unet = True, limit=0.5):\n",
        "    all_evaluation = []\n",
        "    all_models = []\n",
        "\n",
        "    for subject in range(26):\n",
        "        print(\"Subject: \" + str(subject))\n",
        "        xtrain,ytrain,xtest,ytest, xval, yval = all_subjects[subject]\n",
        "\n",
        "        train_prepper = dataprepper(xtrain,ytrain)\n",
        "        val_prepper = dataprepper(xval,yval)\n",
        "\n",
        "        train_loader =  torch.utils.data.DataLoader(train_prepper, batch_size = batch_size, num_workers=2,pin_memory=True)\n",
        "        val_loader =  torch.utils.data.DataLoader(val_prepper, batch_size = batch_size, num_workers=2,pin_memory=True)\n",
        "\n",
        "        model = model\n",
        "        optim = torch.optim.Adam(model.parameters(),lr=lr,weight_decay=1e-4)\n",
        "\n",
        "        if Unet == True:\n",
        "            outmodel = loop(model, train_loader,optim, loss_fn, device,epochs, val_loader)\n",
        "            preds_, probs_ = make_preds(outmodel, val_loader,limit=limit)\n",
        "            all_models.append(outmodel)\n",
        "        else:\n",
        "            outmodel, out_states = loop(model, train_loader,optim, loss_fn, device,epochs, val_loader)\n",
        "            preds_, probs_ = make_preds(outmodel, val_loader,out_states,limit=limit)\n",
        "            all_models.append((outmodel,out_states))\n",
        "\n",
        "        eval_metrics = evaluation(yval, preds_, probs_)\n",
        "        all_evaluation.append(eval_metrics)\n",
        "        \n",
        "\n",
        "    if Unet == True:\n",
        "        return all_evaluation, all_models\n",
        "    else:\n",
        "        return all_evaluation, all_models"
      ],
      "execution_count": null,
      "outputs": []
    },
    {
      "cell_type": "markdown",
      "metadata": {
        "id": "dxCHJjMCPDi7"
      },
      "source": [
        "###Model classification"
      ]
    },
    {
      "cell_type": "markdown",
      "metadata": {
        "id": "pSWz8M1fL27O"
      },
      "source": [
        "####1. Results LDA classifier"
      ]
    },
    {
      "cell_type": "code",
      "metadata": {
        "id": "o-sWx0opaiLt"
      },
      "source": [
        "all_evaluation_LDA, all_model_lda = train_loop(clf_lda)"
      ],
      "execution_count": null,
      "outputs": []
    },
    {
      "cell_type": "code",
      "metadata": {
        "colab": {
          "base_uri": "https://localhost:8080/"
        },
        "id": "nd8pSH6vQABj",
        "outputId": "b6620c31-28f8-45c1-ec6c-550c4a35351b"
      },
      "source": [
        "cols = ['ErrP prec', 'Non_ErrP prec', 'ErrP recall', 'Non_ErrP recall', 'ErrP f', 'Non_ErrP f', 'weighted prec', 'weighted recall', 'weighted_f', 'auc','TP','FP','TN','FN', 'Youdon']\n",
        "\n",
        "all_evaluation_means_lda = []\n",
        "for limit in np.linspace(0.05,0.95,19):\n",
        "    all_evaluation = []\n",
        "    for i in range(26):\n",
        "        xtrain,ytrain,xtest,ytest, xval, yval = all_subjects[i]\n",
        "        \n",
        "        list_prob = all_model_lda[i].predict_proba(xval)[:,1]\n",
        "        list_pred = np.where(list_prob >= limit,1,0)\n",
        "        eval_metrics = evaluation(yval, list_pred, list_prob)\n",
        "\n",
        "        all_evaluation.append(eval_metrics)\n",
        "\n",
        "    all_evaluation_means_lda.append(pd.DataFrame(all_evaluation,columns=cols).mean())"
      ],
      "execution_count": null,
      "outputs": [
        {
          "output_type": "stream",
          "text": [
            "/usr/local/lib/python3.7/dist-packages/sklearn/metrics/_classification.py:1272: UndefinedMetricWarning: Precision and F-score are ill-defined and being set to 0.0 in labels with no predicted samples. Use `zero_division` parameter to control this behavior.\n",
            "  _warn_prf(average, modifier, msg_start, len(result))\n"
          ],
          "name": "stderr"
        }
      ]
    },
    {
      "cell_type": "code",
      "metadata": {
        "colab": {
          "base_uri": "https://localhost:8080/",
          "height": 285
        },
        "id": "jYysCosfYjBZ",
        "outputId": "acd58dd1-5815-4187-bdc4-ed6d8c9c5b09"
      },
      "source": [
        "pd.DataFrame(all_evaluation_means_lda,columns=cols)\n",
        "plt.plot(np.linspace(0.05,0.95,19),pd.DataFrame(all_evaluation_means_lda,columns=cols)['Youdon'])\n",
        "plt.plot(np.linspace(0.05,0.95,19),pd.DataFrame(all_evaluation_means_lda,columns=cols)['ErrP recall'])\n",
        "plt.plot(np.linspace(0.05,0.95,19),pd.DataFrame(all_evaluation_means_lda,columns=cols)['Non_ErrP recall'])\n",
        "plt.plot(np.linspace(0.05,0.95,19),pd.DataFrame(all_evaluation_means_lda,columns=cols)['ErrP prec'])\n",
        "plt.plot(np.linspace(0.05,0.95,19),pd.DataFrame(all_evaluation_means_lda,columns=cols)['Non_ErrP prec'])\n",
        "plt.legend(['Youdon','ErrP recall','Non_ErrP recall','ErrP prec','Non_ErrP prec'],loc='best',bbox_to_anchor=(1,1))"
      ],
      "execution_count": null,
      "outputs": [
        {
          "output_type": "execute_result",
          "data": {
            "text/plain": [
              "<matplotlib.legend.Legend at 0x7fe672adf290>"
            ]
          },
          "metadata": {
            "tags": []
          },
          "execution_count": 86
        },
        {
          "output_type": "display_data",
          "data": {
            "image/png": "[encoded data removed]",
            "text/plain": [
              "<Figure size 432x288 with 1 Axes>"
            ]
          },
          "metadata": {
            "tags": [],
            "needs_background": "light"
          }
        }
      ]
    },
    {
      "cell_type": "code",
      "metadata": {
        "id": "kz2zc6FZRmKU"
      },
      "source": [
        "subject_iterations = []\n",
        "for iteration in range(5):\n",
        "    all_evaluation_LDA, all_model_lda = train_loop(clf_lda)\n",
        "    subject_iterations.append(all_evaluation_LDA)"
      ],
      "execution_count": null,
      "outputs": []
    },
    {
      "cell_type": "markdown",
      "metadata": {
        "id": "YbcKpajrMlzi"
      },
      "source": [
        "####Results UNET"
      ]
    },
    {
      "cell_type": "code",
      "metadata": {
        "id": "pUlkpn46b9W6"
      },
      "source": [
        "all_evaluation_UNET, UNET_model = Neural_loop(UNet().to(device),train_loop_UNet,epochs,Unet=True)"
      ],
      "execution_count": null,
      "outputs": []
    },
    {
      "cell_type": "code",
      "metadata": {
        "id": "cz92eEo5LVsE"
      },
      "source": [
        "grid_epochs = [10,20]\n",
        "grid_lr = [1e-3,1e-4,1e-5]\n",
        "# grid_model = [UNet().to(device),ShortUNet().to(device)]\n",
        "\n",
        "grid_search = []\n",
        "\n",
        "for gr_epoch in grid_epochs:\n",
        "    for gr_lr in grid_lr:\n",
        "        # for gr_model in grid_model:\n",
        "        print(str(gr_epoch) + \" \" + str(gr_lr))\n",
        "        all_evaluation_UNET, UNET_model = Neural_loop_gr_search(UNet().to(device),train_loop_UNet,gr_lr, gr_epoch,Unet=True)\n",
        "        grid_search.append((str(gr_epoch) + \" \" + str(gr_lr),all_evaluation_UNET, UNET_model))"
      ],
      "execution_count": null,
      "outputs": []
    },
    {
      "cell_type": "code",
      "metadata": {
        "id": "MQL_jiv775q7"
      },
      "source": [
        "_, list_of_model = Neural_loop_gr_search(ShortUNet().to(device),train_loop_UNet,1e-4,10)"
      ],
      "execution_count": null,
      "outputs": []
    },
    {
      "cell_type": "code",
      "metadata": {
        "colab": {
          "base_uri": "https://localhost:8080/"
        },
        "id": "1_0iTxV3AzBe",
        "outputId": "010f8163-7c68-4c9e-d42e-1b6e7de340df"
      },
      "source": [
        "\n",
        "xtrain,ytrain,xtest,ytest, xval, yval = all_subjects[0]\n",
        "train_prepper = dataprepper(xtrain,ytrain)\n",
        "val_prepper = dataprepper(xval,yval)\n",
        "\n",
        "train_loader =  torch.utils.data.DataLoader(train_prepper, batch_size = batch_size, num_workers=2,pin_memory=True)\n",
        "val_loader =  torch.utils.data.DataLoader(val_prepper, batch_size = batch_size, num_workers=2,pin_memory=True)\n",
        "\n",
        "list_pred, list_prob = make_preds(list_of_model[0],val_loader,limit=0.5)\n",
        "evaluation(yval, list_pred, list_prob)"
      ],
      "execution_count": null,
      "outputs": [
        {
          "output_type": "execute_result",
          "data": {
            "text/plain": [
              "(0.4954954954954955,\n",
              " 0.8062015503875969,\n",
              " 0.6875,\n",
              " 0.65,\n",
              " 0.5759162303664921,\n",
              " 0.7197231833910035,\n",
              " 0.6508485229415462,\n",
              " 0.66875,\n",
              " 0.6478197068787478,\n",
              " 0.73890625,\n",
              " 55,\n",
              " 56,\n",
              " 104,\n",
              " 25)"
            ]
          },
          "metadata": {
            "tags": []
          },
          "execution_count": 130
        }
      ]
    },
    {
      "cell_type": "code",
      "metadata": {
        "id": "AixPtE2GD5tf"
      },
      "source": [
        "cols = ['ErrP prec', 'Non_ErrP prec', 'ErrP recall', 'Non_ErrP recall', 'ErrP f', 'Non_ErrP f', 'weighted prec', 'weighted recall', 'weighted_f', 'auc','TP','FP','TN','FN', 'Youdon']"
      ],
      "execution_count": null,
      "outputs": []
    },
    {
      "cell_type": "code",
      "metadata": {
        "colab": {
          "base_uri": "https://localhost:8080/"
        },
        "id": "3_R0XQeyAO6V",
        "outputId": "8e54af56-cd73-4705-971b-252f8a17fa70"
      },
      "source": [
        "all_evaluation_means = []\n",
        "for limit in np.linspace(0.05,0.95,19):\n",
        "    all_evaluation = []\n",
        "    for i in range(26):\n",
        "        xtrain,ytrain,xtest,ytest, xval, yval = all_subjects[i]\n",
        "        train_prepper = dataprepper(xtrain,ytrain)\n",
        "        val_prepper = dataprepper(xval,yval)\n",
        "\n",
        "        train_loader =  torch.utils.data.DataLoader(train_prepper, batch_size = batch_size, num_workers=2,pin_memory=True)\n",
        "        val_loader =  torch.utils.data.DataLoader(val_prepper, batch_size = batch_size, num_workers=2,pin_memory=True)\n",
        "        \n",
        "        list_pred, list_prob = make_preds(list_of_model[i],val_loader,limit=limit)\n",
        "        eval_metrics = evaluation(yval, list_pred, list_prob)\n",
        "\n",
        "        all_evaluation.append(eval_metrics)\n",
        "\n",
        "    print(pd.DataFrame(all_evaluation,columns=cols).mean())\n",
        "    all_evaluation_means.append(pd.DataFrame(all_evaluation,columns=cols).mean())"
      ],
      "execution_count": null,
      "outputs": [
        {
          "output_type": "stream",
          "text": [
            "ErrP prec            0.522471\n",
            "Non_ErrP prec        0.742157\n",
            "ErrP recall          0.194614\n",
            "Non_ErrP recall      0.953834\n",
            "ErrP f               0.228355\n",
            "Non_ErrP f           0.825729\n",
            "weighted prec        0.632314\n",
            "weighted recall      0.574224\n",
            "weighted_f           0.527042\n",
            "auc                  0.693452\n",
            "TP                   8.153846\n",
            "FP                   7.846154\n",
            "TN                 166.576923\n",
            "FN                  57.423077\n",
            "Youdon               0.148448\n",
            "dtype: float64\n",
            "ErrP prec            0.525829\n",
            "Non_ErrP prec        0.751110\n",
            "ErrP recall          0.299594\n",
            "Non_ErrP recall      0.924425\n",
            "ErrP f               0.306115\n",
            "Non_ErrP f           0.819702\n",
            "weighted prec        0.638469\n",
            "weighted recall      0.612010\n",
            "weighted_f           0.562909\n",
            "auc                  0.693452\n",
            "TP                  12.730769\n",
            "FP                  12.923077\n",
            "TN                 161.500000\n",
            "FN                  52.846154\n",
            "Youdon               0.224020\n",
            "dtype: float64\n",
            "ErrP prec            0.506518\n",
            "Non_ErrP prec        0.757727\n",
            "ErrP recall          0.350636\n",
            "Non_ErrP recall      0.897575\n",
            "ErrP f               0.341045\n",
            "Non_ErrP f           0.812769\n",
            "weighted prec        0.632122\n",
            "weighted recall      0.624106\n",
            "weighted_f           0.576907\n",
            "auc                  0.693452\n",
            "TP                  16.346154\n",
            "FP                  17.538462\n",
            "TN                 156.884615\n",
            "FN                  49.230769\n",
            "Youdon               0.248211\n",
            "dtype: float64\n",
            "ErrP prec            0.472805\n",
            "Non_ErrP prec        0.761430\n",
            "ErrP recall          0.386756\n",
            "Non_ErrP recall      0.871658\n",
            "ErrP f               0.355397\n",
            "Non_ErrP f           0.804101\n",
            "weighted prec        0.617118\n",
            "weighted recall      0.629207\n",
            "weighted_f           0.579749\n",
            "auc                  0.693452\n",
            "TP                  18.961538\n",
            "FP                  21.923077\n",
            "TN                 152.500000\n",
            "FN                  46.615385\n",
            "Youdon               0.258414\n",
            "dtype: float64\n",
            "ErrP prec            0.448120\n",
            "Non_ErrP prec        0.764003\n",
            "ErrP recall          0.420290\n",
            "Non_ErrP recall      0.846399\n",
            "ErrP f               0.364928\n",
            "Non_ErrP f           0.794271\n",
            "weighted prec        0.606062\n",
            "weighted recall      0.633345\n",
            "weighted_f           0.579600\n",
            "auc                  0.693452\n",
            "TP                  21.038462\n",
            "FP                  26.269231\n",
            "TN                 148.153846\n",
            "FN                  44.538462\n",
            "Youdon               0.266689\n",
            "dtype: float64\n",
            "ErrP prec            0.445192\n",
            "Non_ErrP prec        0.768911\n",
            "ErrP recall          0.459066\n",
            "Non_ErrP recall      0.823221\n",
            "ErrP f               0.386329\n",
            "Non_ErrP f           0.786539\n",
            "weighted prec        0.607051\n",
            "weighted recall      0.641144\n",
            "weighted_f           0.586434\n",
            "auc                  0.693452\n",
            "TP                  23.884615\n",
            "FP                  30.115385\n",
            "TN                 144.307692\n",
            "FN                  41.692308\n",
            "Youdon               0.282287\n",
            "dtype: float64\n",
            "ErrP prec            0.439762\n",
            "Non_ErrP prec        0.772555\n",
            "ErrP recall          0.490541\n",
            "Non_ErrP recall      0.799574\n",
            "ErrP f               0.399515\n",
            "Non_ErrP f           0.777150\n",
            "weighted prec        0.606158\n",
            "weighted recall      0.645057\n",
            "weighted_f           0.588333\n",
            "auc                  0.693452\n",
            "TP                  26.153846\n",
            "FP                  34.115385\n",
            "TN                 140.307692\n",
            "FN                  39.423077\n",
            "Youdon               0.290115\n",
            "dtype: float64\n",
            "ErrP prec            0.426170\n",
            "Non_ErrP prec        0.773371\n",
            "ErrP recall          0.513570\n",
            "Non_ErrP recall      0.774926\n",
            "ErrP f               0.403854\n",
            "Non_ErrP f           0.765219\n",
            "weighted prec        0.599770\n",
            "weighted recall      0.644248\n",
            "weighted_f           0.584537\n",
            "auc                  0.693452\n",
            "TP                  27.730769\n",
            "FP                  38.461538\n",
            "TN                 135.961538\n",
            "FN                  37.846154\n",
            "Youdon               0.288496\n",
            "dtype: float64\n",
            "ErrP prec            0.415255\n",
            "Non_ErrP prec        0.776063\n",
            "ErrP recall          0.541876\n",
            "Non_ErrP recall      0.750213\n",
            "ErrP f               0.411259\n",
            "Non_ErrP f           0.753914\n",
            "weighted prec        0.595659\n",
            "weighted recall      0.646045\n",
            "weighted_f           0.582586\n",
            "auc                  0.693452\n",
            "TP                  29.730769\n",
            "FP                  42.730769\n",
            "TN                 131.692308\n",
            "FN                  35.846154\n",
            "Youdon               0.292089\n",
            "dtype: float64\n",
            "ErrP prec            0.401577\n",
            "Non_ErrP prec        0.778747\n",
            "ErrP recall          0.563451\n",
            "Non_ErrP recall      0.725674\n",
            "ErrP f               0.414369\n",
            "Non_ErrP f           0.742253\n",
            "weighted prec        0.590162\n",
            "weighted recall      0.644562\n",
            "weighted_f           0.578311\n",
            "auc                  0.693452\n",
            "TP                  31.653846\n",
            "FP                  47.000000\n",
            "TN                 127.423077\n",
            "FN                  33.923077\n",
            "Youdon               0.289125\n",
            "dtype: float64\n",
            "ErrP prec            0.387458\n",
            "Non_ErrP prec        0.780515\n",
            "ErrP recall          0.586307\n",
            "Non_ErrP recall      0.699149\n",
            "ErrP f               0.415281\n",
            "Non_ErrP f           0.728565\n",
            "weighted prec        0.583986\n",
            "weighted recall      0.642728\n",
            "weighted_f           0.571923\n",
            "auc                  0.693452\n",
            "TP                  33.307692\n",
            "FP                  51.538462\n",
            "TN                 122.884615\n",
            "FN                  32.269231\n",
            "Youdon               0.285456\n",
            "dtype: float64\n",
            "ErrP prec            0.382805\n",
            "Non_ErrP prec        0.783915\n",
            "ErrP recall          0.614889\n",
            "Non_ErrP recall      0.673457\n",
            "ErrP f               0.421220\n",
            "Non_ErrP f           0.715190\n",
            "weighted prec        0.583360\n",
            "weighted recall      0.644173\n",
            "weighted_f           0.568205\n",
            "auc                  0.693452\n",
            "TP                  35.192308\n",
            "FP                  56.076923\n",
            "TN                 118.346154\n",
            "FN                  30.384615\n",
            "Youdon               0.288346\n",
            "dtype: float64\n",
            "ErrP prec            0.376413\n",
            "Non_ErrP prec        0.788190\n",
            "ErrP recall          0.643360\n",
            "Non_ErrP recall      0.645009\n",
            "ErrP f               0.426188\n",
            "Non_ErrP f           0.700155\n",
            "weighted prec        0.582302\n",
            "weighted recall      0.644184\n",
            "weighted_f           0.563172\n",
            "auc                  0.693452\n",
            "TP                  37.423077\n",
            "FP                  61.038462\n",
            "TN                 113.384615\n",
            "FN                  28.153846\n",
            "Youdon               0.288369\n",
            "dtype: float64\n",
            "ErrP prec            0.364396\n",
            "Non_ErrP prec        0.789368\n",
            "ErrP recall          0.665397\n",
            "Non_ErrP recall      0.610156\n",
            "ErrP f               0.423667\n",
            "Non_ErrP f           0.678181\n",
            "weighted prec        0.576882\n",
            "weighted recall      0.637776\n",
            "weighted_f           0.550924\n",
            "auc                  0.693452\n",
            "TP                  39.269231\n",
            "FP                  67.192308\n",
            "TN                 107.230769\n",
            "FN                  26.307692\n",
            "Youdon               0.275553\n",
            "dtype: float64\n",
            "ErrP prec           0.352821\n",
            "Non_ErrP prec       0.791081\n",
            "ErrP recall         0.694429\n",
            "Non_ErrP recall     0.566649\n",
            "ErrP f              0.422649\n",
            "Non_ErrP f          0.649365\n",
            "weighted prec       0.571951\n",
            "weighted recall     0.630539\n",
            "weighted_f          0.536007\n",
            "auc                 0.693452\n",
            "TP                 41.576923\n",
            "FP                 74.884615\n",
            "TN                 99.538462\n",
            "FN                 24.000000\n",
            "Youdon              0.261078\n",
            "dtype: float64\n",
            "ErrP prec           0.344704\n",
            "Non_ErrP prec       0.800423\n",
            "ErrP recall         0.739079\n",
            "Non_ErrP recall     0.522498\n",
            "ErrP f              0.428615\n",
            "Non_ErrP f          0.620861\n",
            "weighted prec       0.572564\n",
            "weighted recall     0.630788\n",
            "weighted_f          0.524738\n",
            "auc                 0.693452\n",
            "TP                 44.769231\n",
            "FP                 82.576923\n",
            "TN                 91.846154\n",
            "FN                 20.807692\n",
            "Youdon              0.261576\n",
            "dtype: float64\n",
            "ErrP prec           0.328329\n",
            "Non_ErrP prec       0.794980\n",
            "ErrP recall         0.764367\n",
            "Non_ErrP recall     0.462832\n",
            "ErrP f              0.420751\n",
            "Non_ErrP f          0.573205\n",
            "weighted prec       0.561655\n",
            "weighted recall     0.613600\n",
            "weighted_f          0.496978\n",
            "auc                 0.693452\n",
            "TP                 46.730769\n",
            "FP                 93.038462\n",
            "TN                 81.384615\n",
            "FN                 18.846154\n",
            "Youdon              0.227199\n",
            "dtype: float64\n",
            "ErrP prec            0.316552\n",
            "Non_ErrP prec        0.800296\n",
            "ErrP recall          0.807850\n",
            "Non_ErrP recall      0.391202\n",
            "ErrP f               0.418553\n",
            "Non_ErrP f           0.511862\n",
            "weighted prec        0.558424\n",
            "weighted recall      0.599526\n",
            "weighted_f           0.465208\n",
            "auc                  0.693452\n",
            "TP                  50.076923\n",
            "FP                 105.615385\n",
            "TN                  68.807692\n",
            "FN                  15.500000\n",
            "Youdon               0.199053\n",
            "dtype: float64\n",
            "ErrP prec            0.308266\n",
            "Non_ErrP prec        0.815301\n",
            "ErrP recall          0.882863\n",
            "Non_ErrP recall      0.291633\n",
            "ErrP f               0.423554\n",
            "Non_ErrP f           0.410871\n",
            "weighted prec        0.561784\n",
            "weighted recall      0.587248\n",
            "weighted_f           0.417212\n",
            "auc                  0.693452\n",
            "TP                  55.692308\n",
            "FP                 123.115385\n",
            "TN                  51.307692\n",
            "FN                   9.884615\n",
            "Youdon               0.174496\n",
            "dtype: float64\n"
          ],
          "name": "stdout"
        }
      ]
    },
    {
      "cell_type": "code",
      "metadata": {
        "colab": {
          "base_uri": "https://localhost:8080/",
          "height": 655
        },
        "id": "VFrlB7XeIDPD",
        "outputId": "714de125-32ae-420f-84bd-a16791d4acf2"
      },
      "source": [
        "pd.DataFrame(all_evaluation_means,columns=cols)"
      ],
      "execution_count": null,
      "outputs": [
        {
          "output_type": "execute_result",
          "data": {
            "text/html": [
              "<div>\n",
              "<style scoped>\n",
              "    .dataframe tbody tr th:only-of-type {\n",
              "        vertical-align: middle;\n",
              "    }\n",
              "\n",
              "    .dataframe tbody tr th {\n",
              "        vertical-align: top;\n",
              "    }\n",
              "\n",
              "    .dataframe thead th {\n",
              "        text-align: right;\n",
              "    }\n",
              "</style>\n",
              "<table border=\"1\" class=\"dataframe\">\n",
              "  <thead>\n",
              "    <tr style=\"text-align: right;\">\n",
              "      <th></th>\n",
              "      <th>ErrP prec</th>\n",
              "      <th>Non_ErrP prec</th>\n",
              "      <th>ErrP recall</th>\n",
              "      <th>Non_ErrP recall</th>\n",
              "      <th>ErrP f</th>\n",
              "      <th>Non_ErrP f</th>\n",
              "      <th>weighted prec</th>\n",
              "      <th>weighted recall</th>\n",
              "      <th>weighted_f</th>\n",
              "      <th>auc</th>\n",
              "      <th>TP</th>\n",
              "      <th>FP</th>\n",
              "      <th>TN</th>\n",
              "      <th>FN</th>\n",
              "      <th>Youdon</th>\n",
              "    </tr>\n",
              "  </thead>\n",
              "  <tbody>\n",
              "    <tr>\n",
              "      <th>0</th>\n",
              "      <td>0.522471</td>\n",
              "      <td>0.742157</td>\n",
              "      <td>0.194614</td>\n",
              "      <td>0.953834</td>\n",
              "      <td>0.228355</td>\n",
              "      <td>0.825729</td>\n",
              "      <td>0.632314</td>\n",
              "      <td>0.574224</td>\n",
              "      <td>0.527042</td>\n",
              "      <td>0.693452</td>\n",
              "      <td>8.153846</td>\n",
              "      <td>7.846154</td>\n",
              "      <td>166.576923</td>\n",
              "      <td>57.423077</td>\n",
              "      <td>0.148448</td>\n",
              "    </tr>\n",
              "    <tr>\n",
              "      <th>1</th>\n",
              "      <td>0.525829</td>\n",
              "      <td>0.751110</td>\n",
              "      <td>0.299594</td>\n",
              "      <td>0.924425</td>\n",
              "      <td>0.306115</td>\n",
              "      <td>0.819702</td>\n",
              "      <td>0.638469</td>\n",
              "      <td>0.612010</td>\n",
              "      <td>0.562909</td>\n",
              "      <td>0.693452</td>\n",
              "      <td>12.730769</td>\n",
              "      <td>12.923077</td>\n",
              "      <td>161.500000</td>\n",
              "      <td>52.846154</td>\n",
              "      <td>0.224020</td>\n",
              "    </tr>\n",
              "    <tr>\n",
              "      <th>2</th>\n",
              "      <td>0.506518</td>\n",
              "      <td>0.757727</td>\n",
              "      <td>0.350636</td>\n",
              "      <td>0.897575</td>\n",
              "      <td>0.341045</td>\n",
              "      <td>0.812769</td>\n",
              "      <td>0.632122</td>\n",
              "      <td>0.624106</td>\n",
              "      <td>0.576907</td>\n",
              "      <td>0.693452</td>\n",
              "      <td>16.346154</td>\n",
              "      <td>17.538462</td>\n",
              "      <td>156.884615</td>\n",
              "      <td>49.230769</td>\n",
              "      <td>0.248211</td>\n",
              "    </tr>\n",
              "    <tr>\n",
              "      <th>3</th>\n",
              "      <td>0.472805</td>\n",
              "      <td>0.761430</td>\n",
              "      <td>0.386756</td>\n",
              "      <td>0.871658</td>\n",
              "      <td>0.355397</td>\n",
              "      <td>0.804101</td>\n",
              "      <td>0.617118</td>\n",
              "      <td>0.629207</td>\n",
              "      <td>0.579749</td>\n",
              "      <td>0.693452</td>\n",
              "      <td>18.961538</td>\n",
              "      <td>21.923077</td>\n",
              "      <td>152.500000</td>\n",
              "      <td>46.615385</td>\n",
              "      <td>0.258414</td>\n",
              "    </tr>\n",
              "    <tr>\n",
              "      <th>4</th>\n",
              "      <td>0.448120</td>\n",
              "      <td>0.764003</td>\n",
              "      <td>0.420290</td>\n",
              "      <td>0.846399</td>\n",
              "      <td>0.364928</td>\n",
              "      <td>0.794271</td>\n",
              "      <td>0.606062</td>\n",
              "      <td>0.633345</td>\n",
              "      <td>0.579600</td>\n",
              "      <td>0.693452</td>\n",
              "      <td>21.038462</td>\n",
              "      <td>26.269231</td>\n",
              "      <td>148.153846</td>\n",
              "      <td>44.538462</td>\n",
              "      <td>0.266689</td>\n",
              "    </tr>\n",
              "    <tr>\n",
              "      <th>5</th>\n",
              "      <td>0.445192</td>\n",
              "      <td>0.768911</td>\n",
              "      <td>0.459066</td>\n",
              "      <td>0.823221</td>\n",
              "      <td>0.386329</td>\n",
              "      <td>0.786539</td>\n",
              "      <td>0.607051</td>\n",
              "      <td>0.641144</td>\n",
              "      <td>0.586434</td>\n",
              "      <td>0.693452</td>\n",
              "      <td>23.884615</td>\n",
              "      <td>30.115385</td>\n",
              "      <td>144.307692</td>\n",
              "      <td>41.692308</td>\n",
              "      <td>0.282287</td>\n",
              "    </tr>\n",
              "    <tr>\n",
              "      <th>6</th>\n",
              "      <td>0.439762</td>\n",
              "      <td>0.772555</td>\n",
              "      <td>0.490541</td>\n",
              "      <td>0.799574</td>\n",
              "      <td>0.399515</td>\n",
              "      <td>0.777150</td>\n",
              "      <td>0.606158</td>\n",
              "      <td>0.645057</td>\n",
              "      <td>0.588333</td>\n",
              "      <td>0.693452</td>\n",
              "      <td>26.153846</td>\n",
              "      <td>34.115385</td>\n",
              "      <td>140.307692</td>\n",
              "      <td>39.423077</td>\n",
              "      <td>0.290115</td>\n",
              "    </tr>\n",
              "    <tr>\n",
              "      <th>7</th>\n",
              "      <td>0.426170</td>\n",
              "      <td>0.773371</td>\n",
              "      <td>0.513570</td>\n",
              "      <td>0.774926</td>\n",
              "      <td>0.403854</td>\n",
              "      <td>0.765219</td>\n",
              "      <td>0.599770</td>\n",
              "      <td>0.644248</td>\n",
              "      <td>0.584537</td>\n",
              "      <td>0.693452</td>\n",
              "      <td>27.730769</td>\n",
              "      <td>38.461538</td>\n",
              "      <td>135.961538</td>\n",
              "      <td>37.846154</td>\n",
              "      <td>0.288496</td>\n",
              "    </tr>\n",
              "    <tr>\n",
              "      <th>8</th>\n",
              "      <td>0.415255</td>\n",
              "      <td>0.776063</td>\n",
              "      <td>0.541876</td>\n",
              "      <td>0.750213</td>\n",
              "      <td>0.411259</td>\n",
              "      <td>0.753914</td>\n",
              "      <td>0.595659</td>\n",
              "      <td>0.646045</td>\n",
              "      <td>0.582586</td>\n",
              "      <td>0.693452</td>\n",
              "      <td>29.730769</td>\n",
              "      <td>42.730769</td>\n",
              "      <td>131.692308</td>\n",
              "      <td>35.846154</td>\n",
              "      <td>0.292089</td>\n",
              "    </tr>\n",
              "    <tr>\n",
              "      <th>9</th>\n",
              "      <td>0.401577</td>\n",
              "      <td>0.778747</td>\n",
              "      <td>0.563451</td>\n",
              "      <td>0.725674</td>\n",
              "      <td>0.414369</td>\n",
              "      <td>0.742253</td>\n",
              "      <td>0.590162</td>\n",
              "      <td>0.644562</td>\n",
              "      <td>0.578311</td>\n",
              "      <td>0.693452</td>\n",
              "      <td>31.653846</td>\n",
              "      <td>47.000000</td>\n",
              "      <td>127.423077</td>\n",
              "      <td>33.923077</td>\n",
              "      <td>0.289125</td>\n",
              "    </tr>\n",
              "    <tr>\n",
              "      <th>10</th>\n",
              "      <td>0.387458</td>\n",
              "      <td>0.780515</td>\n",
              "      <td>0.586307</td>\n",
              "      <td>0.699149</td>\n",
              "      <td>0.415281</td>\n",
              "      <td>0.728565</td>\n",
              "      <td>0.583986</td>\n",
              "      <td>0.642728</td>\n",
              "      <td>0.571923</td>\n",
              "      <td>0.693452</td>\n",
              "      <td>33.307692</td>\n",
              "      <td>51.538462</td>\n",
              "      <td>122.884615</td>\n",
              "      <td>32.269231</td>\n",
              "      <td>0.285456</td>\n",
              "    </tr>\n",
              "    <tr>\n",
              "      <th>11</th>\n",
              "      <td>0.382805</td>\n",
              "      <td>0.783915</td>\n",
              "      <td>0.614889</td>\n",
              "      <td>0.673457</td>\n",
              "      <td>0.421220</td>\n",
              "      <td>0.715190</td>\n",
              "      <td>0.583360</td>\n",
              "      <td>0.644173</td>\n",
              "      <td>0.568205</td>\n",
              "      <td>0.693452</td>\n",
              "      <td>35.192308</td>\n",
              "      <td>56.076923</td>\n",
              "      <td>118.346154</td>\n",
              "      <td>30.384615</td>\n",
              "      <td>0.288346</td>\n",
              "    </tr>\n",
              "    <tr>\n",
              "      <th>12</th>\n",
              "      <td>0.376413</td>\n",
              "      <td>0.788190</td>\n",
              "      <td>0.643360</td>\n",
              "      <td>0.645009</td>\n",
              "      <td>0.426188</td>\n",
              "      <td>0.700155</td>\n",
              "      <td>0.582302</td>\n",
              "      <td>0.644184</td>\n",
              "      <td>0.563172</td>\n",
              "      <td>0.693452</td>\n",
              "      <td>37.423077</td>\n",
              "      <td>61.038462</td>\n",
              "      <td>113.384615</td>\n",
              "      <td>28.153846</td>\n",
              "      <td>0.288369</td>\n",
              "    </tr>\n",
              "    <tr>\n",
              "      <th>13</th>\n",
              "      <td>0.364396</td>\n",
              "      <td>0.789368</td>\n",
              "      <td>0.665397</td>\n",
              "      <td>0.610156</td>\n",
              "      <td>0.423667</td>\n",
              "      <td>0.678181</td>\n",
              "      <td>0.576882</td>\n",
              "      <td>0.637776</td>\n",
              "      <td>0.550924</td>\n",
              "      <td>0.693452</td>\n",
              "      <td>39.269231</td>\n",
              "      <td>67.192308</td>\n",
              "      <td>107.230769</td>\n",
              "      <td>26.307692</td>\n",
              "      <td>0.275553</td>\n",
              "    </tr>\n",
              "    <tr>\n",
              "      <th>14</th>\n",
              "      <td>0.352821</td>\n",
              "      <td>0.791081</td>\n",
              "      <td>0.694429</td>\n",
              "      <td>0.566649</td>\n",
              "      <td>0.422649</td>\n",
              "      <td>0.649365</td>\n",
              "      <td>0.571951</td>\n",
              "      <td>0.630539</td>\n",
              "      <td>0.536007</td>\n",
              "      <td>0.693452</td>\n",
              "      <td>41.576923</td>\n",
              "      <td>74.884615</td>\n",
              "      <td>99.538462</td>\n",
              "      <td>24.000000</td>\n",
              "      <td>0.261078</td>\n",
              "    </tr>\n",
              "    <tr>\n",
              "      <th>15</th>\n",
              "      <td>0.344704</td>\n",
              "      <td>0.800423</td>\n",
              "      <td>0.739079</td>\n",
              "      <td>0.522498</td>\n",
              "      <td>0.428615</td>\n",
              "      <td>0.620861</td>\n",
              "      <td>0.572564</td>\n",
              "      <td>0.630788</td>\n",
              "      <td>0.524738</td>\n",
              "      <td>0.693452</td>\n",
              "      <td>44.769231</td>\n",
              "      <td>82.576923</td>\n",
              "      <td>91.846154</td>\n",
              "      <td>20.807692</td>\n",
              "      <td>0.261576</td>\n",
              "    </tr>\n",
              "    <tr>\n",
              "      <th>16</th>\n",
              "      <td>0.328329</td>\n",
              "      <td>0.794980</td>\n",
              "      <td>0.764367</td>\n",
              "      <td>0.462832</td>\n",
              "      <td>0.420751</td>\n",
              "      <td>0.573205</td>\n",
              "      <td>0.561655</td>\n",
              "      <td>0.613600</td>\n",
              "      <td>0.496978</td>\n",
              "      <td>0.693452</td>\n",
              "      <td>46.730769</td>\n",
              "      <td>93.038462</td>\n",
              "      <td>81.384615</td>\n",
              "      <td>18.846154</td>\n",
              "      <td>0.227199</td>\n",
              "    </tr>\n",
              "    <tr>\n",
              "      <th>17</th>\n",
              "      <td>0.316552</td>\n",
              "      <td>0.800296</td>\n",
              "      <td>0.807850</td>\n",
              "      <td>0.391202</td>\n",
              "      <td>0.418553</td>\n",
              "      <td>0.511862</td>\n",
              "      <td>0.558424</td>\n",
              "      <td>0.599526</td>\n",
              "      <td>0.465208</td>\n",
              "      <td>0.693452</td>\n",
              "      <td>50.076923</td>\n",
              "      <td>105.615385</td>\n",
              "      <td>68.807692</td>\n",
              "      <td>15.500000</td>\n",
              "      <td>0.199053</td>\n",
              "    </tr>\n",
              "    <tr>\n",
              "      <th>18</th>\n",
              "      <td>0.308266</td>\n",
              "      <td>0.815301</td>\n",
              "      <td>0.882863</td>\n",
              "      <td>0.291633</td>\n",
              "      <td>0.423554</td>\n",
              "      <td>0.410871</td>\n",
              "      <td>0.561784</td>\n",
              "      <td>0.587248</td>\n",
              "      <td>0.417212</td>\n",
              "      <td>0.693452</td>\n",
              "      <td>55.692308</td>\n",
              "      <td>123.115385</td>\n",
              "      <td>51.307692</td>\n",
              "      <td>9.884615</td>\n",
              "      <td>0.174496</td>\n",
              "    </tr>\n",
              "  </tbody>\n",
              "</table>\n",
              "</div>"
            ],
            "text/plain": [
              "    ErrP prec  Non_ErrP prec  ErrP recall  ...          TN         FN    Youdon\n",
              "0    0.522471       0.742157     0.194614  ...  166.576923  57.423077  0.148448\n",
              "1    0.525829       0.751110     0.299594  ...  161.500000  52.846154  0.224020\n",
              "2    0.506518       0.757727     0.350636  ...  156.884615  49.230769  0.248211\n",
              "3    0.472805       0.761430     0.386756  ...  152.500000  46.615385  0.258414\n",
              "4    0.448120       0.764003     0.420290  ...  148.153846  44.538462  0.266689\n",
              "5    0.445192       0.768911     0.459066  ...  144.307692  41.692308  0.282287\n",
              "6    0.439762       0.772555     0.490541  ...  140.307692  39.423077  0.290115\n",
              "7    0.426170       0.773371     0.513570  ...  135.961538  37.846154  0.288496\n",
              "8    0.415255       0.776063     0.541876  ...  131.692308  35.846154  0.292089\n",
              "9    0.401577       0.778747     0.563451  ...  127.423077  33.923077  0.289125\n",
              "10   0.387458       0.780515     0.586307  ...  122.884615  32.269231  0.285456\n",
              "11   0.382805       0.783915     0.614889  ...  118.346154  30.384615  0.288346\n",
              "12   0.376413       0.788190     0.643360  ...  113.384615  28.153846  0.288369\n",
              "13   0.364396       0.789368     0.665397  ...  107.230769  26.307692  0.275553\n",
              "14   0.352821       0.791081     0.694429  ...   99.538462  24.000000  0.261078\n",
              "15   0.344704       0.800423     0.739079  ...   91.846154  20.807692  0.261576\n",
              "16   0.328329       0.794980     0.764367  ...   81.384615  18.846154  0.227199\n",
              "17   0.316552       0.800296     0.807850  ...   68.807692  15.500000  0.199053\n",
              "18   0.308266       0.815301     0.882863  ...   51.307692   9.884615  0.174496\n",
              "\n",
              "[19 rows x 15 columns]"
            ]
          },
          "metadata": {
            "tags": []
          },
          "execution_count": 136
        }
      ]
    },
    {
      "cell_type": "code",
      "metadata": {
        "colab": {
          "base_uri": "https://localhost:8080/",
          "height": 282
        },
        "id": "zw_-m9MAIfLa",
        "outputId": "1c343368-561c-495c-9f99-46f7f1984711"
      },
      "source": [
        "plt.plot(np.linspace(0.05,0.95,19),pd.DataFrame(all_evaluation_means,columns=cols)['Youdon'])\n",
        "plt.plot(np.linspace(0.05,0.95,19),pd.DataFrame(all_evaluation_means,columns=cols)['ErrP recall'])\n",
        "plt.plot(np.linspace(0.05,0.95,19),pd.DataFrame(all_evaluation_means,columns=cols)['Non_ErrP recall'])\n",
        "plt.plot(np.linspace(0.05,0.95,19),pd.DataFrame(all_evaluation_means,columns=cols)['ErrP prec'])\n",
        "plt.plot(np.linspace(0.05,0.95,19),pd.DataFrame(all_evaluation_means,columns=cols)['Non_ErrP prec'])\n",
        "plt.legend(['Youdon','ErrP recall','Non_ErrP recall','ErrP prec','Non_ErrP prec'],loc='best',bbox_to_anchor=(1,1))"
      ],
      "execution_count": null,
      "outputs": [
        {
          "output_type": "execute_result",
          "data": {
            "text/plain": [
              "<matplotlib.legend.Legend at 0x7efedd4f0810>"
            ]
          },
          "metadata": {
            "tags": []
          },
          "execution_count": 146
        },
        {
          "output_type": "display_data",
          "data": {
            "image/png": "[encoded data removed]",
            "text/plain": [
              "<Figure size 432x288 with 1 Axes>"
            ]
          },
          "metadata": {
            "tags": [],
            "needs_background": "light"
          }
        }
      ]
    },
    {
      "cell_type": "code",
      "metadata": {
        "colab": {
          "base_uri": "https://localhost:8080/",
          "height": 483
        },
        "id": "z2ty3E6rqsJE",
        "outputId": "0d9069df-6c09-4967-f98a-cc74f7eaff07"
      },
      "source": [
        "test = []\n",
        "for i in grid_search:\n",
        "    test.append(i[0:2])\n",
        "\n",
        "cols = ['ErrP prec', 'Non_ErrP prec', 'ErrP recall', 'Non_ErrP recall', 'ErrP f', 'Non_ErrP f', 'weighted prec', 'weighted recall', 'weighted_f', 'auc','TP','FP','TN','FN']\n",
        "\n",
        "Summary = pd.concat([pd.DataFrame(test[0][1],columns=cols).mean(), \n",
        "           pd.DataFrame(test[1][1],columns=cols).mean(),\n",
        "           pd.DataFrame(test[2][1],columns=cols).mean(),\n",
        "           pd.DataFrame(test[3][1],columns=cols).mean(),\n",
        "           pd.DataFrame(test[4][1],columns=cols).mean(),\n",
        "           pd.DataFrame(test[5][1],columns=cols).mean(),\n",
        "           pd.DataFrame(all_evaluation_ShortUNET[0],columns=cols).mean()\n",
        "           ], axis=1)\n",
        "Summary.columns = [test[0][0],test[1][0],test[2][0],test[3][0],test[4][0],test[5][0],'ShortUnet 10 0.0001']\n",
        "Summary"
      ],
      "execution_count": null,
      "outputs": [
        {
          "output_type": "execute_result",
          "data": {
            "text/html": [
              "<div>\n",
              "<style scoped>\n",
              "    .dataframe tbody tr th:only-of-type {\n",
              "        vertical-align: middle;\n",
              "    }\n",
              "\n",
              "    .dataframe tbody tr th {\n",
              "        vertical-align: top;\n",
              "    }\n",
              "\n",
              "    .dataframe thead th {\n",
              "        text-align: right;\n",
              "    }\n",
              "</style>\n",
              "<table border=\"1\" class=\"dataframe\">\n",
              "  <thead>\n",
              "    <tr style=\"text-align: right;\">\n",
              "      <th></th>\n",
              "      <th>10 0.001</th>\n",
              "      <th>10 0.0001</th>\n",
              "      <th>10 1e-05</th>\n",
              "      <th>20 0.001</th>\n",
              "      <th>20 0.0001</th>\n",
              "      <th>20 1e-05</th>\n",
              "      <th>ShortUnet 10 0.0001</th>\n",
              "    </tr>\n",
              "  </thead>\n",
              "  <tbody>\n",
              "    <tr>\n",
              "      <th>ErrP prec</th>\n",
              "      <td>0.616715</td>\n",
              "      <td>0.660495</td>\n",
              "      <td>0.532497</td>\n",
              "      <td>0.579476</td>\n",
              "      <td>0.676172</td>\n",
              "      <td>0.495722</td>\n",
              "      <td>0.650756</td>\n",
              "    </tr>\n",
              "    <tr>\n",
              "      <th>Non_ErrP prec</th>\n",
              "      <td>0.823582</td>\n",
              "      <td>0.807359</td>\n",
              "      <td>0.775800</td>\n",
              "      <td>0.825495</td>\n",
              "      <td>0.802727</td>\n",
              "      <td>0.776386</td>\n",
              "      <td>0.810883</td>\n",
              "    </tr>\n",
              "    <tr>\n",
              "      <th>ErrP recall</th>\n",
              "      <td>0.571475</td>\n",
              "      <td>0.447370</td>\n",
              "      <td>0.265657</td>\n",
              "      <td>0.544027</td>\n",
              "      <td>0.443628</td>\n",
              "      <td>0.291931</td>\n",
              "      <td>0.416857</td>\n",
              "    </tr>\n",
              "    <tr>\n",
              "      <th>Non_ErrP recall</th>\n",
              "      <td>0.839244</td>\n",
              "      <td>0.909155</td>\n",
              "      <td>0.923308</td>\n",
              "      <td>0.843124</td>\n",
              "      <td>0.906507</td>\n",
              "      <td>0.923058</td>\n",
              "      <td>0.892144</td>\n",
              "    </tr>\n",
              "    <tr>\n",
              "      <th>ErrP f</th>\n",
              "      <td>0.566627</td>\n",
              "      <td>0.488271</td>\n",
              "      <td>0.313804</td>\n",
              "      <td>0.540241</td>\n",
              "      <td>0.480761</td>\n",
              "      <td>0.336569</td>\n",
              "      <td>0.466318</td>\n",
              "    </tr>\n",
              "    <tr>\n",
              "      <th>Non_ErrP f</th>\n",
              "      <td>0.828426</td>\n",
              "      <td>0.852656</td>\n",
              "      <td>0.838337</td>\n",
              "      <td>0.832547</td>\n",
              "      <td>0.848103</td>\n",
              "      <td>0.839343</td>\n",
              "      <td>0.845511</td>\n",
              "    </tr>\n",
              "    <tr>\n",
              "      <th>weighted prec</th>\n",
              "      <td>0.720149</td>\n",
              "      <td>0.733927</td>\n",
              "      <td>0.654149</td>\n",
              "      <td>0.702485</td>\n",
              "      <td>0.739449</td>\n",
              "      <td>0.636054</td>\n",
              "      <td>0.730820</td>\n",
              "    </tr>\n",
              "    <tr>\n",
              "      <th>weighted recall</th>\n",
              "      <td>0.705360</td>\n",
              "      <td>0.678262</td>\n",
              "      <td>0.594482</td>\n",
              "      <td>0.693576</td>\n",
              "      <td>0.675067</td>\n",
              "      <td>0.607494</td>\n",
              "      <td>0.654501</td>\n",
              "    </tr>\n",
              "    <tr>\n",
              "      <th>weighted_f</th>\n",
              "      <td>0.697526</td>\n",
              "      <td>0.670464</td>\n",
              "      <td>0.576070</td>\n",
              "      <td>0.686394</td>\n",
              "      <td>0.664432</td>\n",
              "      <td>0.587956</td>\n",
              "      <td>0.655915</td>\n",
              "    </tr>\n",
              "    <tr>\n",
              "      <th>auc</th>\n",
              "      <td>0.763229</td>\n",
              "      <td>0.785128</td>\n",
              "      <td>0.745413</td>\n",
              "      <td>0.779230</td>\n",
              "      <td>0.791060</td>\n",
              "      <td>0.735143</td>\n",
              "      <td>0.795759</td>\n",
              "    </tr>\n",
              "    <tr>\n",
              "      <th>TP</th>\n",
              "      <td>37.500000</td>\n",
              "      <td>30.038462</td>\n",
              "      <td>21.115385</td>\n",
              "      <td>37.307692</td>\n",
              "      <td>28.961538</td>\n",
              "      <td>21.615385</td>\n",
              "      <td>31.884615</td>\n",
              "    </tr>\n",
              "    <tr>\n",
              "      <th>FP</th>\n",
              "      <td>23.884615</td>\n",
              "      <td>13.192308</td>\n",
              "      <td>10.730769</td>\n",
              "      <td>23.807692</td>\n",
              "      <td>13.230769</td>\n",
              "      <td>10.615385</td>\n",
              "      <td>15.423077</td>\n",
              "    </tr>\n",
              "    <tr>\n",
              "      <th>TN</th>\n",
              "      <td>150.538462</td>\n",
              "      <td>161.230769</td>\n",
              "      <td>163.692308</td>\n",
              "      <td>150.615385</td>\n",
              "      <td>161.192308</td>\n",
              "      <td>163.807692</td>\n",
              "      <td>159.000000</td>\n",
              "    </tr>\n",
              "    <tr>\n",
              "      <th>FN</th>\n",
              "      <td>28.076923</td>\n",
              "      <td>35.538462</td>\n",
              "      <td>44.461538</td>\n",
              "      <td>28.269231</td>\n",
              "      <td>36.615385</td>\n",
              "      <td>43.961538</td>\n",
              "      <td>33.692308</td>\n",
              "    </tr>\n",
              "  </tbody>\n",
              "</table>\n",
              "</div>"
            ],
            "text/plain": [
              "                   10 0.001   10 0.0001  ...    20 1e-05  ShortUnet 10 0.0001\n",
              "ErrP prec          0.616715    0.660495  ...    0.495722             0.650756\n",
              "Non_ErrP prec      0.823582    0.807359  ...    0.776386             0.810883\n",
              "ErrP recall        0.571475    0.447370  ...    0.291931             0.416857\n",
              "Non_ErrP recall    0.839244    0.909155  ...    0.923058             0.892144\n",
              "ErrP f             0.566627    0.488271  ...    0.336569             0.466318\n",
              "Non_ErrP f         0.828426    0.852656  ...    0.839343             0.845511\n",
              "weighted prec      0.720149    0.733927  ...    0.636054             0.730820\n",
              "weighted recall    0.705360    0.678262  ...    0.607494             0.654501\n",
              "weighted_f         0.697526    0.670464  ...    0.587956             0.655915\n",
              "auc                0.763229    0.785128  ...    0.735143             0.795759\n",
              "TP                37.500000   30.038462  ...   21.615385            31.884615\n",
              "FP                23.884615   13.192308  ...   10.615385            15.423077\n",
              "TN               150.538462  161.230769  ...  163.807692           159.000000\n",
              "FN                28.076923   35.538462  ...   43.961538            33.692308\n",
              "\n",
              "[14 rows x 7 columns]"
            ]
          },
          "metadata": {
            "tags": []
          },
          "execution_count": 104
        }
      ]
    },
    {
      "cell_type": "code",
      "metadata": {
        "colab": {
          "base_uri": "https://localhost:8080/",
          "height": 483
        },
        "id": "89n63SdI3Xcg",
        "outputId": "e0b15998-422f-40dd-a159-b774190ccd72"
      },
      "source": [
        "Summary['Short 10 reduced dim 0.0001'] = pd.DataFrame(all_evaluation_ShortUNET_20_red_dim[0],columns=cols).mean()\n",
        "Summary"
      ],
      "execution_count": null,
      "outputs": [
        {
          "output_type": "execute_result",
          "data": {
            "text/html": [
              "<div>\n",
              "<style scoped>\n",
              "    .dataframe tbody tr th:only-of-type {\n",
              "        vertical-align: middle;\n",
              "    }\n",
              "\n",
              "    .dataframe tbody tr th {\n",
              "        vertical-align: top;\n",
              "    }\n",
              "\n",
              "    .dataframe thead th {\n",
              "        text-align: right;\n",
              "    }\n",
              "</style>\n",
              "<table border=\"1\" class=\"dataframe\">\n",
              "  <thead>\n",
              "    <tr style=\"text-align: right;\">\n",
              "      <th></th>\n",
              "      <th>10 0.001</th>\n",
              "      <th>10 0.0001</th>\n",
              "      <th>10 1e-05</th>\n",
              "      <th>20 0.001</th>\n",
              "      <th>20 0.0001</th>\n",
              "      <th>20 1e-05</th>\n",
              "      <th>ShortUnet 10 0.0001</th>\n",
              "      <th>Short 20 0.0001</th>\n",
              "      <th>Short 20 reduced dim 0.0001</th>\n",
              "    </tr>\n",
              "  </thead>\n",
              "  <tbody>\n",
              "    <tr>\n",
              "      <th>ErrP prec</th>\n",
              "      <td>0.616715</td>\n",
              "      <td>0.660495</td>\n",
              "      <td>0.532497</td>\n",
              "      <td>0.579476</td>\n",
              "      <td>0.676172</td>\n",
              "      <td>0.495722</td>\n",
              "      <td>0.650756</td>\n",
              "      <td>0.686855</td>\n",
              "      <td>0.558690</td>\n",
              "    </tr>\n",
              "    <tr>\n",
              "      <th>Non_ErrP prec</th>\n",
              "      <td>0.823582</td>\n",
              "      <td>0.807359</td>\n",
              "      <td>0.775800</td>\n",
              "      <td>0.825495</td>\n",
              "      <td>0.802727</td>\n",
              "      <td>0.776386</td>\n",
              "      <td>0.810883</td>\n",
              "      <td>0.799281</td>\n",
              "      <td>0.793492</td>\n",
              "    </tr>\n",
              "    <tr>\n",
              "      <th>ErrP recall</th>\n",
              "      <td>0.571475</td>\n",
              "      <td>0.447370</td>\n",
              "      <td>0.265657</td>\n",
              "      <td>0.544027</td>\n",
              "      <td>0.443628</td>\n",
              "      <td>0.291931</td>\n",
              "      <td>0.416857</td>\n",
              "      <td>0.417197</td>\n",
              "      <td>0.361738</td>\n",
              "    </tr>\n",
              "    <tr>\n",
              "      <th>Non_ErrP recall</th>\n",
              "      <td>0.839244</td>\n",
              "      <td>0.909155</td>\n",
              "      <td>0.923308</td>\n",
              "      <td>0.843124</td>\n",
              "      <td>0.906507</td>\n",
              "      <td>0.923058</td>\n",
              "      <td>0.892144</td>\n",
              "      <td>0.901799</td>\n",
              "      <td>0.877215</td>\n",
              "    </tr>\n",
              "    <tr>\n",
              "      <th>ErrP f</th>\n",
              "      <td>0.566627</td>\n",
              "      <td>0.488271</td>\n",
              "      <td>0.313804</td>\n",
              "      <td>0.540241</td>\n",
              "      <td>0.480761</td>\n",
              "      <td>0.336569</td>\n",
              "      <td>0.466318</td>\n",
              "      <td>0.480593</td>\n",
              "      <td>0.393883</td>\n",
              "    </tr>\n",
              "    <tr>\n",
              "      <th>Non_ErrP f</th>\n",
              "      <td>0.828426</td>\n",
              "      <td>0.852656</td>\n",
              "      <td>0.838337</td>\n",
              "      <td>0.832547</td>\n",
              "      <td>0.848103</td>\n",
              "      <td>0.839343</td>\n",
              "      <td>0.845511</td>\n",
              "      <td>0.843842</td>\n",
              "      <td>0.829082</td>\n",
              "    </tr>\n",
              "    <tr>\n",
              "      <th>weighted prec</th>\n",
              "      <td>0.720149</td>\n",
              "      <td>0.733927</td>\n",
              "      <td>0.654149</td>\n",
              "      <td>0.702485</td>\n",
              "      <td>0.739449</td>\n",
              "      <td>0.636054</td>\n",
              "      <td>0.730820</td>\n",
              "      <td>0.743068</td>\n",
              "      <td>0.676091</td>\n",
              "    </tr>\n",
              "    <tr>\n",
              "      <th>weighted recall</th>\n",
              "      <td>0.705360</td>\n",
              "      <td>0.678262</td>\n",
              "      <td>0.594482</td>\n",
              "      <td>0.693576</td>\n",
              "      <td>0.675067</td>\n",
              "      <td>0.607494</td>\n",
              "      <td>0.654501</td>\n",
              "      <td>0.659498</td>\n",
              "      <td>0.619477</td>\n",
              "    </tr>\n",
              "    <tr>\n",
              "      <th>weighted_f</th>\n",
              "      <td>0.697526</td>\n",
              "      <td>0.670464</td>\n",
              "      <td>0.576070</td>\n",
              "      <td>0.686394</td>\n",
              "      <td>0.664432</td>\n",
              "      <td>0.587956</td>\n",
              "      <td>0.655915</td>\n",
              "      <td>0.662218</td>\n",
              "      <td>0.611482</td>\n",
              "    </tr>\n",
              "    <tr>\n",
              "      <th>auc</th>\n",
              "      <td>0.763229</td>\n",
              "      <td>0.785128</td>\n",
              "      <td>0.745413</td>\n",
              "      <td>0.779230</td>\n",
              "      <td>0.791060</td>\n",
              "      <td>0.735143</td>\n",
              "      <td>0.795759</td>\n",
              "      <td>0.788034</td>\n",
              "      <td>0.750636</td>\n",
              "    </tr>\n",
              "    <tr>\n",
              "      <th>TP</th>\n",
              "      <td>37.500000</td>\n",
              "      <td>30.038462</td>\n",
              "      <td>21.115385</td>\n",
              "      <td>37.307692</td>\n",
              "      <td>28.961538</td>\n",
              "      <td>21.615385</td>\n",
              "      <td>31.884615</td>\n",
              "      <td>28.538462</td>\n",
              "      <td>28.000000</td>\n",
              "    </tr>\n",
              "    <tr>\n",
              "      <th>FP</th>\n",
              "      <td>23.884615</td>\n",
              "      <td>13.192308</td>\n",
              "      <td>10.730769</td>\n",
              "      <td>23.807692</td>\n",
              "      <td>13.230769</td>\n",
              "      <td>10.615385</td>\n",
              "      <td>15.423077</td>\n",
              "      <td>14.076923</td>\n",
              "      <td>17.923077</td>\n",
              "    </tr>\n",
              "    <tr>\n",
              "      <th>TN</th>\n",
              "      <td>150.538462</td>\n",
              "      <td>161.230769</td>\n",
              "      <td>163.692308</td>\n",
              "      <td>150.615385</td>\n",
              "      <td>161.192308</td>\n",
              "      <td>163.807692</td>\n",
              "      <td>159.000000</td>\n",
              "      <td>160.346154</td>\n",
              "      <td>156.500000</td>\n",
              "    </tr>\n",
              "    <tr>\n",
              "      <th>FN</th>\n",
              "      <td>28.076923</td>\n",
              "      <td>35.538462</td>\n",
              "      <td>44.461538</td>\n",
              "      <td>28.269231</td>\n",
              "      <td>36.615385</td>\n",
              "      <td>43.961538</td>\n",
              "      <td>33.692308</td>\n",
              "      <td>37.038462</td>\n",
              "      <td>37.576923</td>\n",
              "    </tr>\n",
              "  </tbody>\n",
              "</table>\n",
              "</div>"
            ],
            "text/plain": [
              "                   10 0.001  ...  Short 20 reduced dim 0.0001\n",
              "ErrP prec          0.616715  ...                     0.558690\n",
              "Non_ErrP prec      0.823582  ...                     0.793492\n",
              "ErrP recall        0.571475  ...                     0.361738\n",
              "Non_ErrP recall    0.839244  ...                     0.877215\n",
              "ErrP f             0.566627  ...                     0.393883\n",
              "Non_ErrP f         0.828426  ...                     0.829082\n",
              "weighted prec      0.720149  ...                     0.676091\n",
              "weighted recall    0.705360  ...                     0.619477\n",
              "weighted_f         0.697526  ...                     0.611482\n",
              "auc                0.763229  ...                     0.750636\n",
              "TP                37.500000  ...                    28.000000\n",
              "FP                23.884615  ...                    17.923077\n",
              "TN               150.538462  ...                   156.500000\n",
              "FN                28.076923  ...                    37.576923\n",
              "\n",
              "[14 rows x 9 columns]"
            ]
          },
          "metadata": {
            "tags": []
          },
          "execution_count": 112
        }
      ]
    },
    {
      "cell_type": "code",
      "metadata": {
        "colab": {
          "base_uri": "https://localhost:8080/"
        },
        "id": "mYfRgdRszD8W",
        "outputId": "e7008c4f-2862-4d57-c84f-cdadc05bf164"
      },
      "source": [
        "pd.DataFrame(all_evaluation_ShortUNET_20_red_dim[0],columns=cols).mean()"
      ],
      "execution_count": null,
      "outputs": [
        {
          "output_type": "execute_result",
          "data": {
            "text/plain": [
              "ErrP prec            0.650756\n",
              "Non_ErrP prec        0.810883\n",
              "ErrP recall          0.416857\n",
              "Non_ErrP recall      0.892144\n",
              "ErrP f               0.466318\n",
              "Non_ErrP f           0.845511\n",
              "weighted prec        0.730820\n",
              "weighted recall      0.654501\n",
              "weighted_f           0.655915\n",
              "auc                  0.795759\n",
              "TP                  31.884615\n",
              "FP                  15.423077\n",
              "TN                 159.000000\n",
              "FN                  33.692308\n",
              "dtype: float64"
            ]
          },
          "metadata": {
            "tags": []
          },
          "execution_count": 103
        }
      ]
    },
    {
      "cell_type": "code",
      "metadata": {
        "id": "RNC7M9c0uu3q"
      },
      "source": [
        "all_evaluation_ShortUNET_20_red_dim = Neural_loop_gr_search(ShortUNet_red_dim().to(device),train_loop_UNet,1e-4, 10,Unet=True)"
      ],
      "execution_count": null,
      "outputs": []
    },
    {
      "cell_type": "code",
      "metadata": {
        "id": "IccJpEdvzBRm"
      },
      "source": [
        ""
      ],
      "execution_count": null,
      "outputs": []
    },
    {
      "cell_type": "code",
      "metadata": {
        "colab": {
          "base_uri": "https://localhost:8080/"
        },
        "id": "d0_nZSXOn2Dm",
        "outputId": "6a081632-8349-469b-b35e-4a8be0d77cb9"
      },
      "source": [
        "pd.DataFrame(all_evaluation_UNET,columns=cols).mean()\n",
        "plot_hist(make_preds(UNET_model,xtest),ytest)"
      ],
      "execution_count": null,
      "outputs": [
        {
          "output_type": "execute_result",
          "data": {
            "text/plain": [
              "ErrP prec           0.746567\n",
              "Non_ErrP prec       0.703872\n",
              "ErrP recall         0.311765\n",
              "Non_ErrP recall     0.902195\n",
              "ErrP f              0.407556\n",
              "Non_ErrP f          0.786166\n",
              "weighted prec       0.725219\n",
              "weighted recall     0.606980\n",
              "weighted_f          0.596861\n",
              "auc                 0.747263\n",
              "TP                 13.653846\n",
              "FP                  4.538462\n",
              "TN                 59.192308\n",
              "FN                 22.615385\n",
              "dtype: float64"
            ]
          },
          "metadata": {
            "tags": []
          },
          "execution_count": 127
        }
      ]
    },
    {
      "cell_type": "markdown",
      "metadata": {
        "id": "ldnrxVZRW63q"
      },
      "source": [
        "####Results CNN-LSTM"
      ]
    },
    {
      "cell_type": "code",
      "metadata": {
        "id": "1oISzW1LEGG8"
      },
      "source": [
        "all_evaluation_cnn_lstm = Neural_loop(BaseCNN().to(device),cnn_lstm_train_loop,epochs,Unet=False)"
      ],
      "execution_count": null,
      "outputs": []
    },
    {
      "cell_type": "code",
      "metadata": {
        "colab": {
          "base_uri": "https://localhost:8080/"
        },
        "id": "bZH3TVnFKnhk",
        "outputId": "31f59f22-6820-4868-d545-79b4f1cebadf"
      },
      "source": [
        "pd.DataFrame(all_evaluation_cnn_lstm,columns=cols).mean()"
      ],
      "execution_count": null,
      "outputs": [
        {
          "output_type": "execute_result",
          "data": {
            "text/plain": [
              "ErrP prec           0.686948\n",
              "Non_ErrP prec       0.730933\n",
              "ErrP recall         0.457880\n",
              "Non_ErrP recall     0.831502\n",
              "ErrP f              0.522519\n",
              "Non_ErrP f          0.772895\n",
              "weighted prec       0.708941\n",
              "weighted recall     0.644691\n",
              "weighted_f          0.647707\n",
              "auc                 0.741011\n",
              "TP                 18.307692\n",
              "FP                  8.730769\n",
              "TN                 55.000000\n",
              "FN                 17.961538\n",
              "dtype: float64"
            ]
          },
          "metadata": {
            "tags": []
          },
          "execution_count": 160
        }
      ]
    },
    {
      "cell_type": "code",
      "metadata": {
        "id": "gSmhsLteJoX4"
      },
      "source": [
        "def replicate(clf, num_to_rep, NN = 0):\n",
        "\n",
        "    means = []\n",
        "    cols = ['ErrP prec', 'Non_ErrP prec', 'ErrP recall', 'Non_ErrP recall', 'ErrP f', 'Non_ErrP f', 'weighted prec', 'weighted recall', 'weighted_f', 'auc','TP','FP','TN','FN']\n",
        "\n",
        "    for i in range(num_to_rep):\n",
        "        print(\"Iteration: \" + str(i+1))\n",
        "        if NN == 0:\n",
        "            evaluation = train_loop(clf)\n",
        "        else:\n",
        "            evaluation = Neural_loop()             \n",
        "\n",
        "        mean = pd.DataFrame(evaluation,columns = cols).mean()\n",
        "        means.append(mean)\n",
        "    \n",
        "    return means"
      ],
      "execution_count": null,
      "outputs": []
    },
    {
      "cell_type": "markdown",
      "metadata": {
        "id": "7t0EuiZDO5jH"
      },
      "source": [
        "###Results and t-tests"
      ]
    },
    {
      "cell_type": "code",
      "metadata": {
        "id": "iW-_G0n-MsWG"
      },
      "source": [
        "train_loop(clf_lda,0)[0]"
      ],
      "execution_count": null,
      "outputs": []
    },
    {
      "cell_type": "code",
      "metadata": {
        "id": "IG3iGJjqkz2a",
        "colab": {
          "base_uri": "https://localhost:8080/"
        },
        "outputId": "e5a608ea-c851-46c7-d39f-b19b647a9900"
      },
      "source": [
        "def get_cross_results(subject_num):\n",
        "    uni_sub, _ = train_loop(clf_uniform,subject_num)\n",
        "    mostf_sub, _ = train_loop(clf_most_f,subject_num)\n",
        "    lda_sub, _ = train_loop(clf_lda,subject_num)\n",
        "    cnn_sub, _, _ = Neural_loop(BaseCNN().to(device),subject_num,cnn_lstm_train_loop,1e-4,10,False,0.5)\n",
        "    unet_sub, _ = Neural_loop(UNet().to(device),subject_num,train_loop_UNet,1e-4,10,True,0.5)\n",
        "\n",
        "    return uni_sub, mostf_sub, lda_sub, cnn_sub, unet_sub\n",
        "\n",
        "all_subject_cross_val = []\n",
        "\n",
        "for i in range(26):\n",
        "    print(\">>>>>> subject: \" + str(i))\n",
        "    all_subject_cross_val.append(get_cross_results(i))"
      ],
      "execution_count": null,
      "outputs": [
        {
          "output_type": "stream",
          "text": [
            ">>>>>> subject: 0\n",
            "Fold: 0\n",
            "Fold: 1\n",
            "Fold: 2\n",
            "Fold: 3\n",
            "Fold: 4\n",
            "Fold: 0\n",
            "Fold: 1\n",
            "Fold: 2\n",
            "Fold: 3\n",
            "Fold: 4\n",
            "Fold: 0\n"
          ],
          "name": "stdout"
        },
        {
          "output_type": "stream",
          "text": [
            "/usr/local/lib/python3.7/dist-packages/sklearn/metrics/_classification.py:1272: UndefinedMetricWarning: Precision and F-score are ill-defined and being set to 0.0 in labels with no predicted samples. Use `zero_division` parameter to control this behavior.\n",
            "  _warn_prf(average, modifier, msg_start, len(result))\n",
            "/usr/local/lib/python3.7/dist-packages/sklearn/metrics/_classification.py:1272: UndefinedMetricWarning: Precision and F-score are ill-defined and being set to 0.0 in labels with no predicted samples. Use `zero_division` parameter to control this behavior.\n",
            "  _warn_prf(average, modifier, msg_start, len(result))\n",
            "/usr/local/lib/python3.7/dist-packages/sklearn/metrics/_classification.py:1272: UndefinedMetricWarning: Precision and F-score are ill-defined and being set to 0.0 in labels with no predicted samples. Use `zero_division` parameter to control this behavior.\n",
            "  _warn_prf(average, modifier, msg_start, len(result))\n",
            "/usr/local/lib/python3.7/dist-packages/sklearn/metrics/_classification.py:1272: UndefinedMetricWarning: Precision and F-score are ill-defined and being set to 0.0 in labels with no predicted samples. Use `zero_division` parameter to control this behavior.\n",
            "  _warn_prf(average, modifier, msg_start, len(result))\n",
            "/usr/local/lib/python3.7/dist-packages/sklearn/metrics/_classification.py:1272: UndefinedMetricWarning: Precision and F-score are ill-defined and being set to 0.0 in labels with no predicted samples. Use `zero_division` parameter to control this behavior.\n",
            "  _warn_prf(average, modifier, msg_start, len(result))\n"
          ],
          "name": "stderr"
        },
        {
          "output_type": "stream",
          "text": [
            "Fold: 1\n",
            "Fold: 2\n",
            "Fold: 3\n",
            "Fold: 4\n",
            "Fold: 0\n",
            "=>Epoch: 1 Train loss: 0.6092, Val loss: 0.7155, Time epoch: 1.84\n",
            "=>Epoch: 10 Train loss: 0.0194, Val loss: 2.0197, Time epoch: 12.92\n",
            "Fold: 1\n",
            "=>Epoch: 1 Train loss: 0.6305, Val loss: 0.6424, Time epoch: 1.43\n",
            "=>Epoch: 10 Train loss: 0.0078, Val loss: 2.3043, Time epoch: 12.73\n",
            "Fold: 2\n",
            "=>Epoch: 1 Train loss: 0.6449, Val loss: 0.5877, Time epoch: 1.41\n",
            "=>Epoch: 10 Train loss: 0.0430, Val loss: 0.5676, Time epoch: 12.84\n",
            "Fold: 3\n",
            "=>Epoch: 1 Train loss: 0.6425, Val loss: 0.5648, Time epoch: 1.42\n",
            "=>Epoch: 10 Train loss: 0.0031, Val loss: 1.5041, Time epoch: 12.68\n",
            "Fold: 4\n",
            "=>Epoch: 1 Train loss: 0.6345, Val loss: 0.6519, Time epoch: 1.42\n",
            "=>Epoch: 10 Train loss: 0.0005, Val loss: 1.1204, Time epoch: 12.82\n",
            "Fold: 0\n",
            "=>Epoch: 1 Train loss: 0.4849, Val loss: 0.6589, Time epoch: 1.06\n",
            "=>Epoch: 10 Train loss: 0.1619, Val loss: 0.4434, Time epoch: 9.67\n",
            "Fold: 1\n",
            "=>Epoch: 1 Train loss: 0.5027, Val loss: 0.6413, Time epoch: 1.07\n",
            "=>Epoch: 10 Train loss: 0.1506, Val loss: 0.3541, Time epoch: 9.75\n",
            "Fold: 2\n",
            "=>Epoch: 1 Train loss: 0.5350, Val loss: 0.6167, Time epoch: 1.12\n",
            "=>Epoch: 10 Train loss: 0.1417, Val loss: 0.2206, Time epoch: 9.83\n",
            "Fold: 3\n",
            "=>Epoch: 1 Train loss: 0.4516, Val loss: 0.5600, Time epoch: 1.09\n",
            "=>Epoch: 10 Train loss: 0.1374, Val loss: 0.2747, Time epoch: 9.81\n",
            "Fold: 4\n",
            "=>Epoch: 1 Train loss: 0.5374, Val loss: 0.6270, Time epoch: 1.09\n",
            "=>Epoch: 10 Train loss: 0.1382, Val loss: 0.2821, Time epoch: 9.89\n",
            ">>>>>> subject: 1\n",
            "Fold: 0\n",
            "Fold: 1\n",
            "Fold: 2\n",
            "Fold: 3\n",
            "Fold: 4\n",
            "Fold: 0\n",
            "Fold: 1\n",
            "Fold: 2\n",
            "Fold: 3\n",
            "Fold: 4\n",
            "Fold: 0\n"
          ],
          "name": "stdout"
        },
        {
          "output_type": "stream",
          "text": [
            "/usr/local/lib/python3.7/dist-packages/sklearn/metrics/_classification.py:1272: UndefinedMetricWarning: Precision and F-score are ill-defined and being set to 0.0 in labels with no predicted samples. Use `zero_division` parameter to control this behavior.\n",
            "  _warn_prf(average, modifier, msg_start, len(result))\n",
            "/usr/local/lib/python3.7/dist-packages/sklearn/metrics/_classification.py:1272: UndefinedMetricWarning: Precision and F-score are ill-defined and being set to 0.0 in labels with no predicted samples. Use `zero_division` parameter to control this behavior.\n",
            "  _warn_prf(average, modifier, msg_start, len(result))\n",
            "/usr/local/lib/python3.7/dist-packages/sklearn/metrics/_classification.py:1272: UndefinedMetricWarning: Precision and F-score are ill-defined and being set to 0.0 in labels with no predicted samples. Use `zero_division` parameter to control this behavior.\n",
            "  _warn_prf(average, modifier, msg_start, len(result))\n",
            "/usr/local/lib/python3.7/dist-packages/sklearn/metrics/_classification.py:1272: UndefinedMetricWarning: Precision and F-score are ill-defined and being set to 0.0 in labels with no predicted samples. Use `zero_division` parameter to control this behavior.\n",
            "  _warn_prf(average, modifier, msg_start, len(result))\n",
            "/usr/local/lib/python3.7/dist-packages/sklearn/metrics/_classification.py:1272: UndefinedMetricWarning: Precision and F-score are ill-defined and being set to 0.0 in labels with no predicted samples. Use `zero_division` parameter to control this behavior.\n",
            "  _warn_prf(average, modifier, msg_start, len(result))\n"
          ],
          "name": "stderr"
        },
        {
          "output_type": "stream",
          "text": [
            "Fold: 1\n",
            "Fold: 2\n",
            "Fold: 3\n",
            "Fold: 4\n",
            "Fold: 0\n",
            "=>Epoch: 1 Train loss: 0.2317, Val loss: 0.2919, Time epoch: 1.43\n",
            "=>Epoch: 10 Train loss: 0.0065, Val loss: 1.4721, Time epoch: 13.04\n",
            "Fold: 1\n",
            "=>Epoch: 1 Train loss: 0.2277, Val loss: 0.3703, Time epoch: 1.45\n",
            "=>Epoch: 10 Train loss: 0.0524, Val loss: 1.0545, Time epoch: 13.02\n",
            "Fold: 2\n",
            "=>Epoch: 1 Train loss: 0.2752, Val loss: 0.1770, Time epoch: 1.45\n",
            "=>Epoch: 10 Train loss: 0.1214, Val loss: 0.1566, Time epoch: 12.96\n",
            "Fold: 3\n",
            "=>Epoch: 1 Train loss: 0.2994, Val loss: 0.1120, Time epoch: 1.44\n",
            "=>Epoch: 10 Train loss: 0.1220, Val loss: 0.1178, Time epoch: 13.05\n",
            "Fold: 4\n",
            "=>Epoch: 1 Train loss: 0.2933, Val loss: 0.1315, Time epoch: 1.45\n",
            "=>Epoch: 10 Train loss: 0.0644, Val loss: 0.1719, Time epoch: 13.02\n",
            "Fold: 0\n",
            "=>Epoch: 1 Train loss: 0.3618, Val loss: 0.3695, Time epoch: 1.12\n",
            "=>Epoch: 10 Train loss: 0.1280, Val loss: 0.4399, Time epoch: 10.15\n",
            "Fold: 1\n"
          ],
          "name": "stdout"
        },
        {
          "output_type": "stream",
          "text": [
            "/usr/local/lib/python3.7/dist-packages/sklearn/metrics/_classification.py:1272: UndefinedMetricWarning: Precision and F-score are ill-defined and being set to 0.0 in labels with no predicted samples. Use `zero_division` parameter to control this behavior.\n",
            "  _warn_prf(average, modifier, msg_start, len(result))\n"
          ],
          "name": "stderr"
        },
        {
          "output_type": "stream",
          "text": [
            "=>Epoch: 1 Train loss: 0.3930, Val loss: 0.3731, Time epoch: 1.13\n",
            "=>Epoch: 10 Train loss: 0.1318, Val loss: 0.5958, Time epoch: 10.15\n",
            "Fold: 2\n"
          ],
          "name": "stdout"
        },
        {
          "output_type": "stream",
          "text": [
            "/usr/local/lib/python3.7/dist-packages/sklearn/metrics/_classification.py:1272: UndefinedMetricWarning: Precision and F-score are ill-defined and being set to 0.0 in labels with no predicted samples. Use `zero_division` parameter to control this behavior.\n",
            "  _warn_prf(average, modifier, msg_start, len(result))\n"
          ],
          "name": "stderr"
        },
        {
          "output_type": "stream",
          "text": [
            "=>Epoch: 1 Train loss: 0.3851, Val loss: 0.3155, Time epoch: 1.13\n",
            "=>Epoch: 10 Train loss: 0.1379, Val loss: 0.1702, Time epoch: 10.20\n",
            "Fold: 3\n"
          ],
          "name": "stdout"
        },
        {
          "output_type": "stream",
          "text": [
            "/usr/local/lib/python3.7/dist-packages/sklearn/metrics/_classification.py:1272: UndefinedMetricWarning: Precision and F-score are ill-defined and being set to 0.0 in labels with no predicted samples. Use `zero_division` parameter to control this behavior.\n",
            "  _warn_prf(average, modifier, msg_start, len(result))\n"
          ],
          "name": "stderr"
        },
        {
          "output_type": "stream",
          "text": [
            "=>Epoch: 1 Train loss: 0.3815, Val loss: 0.3727, Time epoch: 1.14\n",
            "=>Epoch: 10 Train loss: 0.1435, Val loss: 0.1005, Time epoch: 10.23\n",
            "Fold: 4\n"
          ],
          "name": "stdout"
        },
        {
          "output_type": "stream",
          "text": [
            "/usr/local/lib/python3.7/dist-packages/sklearn/metrics/_classification.py:1272: UndefinedMetricWarning: Precision and F-score are ill-defined and being set to 0.0 in labels with no predicted samples. Use `zero_division` parameter to control this behavior.\n",
            "  _warn_prf(average, modifier, msg_start, len(result))\n"
          ],
          "name": "stderr"
        },
        {
          "output_type": "stream",
          "text": [
            "=>Epoch: 1 Train loss: 0.4101, Val loss: 0.3400, Time epoch: 1.13\n",
            "=>Epoch: 10 Train loss: 0.1397, Val loss: 0.3492, Time epoch: 10.21\n",
            ">>>>>> subject: 2\n",
            "Fold: 0\n",
            "Fold: 1\n",
            "Fold: 2\n",
            "Fold: 3\n",
            "Fold: 4\n",
            "Fold: 0\n",
            "Fold: 1\n",
            "Fold: 2\n",
            "Fold: 3\n",
            "Fold: 4\n"
          ],
          "name": "stdout"
        },
        {
          "output_type": "stream",
          "text": [
            "/usr/local/lib/python3.7/dist-packages/sklearn/metrics/_classification.py:1272: UndefinedMetricWarning: Precision and F-score are ill-defined and being set to 0.0 in labels with no predicted samples. Use `zero_division` parameter to control this behavior.\n",
            "  _warn_prf(average, modifier, msg_start, len(result))\n",
            "/usr/local/lib/python3.7/dist-packages/sklearn/metrics/_classification.py:1272: UndefinedMetricWarning: Precision and F-score are ill-defined and being set to 0.0 in labels with no predicted samples. Use `zero_division` parameter to control this behavior.\n",
            "  _warn_prf(average, modifier, msg_start, len(result))\n",
            "/usr/local/lib/python3.7/dist-packages/sklearn/metrics/_classification.py:1272: UndefinedMetricWarning: Precision and F-score are ill-defined and being set to 0.0 in labels with no predicted samples. Use `zero_division` parameter to control this behavior.\n",
            "  _warn_prf(average, modifier, msg_start, len(result))\n",
            "/usr/local/lib/python3.7/dist-packages/sklearn/metrics/_classification.py:1272: UndefinedMetricWarning: Precision and F-score are ill-defined and being set to 0.0 in labels with no predicted samples. Use `zero_division` parameter to control this behavior.\n",
            "  _warn_prf(average, modifier, msg_start, len(result))\n",
            "/usr/local/lib/python3.7/dist-packages/sklearn/metrics/_classification.py:1272: UndefinedMetricWarning: Precision and F-score are ill-defined and being set to 0.0 in labels with no predicted samples. Use `zero_division` parameter to control this behavior.\n",
            "  _warn_prf(average, modifier, msg_start, len(result))\n",
            "/usr/local/lib/python3.7/dist-packages/sklearn/metrics/_classification.py:1272: UndefinedMetricWarning: Precision and F-score are ill-defined and being set to 0.0 in labels with no predicted samples. Use `zero_division` parameter to control this behavior.\n",
            "  _warn_prf(average, modifier, msg_start, len(result))\n"
          ],
          "name": "stderr"
        },
        {
          "output_type": "stream",
          "text": [
            "Fold: 0\n",
            "Fold: 1\n",
            "Fold: 2\n",
            "Fold: 3\n",
            "Fold: 4\n",
            "Fold: 0\n",
            "=>Epoch: 1 Train loss: 0.3520, Val loss: 0.2361, Time epoch: 1.46\n",
            "=>Epoch: 10 Train loss: 0.0031, Val loss: 0.5498, Time epoch: 13.10\n",
            "Fold: 1\n",
            "=>Epoch: 1 Train loss: 0.3432, Val loss: 0.2868, Time epoch: 1.46\n",
            "=>Epoch: 10 Train loss: 0.0138, Val loss: 1.0139, Time epoch: 13.04\n",
            "Fold: 2\n",
            "=>Epoch: 1 Train loss: 0.3489, Val loss: 0.2378, Time epoch: 1.46\n",
            "=>Epoch: 10 Train loss: 0.0057, Val loss: 0.6831, Time epoch: 13.19\n",
            "Fold: 3\n",
            "=>Epoch: 1 Train loss: 0.3173, Val loss: 0.4288, Time epoch: 1.46\n",
            "=>Epoch: 10 Train loss: 0.0086, Val loss: 0.8293, Time epoch: 13.09\n",
            "Fold: 4\n",
            "=>Epoch: 1 Train loss: 0.3525, Val loss: 0.2881, Time epoch: 1.45\n",
            "=>Epoch: 10 Train loss: 0.0004, Val loss: 0.5606, Time epoch: 13.04\n",
            "Fold: 0\n",
            "=>Epoch: 1 Train loss: 0.4236, Val loss: 0.5374, Time epoch: 1.14\n",
            "=>Epoch: 10 Train loss: 0.1504, Val loss: 0.1567, Time epoch: 10.32\n",
            "Fold: 1\n",
            "=>Epoch: 1 Train loss: 0.4118, Val loss: 0.4665, Time epoch: 1.15\n",
            "=>Epoch: 10 Train loss: 0.1308, Val loss: 0.2162, Time epoch: 10.73\n",
            "Fold: 2\n",
            "=>Epoch: 1 Train loss: 0.3950, Val loss: 0.5064, Time epoch: 1.15\n",
            "=>Epoch: 10 Train loss: 0.1422, Val loss: 0.1460, Time epoch: 10.36\n",
            "Fold: 3\n",
            "=>Epoch: 1 Train loss: 0.4103, Val loss: 0.4958, Time epoch: 1.13\n",
            "=>Epoch: 10 Train loss: 0.1381, Val loss: 0.3413, Time epoch: 10.36\n",
            "Fold: 4\n",
            "=>Epoch: 1 Train loss: 0.3997, Val loss: 0.5062, Time epoch: 1.14\n",
            "=>Epoch: 10 Train loss: 0.1562, Val loss: 0.2781, Time epoch: 10.39\n",
            ">>>>>> subject: 3\n",
            "Fold: 0\n",
            "Fold: 1\n",
            "Fold: 2\n",
            "Fold: 3\n",
            "Fold: 4\n",
            "Fold: 0\n",
            "Fold: 1\n",
            "Fold: 2\n",
            "Fold: 3\n",
            "Fold: 4\n",
            "Fold: 0\n"
          ],
          "name": "stdout"
        },
        {
          "output_type": "stream",
          "text": [
            "/usr/local/lib/python3.7/dist-packages/sklearn/metrics/_classification.py:1272: UndefinedMetricWarning: Precision and F-score are ill-defined and being set to 0.0 in labels with no predicted samples. Use `zero_division` parameter to control this behavior.\n",
            "  _warn_prf(average, modifier, msg_start, len(result))\n",
            "/usr/local/lib/python3.7/dist-packages/sklearn/metrics/_classification.py:1272: UndefinedMetricWarning: Precision and F-score are ill-defined and being set to 0.0 in labels with no predicted samples. Use `zero_division` parameter to control this behavior.\n",
            "  _warn_prf(average, modifier, msg_start, len(result))\n",
            "/usr/local/lib/python3.7/dist-packages/sklearn/metrics/_classification.py:1272: UndefinedMetricWarning: Precision and F-score are ill-defined and being set to 0.0 in labels with no predicted samples. Use `zero_division` parameter to control this behavior.\n",
            "  _warn_prf(average, modifier, msg_start, len(result))\n",
            "/usr/local/lib/python3.7/dist-packages/sklearn/metrics/_classification.py:1272: UndefinedMetricWarning: Precision and F-score are ill-defined and being set to 0.0 in labels with no predicted samples. Use `zero_division` parameter to control this behavior.\n",
            "  _warn_prf(average, modifier, msg_start, len(result))\n",
            "/usr/local/lib/python3.7/dist-packages/sklearn/metrics/_classification.py:1272: UndefinedMetricWarning: Precision and F-score are ill-defined and being set to 0.0 in labels with no predicted samples. Use `zero_division` parameter to control this behavior.\n",
            "  _warn_prf(average, modifier, msg_start, len(result))\n"
          ],
          "name": "stderr"
        },
        {
          "output_type": "stream",
          "text": [
            "Fold: 1\n",
            "Fold: 2\n",
            "Fold: 3\n",
            "Fold: 4\n",
            "Fold: 0\n",
            "=>Epoch: 1 Train loss: 0.6355, Val loss: 0.5215, Time epoch: 1.57\n",
            "=>Epoch: 10 Train loss: 0.1973, Val loss: 1.6828, Time epoch: 13.23\n",
            "Fold: 1\n",
            "=>Epoch: 1 Train loss: 0.6160, Val loss: 0.6210, Time epoch: 1.46\n",
            "=>Epoch: 10 Train loss: 0.0513, Val loss: 1.9741, Time epoch: 13.24\n",
            "Fold: 2\n",
            "=>Epoch: 1 Train loss: 0.6080, Val loss: 0.6214, Time epoch: 1.58\n",
            "=>Epoch: 10 Train loss: 0.0103, Val loss: 3.6373, Time epoch: 13.26\n",
            "Fold: 3\n",
            "=>Epoch: 1 Train loss: 0.6098, Val loss: 0.6678, Time epoch: 1.45\n",
            "=>Epoch: 10 Train loss: 0.0643, Val loss: 1.6198, Time epoch: 13.23\n",
            "Fold: 4\n",
            "=>Epoch: 1 Train loss: 0.6038, Val loss: 0.6484, Time epoch: 1.46\n",
            "=>Epoch: 10 Train loss: 0.0616, Val loss: 2.2352, Time epoch: 13.31\n",
            "Fold: 0\n",
            "=>Epoch: 1 Train loss: 0.6244, Val loss: 0.5827, Time epoch: 1.14\n",
            "=>Epoch: 10 Train loss: 0.1401, Val loss: 0.4752, Time epoch: 10.38\n",
            "Fold: 1\n",
            "=>Epoch: 1 Train loss: 0.5940, Val loss: 0.6158, Time epoch: 1.16\n",
            "=>Epoch: 10 Train loss: 0.1395, Val loss: 0.6403, Time epoch: 10.42\n",
            "Fold: 2\n",
            "=>Epoch: 1 Train loss: 0.5752, Val loss: 0.6332, Time epoch: 1.17\n",
            "=>Epoch: 10 Train loss: 0.1352, Val loss: 0.7239, Time epoch: 10.44\n",
            "Fold: 3\n",
            "=>Epoch: 1 Train loss: 0.5969, Val loss: 0.6429, Time epoch: 1.16\n",
            "=>Epoch: 10 Train loss: 0.1588, Val loss: 0.7245, Time epoch: 10.39\n",
            "Fold: 4\n",
            "=>Epoch: 1 Train loss: 0.5877, Val loss: 0.6393, Time epoch: 1.15\n",
            "=>Epoch: 10 Train loss: 0.1401, Val loss: 0.6194, Time epoch: 10.45\n",
            ">>>>>> subject: 4\n",
            "Fold: 0\n",
            "Fold: 1\n",
            "Fold: 2\n",
            "Fold: 3\n",
            "Fold: 4\n",
            "Fold: 0\n",
            "Fold: 1\n",
            "Fold: 2\n",
            "Fold: 3\n",
            "Fold: 4\n",
            "Fold: 0\n"
          ],
          "name": "stdout"
        },
        {
          "output_type": "stream",
          "text": [
            "/usr/local/lib/python3.7/dist-packages/sklearn/metrics/_classification.py:1272: UndefinedMetricWarning: Precision and F-score are ill-defined and being set to 0.0 in labels with no predicted samples. Use `zero_division` parameter to control this behavior.\n",
            "  _warn_prf(average, modifier, msg_start, len(result))\n",
            "/usr/local/lib/python3.7/dist-packages/sklearn/metrics/_classification.py:1272: UndefinedMetricWarning: Precision and F-score are ill-defined and being set to 0.0 in labels with no predicted samples. Use `zero_division` parameter to control this behavior.\n",
            "  _warn_prf(average, modifier, msg_start, len(result))\n",
            "/usr/local/lib/python3.7/dist-packages/sklearn/metrics/_classification.py:1272: UndefinedMetricWarning: Precision and F-score are ill-defined and being set to 0.0 in labels with no predicted samples. Use `zero_division` parameter to control this behavior.\n",
            "  _warn_prf(average, modifier, msg_start, len(result))\n",
            "/usr/local/lib/python3.7/dist-packages/sklearn/metrics/_classification.py:1272: UndefinedMetricWarning: Precision and F-score are ill-defined and being set to 0.0 in labels with no predicted samples. Use `zero_division` parameter to control this behavior.\n",
            "  _warn_prf(average, modifier, msg_start, len(result))\n",
            "/usr/local/lib/python3.7/dist-packages/sklearn/metrics/_classification.py:1272: UndefinedMetricWarning: Precision and F-score are ill-defined and being set to 0.0 in labels with no predicted samples. Use `zero_division` parameter to control this behavior.\n",
            "  _warn_prf(average, modifier, msg_start, len(result))\n"
          ],
          "name": "stderr"
        },
        {
          "output_type": "stream",
          "text": [
            "Fold: 1\n",
            "Fold: 2\n",
            "Fold: 3\n",
            "Fold: 4\n",
            "Fold: 0\n",
            "=>Epoch: 1 Train loss: 0.6844, Val loss: 0.6409, Time epoch: 1.47\n",
            "=>Epoch: 10 Train loss: 0.0019, Val loss: 1.9816, Time epoch: 13.27\n",
            "Fold: 1\n",
            "=>Epoch: 1 Train loss: 0.6707, Val loss: 0.6661, Time epoch: 1.47\n",
            "=>Epoch: 10 Train loss: 0.0049, Val loss: 3.0329, Time epoch: 13.25\n",
            "Fold: 2\n",
            "=>Epoch: 1 Train loss: 0.6738, Val loss: 0.6379, Time epoch: 1.50\n",
            "=>Epoch: 10 Train loss: 0.0018, Val loss: 3.0454, Time epoch: 13.39\n",
            "Fold: 3\n",
            "=>Epoch: 1 Train loss: 0.6761, Val loss: 0.6572, Time epoch: 1.46\n",
            "=>Epoch: 10 Train loss: 0.0002, Val loss: 2.9675, Time epoch: 13.16\n",
            "Fold: 4\n",
            "=>Epoch: 1 Train loss: 0.6702, Val loss: 0.7915, Time epoch: 1.47\n",
            "=>Epoch: 10 Train loss: 0.0201, Val loss: 3.3426, Time epoch: 13.33\n",
            "Fold: 0\n",
            "=>Epoch: 1 Train loss: 0.6609, Val loss: 0.6357, Time epoch: 1.19\n",
            "=>Epoch: 10 Train loss: 0.1485, Val loss: 0.5158, Time epoch: 10.47\n",
            "Fold: 1\n",
            "=>Epoch: 1 Train loss: 0.6073, Val loss: 0.6885, Time epoch: 1.15\n",
            "=>Epoch: 10 Train loss: 0.1466, Val loss: 0.8835, Time epoch: 10.46\n",
            "Fold: 2\n",
            "=>Epoch: 1 Train loss: 0.6310, Val loss: 0.6749, Time epoch: 1.15\n",
            "=>Epoch: 10 Train loss: 0.1662, Val loss: 0.5935, Time epoch: 10.49\n",
            "Fold: 3\n",
            "=>Epoch: 1 Train loss: 0.6583, Val loss: 0.6892, Time epoch: 1.15\n",
            "=>Epoch: 10 Train loss: 0.1470, Val loss: 0.6425, Time epoch: 10.51\n",
            "Fold: 4\n",
            "=>Epoch: 1 Train loss: 0.6038, Val loss: 0.6928, Time epoch: 1.17\n",
            "=>Epoch: 10 Train loss: 0.1314, Val loss: 0.8588, Time epoch: 10.51\n",
            ">>>>>> subject: 5\n",
            "Fold: 0\n",
            "Fold: 1\n",
            "Fold: 2\n",
            "Fold: 3\n",
            "Fold: 4\n",
            "Fold: 0\n",
            "Fold: 1\n",
            "Fold: 2\n",
            "Fold: 3\n",
            "Fold: 4\n",
            "Fold: 0\n"
          ],
          "name": "stdout"
        },
        {
          "output_type": "stream",
          "text": [
            "/usr/local/lib/python3.7/dist-packages/sklearn/metrics/_classification.py:1272: UndefinedMetricWarning: Precision and F-score are ill-defined and being set to 0.0 in labels with no predicted samples. Use `zero_division` parameter to control this behavior.\n",
            "  _warn_prf(average, modifier, msg_start, len(result))\n",
            "/usr/local/lib/python3.7/dist-packages/sklearn/metrics/_classification.py:1272: UndefinedMetricWarning: Precision and F-score are ill-defined and being set to 0.0 in labels with no predicted samples. Use `zero_division` parameter to control this behavior.\n",
            "  _warn_prf(average, modifier, msg_start, len(result))\n",
            "/usr/local/lib/python3.7/dist-packages/sklearn/metrics/_classification.py:1272: UndefinedMetricWarning: Precision and F-score are ill-defined and being set to 0.0 in labels with no predicted samples. Use `zero_division` parameter to control this behavior.\n",
            "  _warn_prf(average, modifier, msg_start, len(result))\n",
            "/usr/local/lib/python3.7/dist-packages/sklearn/metrics/_classification.py:1272: UndefinedMetricWarning: Precision and F-score are ill-defined and being set to 0.0 in labels with no predicted samples. Use `zero_division` parameter to control this behavior.\n",
            "  _warn_prf(average, modifier, msg_start, len(result))\n",
            "/usr/local/lib/python3.7/dist-packages/sklearn/metrics/_classification.py:1272: UndefinedMetricWarning: Precision and F-score are ill-defined and being set to 0.0 in labels with no predicted samples. Use `zero_division` parameter to control this behavior.\n",
            "  _warn_prf(average, modifier, msg_start, len(result))\n"
          ],
          "name": "stderr"
        },
        {
          "output_type": "stream",
          "text": [
            "Fold: 1\n",
            "Fold: 2\n",
            "Fold: 3\n",
            "Fold: 4\n",
            "Fold: 0\n",
            "=>Epoch: 1 Train loss: 0.6947, Val loss: 0.6920, Time epoch: 1.60\n",
            "=>Epoch: 10 Train loss: 0.0375, Val loss: 1.5042, Time epoch: 13.33\n",
            "Fold: 1\n",
            "=>Epoch: 1 Train loss: 0.6913, Val loss: 0.7170, Time epoch: 1.48\n",
            "=>Epoch: 10 Train loss: 0.0267, Val loss: 1.8798, Time epoch: 13.37\n",
            "Fold: 2\n",
            "=>Epoch: 1 Train loss: 0.6921, Val loss: 0.7076, Time epoch: 1.49\n",
            "=>Epoch: 10 Train loss: 0.0138, Val loss: 3.3674, Time epoch: 13.43\n",
            "Fold: 3\n",
            "=>Epoch: 1 Train loss: 0.6965, Val loss: 0.6876, Time epoch: 1.49\n",
            "=>Epoch: 10 Train loss: 0.0703, Val loss: 1.9033, Time epoch: 13.47\n",
            "Fold: 4\n",
            "=>Epoch: 1 Train loss: 0.6944, Val loss: 0.7003, Time epoch: 1.48\n",
            "=>Epoch: 10 Train loss: 0.0395, Val loss: 2.8422, Time epoch: 13.35\n",
            "Fold: 0\n",
            "=>Epoch: 1 Train loss: 0.6286, Val loss: 0.6500, Time epoch: 1.16\n",
            "=>Epoch: 10 Train loss: 0.1588, Val loss: 0.4088, Time epoch: 10.54\n",
            "Fold: 1\n",
            "=>Epoch: 1 Train loss: 0.5971, Val loss: 0.6989, Time epoch: 1.16\n",
            "=>Epoch: 10 Train loss: 0.1447, Val loss: 0.5912, Time epoch: 10.54\n",
            "Fold: 2\n",
            "=>Epoch: 1 Train loss: 0.6229, Val loss: 0.6860, Time epoch: 1.17\n",
            "=>Epoch: 10 Train loss: 0.1376, Val loss: 0.6896, Time epoch: 10.54\n",
            "Fold: 3\n",
            "=>Epoch: 1 Train loss: 0.6122, Val loss: 0.6782, Time epoch: 1.16\n",
            "=>Epoch: 10 Train loss: 0.1431, Val loss: 0.4849, Time epoch: 10.60\n",
            "Fold: 4\n",
            "=>Epoch: 1 Train loss: 0.6375, Val loss: 0.6762, Time epoch: 1.18\n",
            "=>Epoch: 10 Train loss: 0.1577, Val loss: 0.6178, Time epoch: 10.60\n",
            ">>>>>> subject: 6\n",
            "Fold: 0\n",
            "Fold: 1\n",
            "Fold: 2\n",
            "Fold: 3\n",
            "Fold: 4\n",
            "Fold: 0\n",
            "Fold: 1\n",
            "Fold: 2\n",
            "Fold: 3\n",
            "Fold: 4\n",
            "Fold: 0\n"
          ],
          "name": "stdout"
        },
        {
          "output_type": "stream",
          "text": [
            "/usr/local/lib/python3.7/dist-packages/sklearn/metrics/_classification.py:1272: UndefinedMetricWarning: Precision and F-score are ill-defined and being set to 0.0 in labels with no predicted samples. Use `zero_division` parameter to control this behavior.\n",
            "  _warn_prf(average, modifier, msg_start, len(result))\n",
            "/usr/local/lib/python3.7/dist-packages/sklearn/metrics/_classification.py:1272: UndefinedMetricWarning: Precision and F-score are ill-defined and being set to 0.0 in labels with no predicted samples. Use `zero_division` parameter to control this behavior.\n",
            "  _warn_prf(average, modifier, msg_start, len(result))\n",
            "/usr/local/lib/python3.7/dist-packages/sklearn/metrics/_classification.py:1272: UndefinedMetricWarning: Precision and F-score are ill-defined and being set to 0.0 in labels with no predicted samples. Use `zero_division` parameter to control this behavior.\n",
            "  _warn_prf(average, modifier, msg_start, len(result))\n",
            "/usr/local/lib/python3.7/dist-packages/sklearn/metrics/_classification.py:1272: UndefinedMetricWarning: Precision and F-score are ill-defined and being set to 0.0 in labels with no predicted samples. Use `zero_division` parameter to control this behavior.\n",
            "  _warn_prf(average, modifier, msg_start, len(result))\n",
            "/usr/local/lib/python3.7/dist-packages/sklearn/metrics/_classification.py:1272: UndefinedMetricWarning: Precision and F-score are ill-defined and being set to 0.0 in labels with no predicted samples. Use `zero_division` parameter to control this behavior.\n",
            "  _warn_prf(average, modifier, msg_start, len(result))\n"
          ],
          "name": "stderr"
        },
        {
          "output_type": "stream",
          "text": [
            "Fold: 1\n",
            "Fold: 2\n",
            "Fold: 3\n",
            "Fold: 4\n",
            "Fold: 0\n",
            "=>Epoch: 1 Train loss: 0.6243, Val loss: 0.6204, Time epoch: 1.59\n",
            "=>Epoch: 10 Train loss: 0.0056, Val loss: 0.8900, Time epoch: 13.44\n",
            "Fold: 1\n",
            "=>Epoch: 1 Train loss: 0.6263, Val loss: 0.6178, Time epoch: 1.50\n",
            "=>Epoch: 10 Train loss: 0.1260, Val loss: 1.4696, Time epoch: 13.55\n",
            "Fold: 2\n",
            "=>Epoch: 1 Train loss: 0.6435, Val loss: 0.5386, Time epoch: 1.48\n",
            "=>Epoch: 10 Train loss: 0.0805, Val loss: 1.5317, Time epoch: 13.57\n",
            "Fold: 3\n",
            "=>Epoch: 1 Train loss: 0.6245, Val loss: 0.6510, Time epoch: 1.50\n",
            "=>Epoch: 10 Train loss: 0.0038, Val loss: 2.0074, Time epoch: 13.52\n",
            "Fold: 4\n",
            "=>Epoch: 1 Train loss: 0.6139, Val loss: 0.6801, Time epoch: 1.50\n",
            "=>Epoch: 10 Train loss: 0.1259, Val loss: 0.3353, Time epoch: 13.53\n",
            "Fold: 0\n",
            "=>Epoch: 1 Train loss: 0.5593, Val loss: 0.6135, Time epoch: 1.17\n",
            "=>Epoch: 10 Train loss: 0.1498, Val loss: 0.3193, Time epoch: 10.61\n",
            "Fold: 1\n",
            "=>Epoch: 1 Train loss: 0.4918, Val loss: 0.5933, Time epoch: 1.17\n",
            "=>Epoch: 10 Train loss: 0.1499, Val loss: 0.4220, Time epoch: 10.62\n",
            "Fold: 2\n",
            "=>Epoch: 1 Train loss: 0.5087, Val loss: 0.5970, Time epoch: 1.17\n",
            "=>Epoch: 10 Train loss: 0.1557, Val loss: 0.3682, Time epoch: 10.70\n",
            "Fold: 3\n",
            "=>Epoch: 1 Train loss: 0.5613, Val loss: 0.6255, Time epoch: 1.17\n",
            "=>Epoch: 10 Train loss: 0.1424, Val loss: 0.4239, Time epoch: 10.65\n",
            "Fold: 4\n",
            "=>Epoch: 1 Train loss: 0.5456, Val loss: 0.6417, Time epoch: 1.17\n",
            "=>Epoch: 10 Train loss: 0.1350, Val loss: 0.3238, Time epoch: 10.68\n",
            ">>>>>> subject: 7\n",
            "Fold: 0\n",
            "Fold: 1\n",
            "Fold: 2\n",
            "Fold: 3\n",
            "Fold: 4\n",
            "Fold: 0\n",
            "Fold: 1\n",
            "Fold: 2\n",
            "Fold: 3\n",
            "Fold: 4\n",
            "Fold: 0\n"
          ],
          "name": "stdout"
        },
        {
          "output_type": "stream",
          "text": [
            "/usr/local/lib/python3.7/dist-packages/sklearn/metrics/_classification.py:1272: UndefinedMetricWarning: Precision and F-score are ill-defined and being set to 0.0 in labels with no predicted samples. Use `zero_division` parameter to control this behavior.\n",
            "  _warn_prf(average, modifier, msg_start, len(result))\n",
            "/usr/local/lib/python3.7/dist-packages/sklearn/metrics/_classification.py:1272: UndefinedMetricWarning: Precision and F-score are ill-defined and being set to 0.0 in labels with no predicted samples. Use `zero_division` parameter to control this behavior.\n",
            "  _warn_prf(average, modifier, msg_start, len(result))\n",
            "/usr/local/lib/python3.7/dist-packages/sklearn/metrics/_classification.py:1272: UndefinedMetricWarning: Precision and F-score are ill-defined and being set to 0.0 in labels with no predicted samples. Use `zero_division` parameter to control this behavior.\n",
            "  _warn_prf(average, modifier, msg_start, len(result))\n",
            "/usr/local/lib/python3.7/dist-packages/sklearn/metrics/_classification.py:1272: UndefinedMetricWarning: Precision and F-score are ill-defined and being set to 0.0 in labels with no predicted samples. Use `zero_division` parameter to control this behavior.\n",
            "  _warn_prf(average, modifier, msg_start, len(result))\n",
            "/usr/local/lib/python3.7/dist-packages/sklearn/metrics/_classification.py:1272: UndefinedMetricWarning: Precision and F-score are ill-defined and being set to 0.0 in labels with no predicted samples. Use `zero_division` parameter to control this behavior.\n",
            "  _warn_prf(average, modifier, msg_start, len(result))\n"
          ],
          "name": "stderr"
        },
        {
          "output_type": "stream",
          "text": [
            "Fold: 1\n",
            "Fold: 2\n",
            "Fold: 3\n",
            "Fold: 4\n",
            "Fold: 0\n",
            "=>Epoch: 1 Train loss: 0.6689, Val loss: 0.5767, Time epoch: 1.55\n",
            "=>Epoch: 10 Train loss: 0.0010, Val loss: 1.8747, Time epoch: 13.57\n",
            "Fold: 1\n",
            "=>Epoch: 1 Train loss: 0.6409, Val loss: 0.6768, Time epoch: 1.52\n",
            "=>Epoch: 10 Train loss: 0.0749, Val loss: 4.2476, Time epoch: 13.62\n",
            "Fold: 2\n",
            "=>Epoch: 1 Train loss: 0.6439, Val loss: 0.6757, Time epoch: 1.50\n",
            "=>Epoch: 10 Train loss: 0.0020, Val loss: 2.9569, Time epoch: 13.47\n",
            "Fold: 3\n",
            "=>Epoch: 1 Train loss: 0.6473, Val loss: 0.6527, Time epoch: 1.50\n",
            "=>Epoch: 10 Train loss: 0.0013, Val loss: 1.9597, Time epoch: 13.66\n",
            "Fold: 4\n",
            "=>Epoch: 1 Train loss: 0.6507, Val loss: 0.6620, Time epoch: 1.50\n",
            "=>Epoch: 10 Train loss: 0.0016, Val loss: 2.7617, Time epoch: 13.46\n",
            "Fold: 0\n",
            "=>Epoch: 1 Train loss: 0.6313, Val loss: 0.6697, Time epoch: 1.18\n",
            "=>Epoch: 10 Train loss: 0.1412, Val loss: 0.3877, Time epoch: 10.78\n",
            "Fold: 1\n",
            "=>Epoch: 1 Train loss: 0.5904, Val loss: 0.6711, Time epoch: 1.20\n",
            "=>Epoch: 10 Train loss: 0.1436, Val loss: 0.8719, Time epoch: 10.74\n",
            "Fold: 2\n",
            "=>Epoch: 1 Train loss: 0.6319, Val loss: 0.6676, Time epoch: 1.20\n",
            "=>Epoch: 10 Train loss: 0.1466, Val loss: 0.7652, Time epoch: 10.73\n",
            "Fold: 3\n",
            "=>Epoch: 1 Train loss: 0.6228, Val loss: 0.6555, Time epoch: 1.19\n",
            "=>Epoch: 10 Train loss: 0.1454, Val loss: 0.5106, Time epoch: 10.85\n",
            "Fold: 4\n",
            "=>Epoch: 1 Train loss: 0.6253, Val loss: 0.6686, Time epoch: 1.18\n",
            "=>Epoch: 10 Train loss: 0.1369, Val loss: 0.6743, Time epoch: 10.77\n",
            ">>>>>> subject: 8\n",
            "Fold: 0\n",
            "Fold: 1\n",
            "Fold: 2\n",
            "Fold: 3\n",
            "Fold: 4\n",
            "Fold: 0\n",
            "Fold: 1\n",
            "Fold: 2\n",
            "Fold: 3\n",
            "Fold: 4\n",
            "Fold: 0\n"
          ],
          "name": "stdout"
        },
        {
          "output_type": "stream",
          "text": [
            "/usr/local/lib/python3.7/dist-packages/sklearn/metrics/_classification.py:1272: UndefinedMetricWarning: Precision and F-score are ill-defined and being set to 0.0 in labels with no predicted samples. Use `zero_division` parameter to control this behavior.\n",
            "  _warn_prf(average, modifier, msg_start, len(result))\n",
            "/usr/local/lib/python3.7/dist-packages/sklearn/metrics/_classification.py:1272: UndefinedMetricWarning: Precision and F-score are ill-defined and being set to 0.0 in labels with no predicted samples. Use `zero_division` parameter to control this behavior.\n",
            "  _warn_prf(average, modifier, msg_start, len(result))\n",
            "/usr/local/lib/python3.7/dist-packages/sklearn/metrics/_classification.py:1272: UndefinedMetricWarning: Precision and F-score are ill-defined and being set to 0.0 in labels with no predicted samples. Use `zero_division` parameter to control this behavior.\n",
            "  _warn_prf(average, modifier, msg_start, len(result))\n",
            "/usr/local/lib/python3.7/dist-packages/sklearn/metrics/_classification.py:1272: UndefinedMetricWarning: Precision and F-score are ill-defined and being set to 0.0 in labels with no predicted samples. Use `zero_division` parameter to control this behavior.\n",
            "  _warn_prf(average, modifier, msg_start, len(result))\n",
            "/usr/local/lib/python3.7/dist-packages/sklearn/metrics/_classification.py:1272: UndefinedMetricWarning: Precision and F-score are ill-defined and being set to 0.0 in labels with no predicted samples. Use `zero_division` parameter to control this behavior.\n",
            "  _warn_prf(average, modifier, msg_start, len(result))\n"
          ],
          "name": "stderr"
        },
        {
          "output_type": "stream",
          "text": [
            "Fold: 1\n",
            "Fold: 2\n",
            "Fold: 3\n",
            "Fold: 4\n",
            "Fold: 0\n",
            "=>Epoch: 1 Train loss: 0.6174, Val loss: 0.6004, Time epoch: 1.64\n",
            "=>Epoch: 10 Train loss: 0.1140, Val loss: 2.1215, Time epoch: 13.80\n",
            "Fold: 1\n",
            "=>Epoch: 1 Train loss: 0.6034, Val loss: 0.6905, Time epoch: 1.54\n",
            "=>Epoch: 10 Train loss: 0.0509, Val loss: 1.4775, Time epoch: 13.60\n",
            "Fold: 2\n",
            "=>Epoch: 1 Train loss: 0.6292, Val loss: 0.6235, Time epoch: 1.52\n",
            "=>Epoch: 10 Train loss: 0.0630, Val loss: 1.4945, Time epoch: 13.81\n",
            "Fold: 3\n",
            "=>Epoch: 1 Train loss: 0.6279, Val loss: 0.5767, Time epoch: 1.50\n",
            "=>Epoch: 10 Train loss: 0.0470, Val loss: 0.8241, Time epoch: 13.64\n",
            "Fold: 4\n",
            "=>Epoch: 1 Train loss: 0.6339, Val loss: 0.5657, Time epoch: 1.51\n",
            "=>Epoch: 10 Train loss: 0.0893, Val loss: 1.1761, Time epoch: 13.80\n",
            "Fold: 0\n",
            "=>Epoch: 1 Train loss: 0.5509, Val loss: 0.6145, Time epoch: 1.21\n",
            "=>Epoch: 10 Train loss: 0.1592, Val loss: 0.5362, Time epoch: 10.82\n",
            "Fold: 1\n",
            "=>Epoch: 1 Train loss: 0.5564, Val loss: 0.6505, Time epoch: 1.21\n",
            "=>Epoch: 10 Train loss: 0.1450, Val loss: 0.6577, Time epoch: 10.77\n",
            "Fold: 2\n",
            "=>Epoch: 1 Train loss: 0.6147, Val loss: 0.6171, Time epoch: 1.18\n",
            "=>Epoch: 10 Train loss: 0.1420, Val loss: 0.4739, Time epoch: 10.89\n",
            "Fold: 3\n",
            "=>Epoch: 1 Train loss: 0.6126, Val loss: 0.5695, Time epoch: 1.21\n",
            "=>Epoch: 10 Train loss: 0.1540, Val loss: 0.2631, Time epoch: 10.90\n",
            "Fold: 4\n",
            "=>Epoch: 1 Train loss: 0.5745, Val loss: 0.6025, Time epoch: 1.20\n",
            "=>Epoch: 10 Train loss: 0.1460, Val loss: 0.3422, Time epoch: 10.89\n",
            ">>>>>> subject: 9\n",
            "Fold: 0\n",
            "Fold: 1\n",
            "Fold: 2\n",
            "Fold: 3\n",
            "Fold: 4\n",
            "Fold: 0\n",
            "Fold: 1\n",
            "Fold: 2\n",
            "Fold: 3\n",
            "Fold: 4\n",
            "Fold: 0\n"
          ],
          "name": "stdout"
        },
        {
          "output_type": "stream",
          "text": [
            "/usr/local/lib/python3.7/dist-packages/sklearn/metrics/_classification.py:1272: UndefinedMetricWarning: Precision and F-score are ill-defined and being set to 0.0 in labels with no predicted samples. Use `zero_division` parameter to control this behavior.\n",
            "  _warn_prf(average, modifier, msg_start, len(result))\n",
            "/usr/local/lib/python3.7/dist-packages/sklearn/metrics/_classification.py:1272: UndefinedMetricWarning: Precision and F-score are ill-defined and being set to 0.0 in labels with no predicted samples. Use `zero_division` parameter to control this behavior.\n",
            "  _warn_prf(average, modifier, msg_start, len(result))\n",
            "/usr/local/lib/python3.7/dist-packages/sklearn/metrics/_classification.py:1272: UndefinedMetricWarning: Precision and F-score are ill-defined and being set to 0.0 in labels with no predicted samples. Use `zero_division` parameter to control this behavior.\n",
            "  _warn_prf(average, modifier, msg_start, len(result))\n",
            "/usr/local/lib/python3.7/dist-packages/sklearn/metrics/_classification.py:1272: UndefinedMetricWarning: Precision and F-score are ill-defined and being set to 0.0 in labels with no predicted samples. Use `zero_division` parameter to control this behavior.\n",
            "  _warn_prf(average, modifier, msg_start, len(result))\n",
            "/usr/local/lib/python3.7/dist-packages/sklearn/metrics/_classification.py:1272: UndefinedMetricWarning: Precision and F-score are ill-defined and being set to 0.0 in labels with no predicted samples. Use `zero_division` parameter to control this behavior.\n",
            "  _warn_prf(average, modifier, msg_start, len(result))\n"
          ],
          "name": "stderr"
        },
        {
          "output_type": "stream",
          "text": [
            "Fold: 1\n",
            "Fold: 2\n",
            "Fold: 3\n",
            "Fold: 4\n",
            "Fold: 0\n",
            "=>Epoch: 1 Train loss: 0.5388, Val loss: 0.5149, Time epoch: 1.68\n",
            "=>Epoch: 10 Train loss: 0.0007, Val loss: 2.1490, Time epoch: 13.76\n",
            "Fold: 1\n",
            "=>Epoch: 1 Train loss: 0.5629, Val loss: 0.4594, Time epoch: 1.53\n",
            "=>Epoch: 10 Train loss: 0.0013, Val loss: 1.8397, Time epoch: 13.68\n",
            "Fold: 2\n",
            "=>Epoch: 1 Train loss: 0.5437, Val loss: 0.5128, Time epoch: 1.53\n",
            "=>Epoch: 10 Train loss: 0.0022, Val loss: 1.1087, Time epoch: 14.05\n",
            "Fold: 3\n",
            "=>Epoch: 1 Train loss: 0.5221, Val loss: 0.5646, Time epoch: 1.55\n",
            "=>Epoch: 10 Train loss: 0.0255, Val loss: 1.4845, Time epoch: 13.79\n",
            "Fold: 4\n",
            "=>Epoch: 1 Train loss: 0.5322, Val loss: 0.5745, Time epoch: 1.53\n",
            "=>Epoch: 10 Train loss: 0.0236, Val loss: 1.0450, Time epoch: 13.95\n",
            "Fold: 0\n",
            "=>Epoch: 1 Train loss: 0.5362, Val loss: 0.5920, Time epoch: 1.21\n",
            "=>Epoch: 10 Train loss: 0.1478, Val loss: 0.4713, Time epoch: 10.91\n",
            "Fold: 1\n",
            "=>Epoch: 1 Train loss: 0.5760, Val loss: 0.6127, Time epoch: 1.21\n",
            "=>Epoch: 10 Train loss: 0.1456, Val loss: 0.3768, Time epoch: 11.01\n",
            "Fold: 2\n",
            "=>Epoch: 1 Train loss: 0.5729, Val loss: 0.5951, Time epoch: 1.21\n",
            "=>Epoch: 10 Train loss: 0.1369, Val loss: 0.4252, Time epoch: 11.04\n",
            "Fold: 3\n",
            "=>Epoch: 1 Train loss: 0.5215, Val loss: 0.6581, Time epoch: 1.21\n",
            "=>Epoch: 10 Train loss: 0.1495, Val loss: 0.6096, Time epoch: 10.95\n",
            "Fold: 4\n",
            "=>Epoch: 1 Train loss: 0.5234, Val loss: 0.5968, Time epoch: 1.21\n",
            "=>Epoch: 10 Train loss: 0.1414, Val loss: 0.5734, Time epoch: 10.95\n",
            ">>>>>> subject: 10\n",
            "Fold: 0\n",
            "Fold: 1\n",
            "Fold: 2\n",
            "Fold: 3\n",
            "Fold: 4\n",
            "Fold: 0\n",
            "Fold: 1\n",
            "Fold: 2\n",
            "Fold: 3\n",
            "Fold: 4\n",
            "Fold: 0\n"
          ],
          "name": "stdout"
        },
        {
          "output_type": "stream",
          "text": [
            "/usr/local/lib/python3.7/dist-packages/sklearn/metrics/_classification.py:1272: UndefinedMetricWarning: Precision and F-score are ill-defined and being set to 0.0 in labels with no predicted samples. Use `zero_division` parameter to control this behavior.\n",
            "  _warn_prf(average, modifier, msg_start, len(result))\n",
            "/usr/local/lib/python3.7/dist-packages/sklearn/metrics/_classification.py:1272: UndefinedMetricWarning: Precision and F-score are ill-defined and being set to 0.0 in labels with no predicted samples. Use `zero_division` parameter to control this behavior.\n",
            "  _warn_prf(average, modifier, msg_start, len(result))\n",
            "/usr/local/lib/python3.7/dist-packages/sklearn/metrics/_classification.py:1272: UndefinedMetricWarning: Precision and F-score are ill-defined and being set to 0.0 in labels with no predicted samples. Use `zero_division` parameter to control this behavior.\n",
            "  _warn_prf(average, modifier, msg_start, len(result))\n",
            "/usr/local/lib/python3.7/dist-packages/sklearn/metrics/_classification.py:1272: UndefinedMetricWarning: Precision and F-score are ill-defined and being set to 0.0 in labels with no predicted samples. Use `zero_division` parameter to control this behavior.\n",
            "  _warn_prf(average, modifier, msg_start, len(result))\n",
            "/usr/local/lib/python3.7/dist-packages/sklearn/metrics/_classification.py:1272: UndefinedMetricWarning: Precision and F-score are ill-defined and being set to 0.0 in labels with no predicted samples. Use `zero_division` parameter to control this behavior.\n",
            "  _warn_prf(average, modifier, msg_start, len(result))\n"
          ],
          "name": "stderr"
        },
        {
          "output_type": "stream",
          "text": [
            "Fold: 1\n",
            "Fold: 2\n",
            "Fold: 3\n",
            "Fold: 4\n",
            "Fold: 0\n",
            "=>Epoch: 1 Train loss: 0.6192, Val loss: 0.5674, Time epoch: 1.67\n",
            "=>Epoch: 10 Train loss: 0.1638, Val loss: 1.1961, Time epoch: 13.84\n",
            "Fold: 1\n",
            "=>Epoch: 1 Train loss: 0.6012, Val loss: 0.6290, Time epoch: 1.55\n",
            "=>Epoch: 10 Train loss: 0.0457, Val loss: 2.4875, Time epoch: 13.92\n",
            "Fold: 2\n",
            "=>Epoch: 1 Train loss: 0.5931, Val loss: 0.6734, Time epoch: 1.54\n",
            "=>Epoch: 10 Train loss: 0.0442, Val loss: 2.7054, Time epoch: 13.80\n",
            "Fold: 3\n",
            "=>Epoch: 1 Train loss: 0.6052, Val loss: 0.5909, Time epoch: 1.54\n",
            "=>Epoch: 10 Train loss: 0.1922, Val loss: 1.5377, Time epoch: 13.89\n",
            "Fold: 4\n",
            "=>Epoch: 1 Train loss: 0.6111, Val loss: 0.5840, Time epoch: 1.53\n",
            "=>Epoch: 10 Train loss: 0.1440, Val loss: 1.2634, Time epoch: 13.88\n",
            "Fold: 0\n",
            "=>Epoch: 1 Train loss: 0.6417, Val loss: 0.5757, Time epoch: 1.21\n",
            "=>Epoch: 10 Train loss: 0.1634, Val loss: 0.5852, Time epoch: 11.09\n",
            "Fold: 1\n",
            "=>Epoch: 1 Train loss: 0.6494, Val loss: 0.6437, Time epoch: 1.21\n",
            "=>Epoch: 10 Train loss: 0.1446, Val loss: 0.7937, Time epoch: 10.98\n",
            "Fold: 2\n",
            "=>Epoch: 1 Train loss: 0.6152, Val loss: 0.6262, Time epoch: 1.22\n",
            "=>Epoch: 10 Train loss: 0.1407, Val loss: 0.8521, Time epoch: 11.05\n",
            "Fold: 3\n",
            "=>Epoch: 1 Train loss: 0.6026, Val loss: 0.5896, Time epoch: 1.23\n",
            "=>Epoch: 10 Train loss: 0.1344, Val loss: 0.6868, Time epoch: 11.08\n",
            "Fold: 4\n",
            "=>Epoch: 1 Train loss: 0.6228, Val loss: 0.6196, Time epoch: 1.22\n",
            "=>Epoch: 10 Train loss: 0.1492, Val loss: 0.6006, Time epoch: 11.05\n",
            ">>>>>> subject: 11\n",
            "Fold: 0\n",
            "Fold: 1\n",
            "Fold: 2\n",
            "Fold: 3\n",
            "Fold: 4\n",
            "Fold: 0\n",
            "Fold: 1\n",
            "Fold: 2\n",
            "Fold: 3\n",
            "Fold: 4\n",
            "Fold: 0\n"
          ],
          "name": "stdout"
        },
        {
          "output_type": "stream",
          "text": [
            "/usr/local/lib/python3.7/dist-packages/sklearn/metrics/_classification.py:1272: UndefinedMetricWarning: Precision and F-score are ill-defined and being set to 0.0 in labels with no predicted samples. Use `zero_division` parameter to control this behavior.\n",
            "  _warn_prf(average, modifier, msg_start, len(result))\n",
            "/usr/local/lib/python3.7/dist-packages/sklearn/metrics/_classification.py:1272: UndefinedMetricWarning: Precision and F-score are ill-defined and being set to 0.0 in labels with no predicted samples. Use `zero_division` parameter to control this behavior.\n",
            "  _warn_prf(average, modifier, msg_start, len(result))\n",
            "/usr/local/lib/python3.7/dist-packages/sklearn/metrics/_classification.py:1272: UndefinedMetricWarning: Precision and F-score are ill-defined and being set to 0.0 in labels with no predicted samples. Use `zero_division` parameter to control this behavior.\n",
            "  _warn_prf(average, modifier, msg_start, len(result))\n",
            "/usr/local/lib/python3.7/dist-packages/sklearn/metrics/_classification.py:1272: UndefinedMetricWarning: Precision and F-score are ill-defined and being set to 0.0 in labels with no predicted samples. Use `zero_division` parameter to control this behavior.\n",
            "  _warn_prf(average, modifier, msg_start, len(result))\n",
            "/usr/local/lib/python3.7/dist-packages/sklearn/metrics/_classification.py:1272: UndefinedMetricWarning: Precision and F-score are ill-defined and being set to 0.0 in labels with no predicted samples. Use `zero_division` parameter to control this behavior.\n",
            "  _warn_prf(average, modifier, msg_start, len(result))\n"
          ],
          "name": "stderr"
        },
        {
          "output_type": "stream",
          "text": [
            "Fold: 1\n",
            "Fold: 2\n",
            "Fold: 3\n",
            "Fold: 4\n",
            "Fold: 0\n",
            "=>Epoch: 1 Train loss: 0.2489, Val loss: 0.2885, Time epoch: 1.68\n",
            "=>Epoch: 10 Train loss: 0.0003, Val loss: 0.3215, Time epoch: 13.93\n",
            "Fold: 1\n",
            "=>Epoch: 1 Train loss: 0.2938, Val loss: 0.1936, Time epoch: 1.55\n",
            "=>Epoch: 10 Train loss: 0.0003, Val loss: 0.0568, Time epoch: 13.90\n",
            "Fold: 2\n",
            "=>Epoch: 1 Train loss: 0.2770, Val loss: 0.1818, Time epoch: 1.56\n",
            "=>Epoch: 10 Train loss: 0.0003, Val loss: 0.0025, Time epoch: 14.22\n",
            "Fold: 3\n",
            "=>Epoch: 1 Train loss: 0.2720, Val loss: 0.2391, Time epoch: 1.56\n",
            "=>Epoch: 10 Train loss: 0.0003, Val loss: 0.1993, Time epoch: 14.04\n",
            "Fold: 4\n",
            "=>Epoch: 1 Train loss: 0.2773, Val loss: 0.1837, Time epoch: 1.54\n",
            "=>Epoch: 10 Train loss: 0.0001, Val loss: 0.0001, Time epoch: 13.98\n",
            "Fold: 0\n",
            "=>Epoch: 1 Train loss: 0.3322, Val loss: 0.3868, Time epoch: 1.24\n",
            "=>Epoch: 10 Train loss: 0.1530, Val loss: 0.1955, Time epoch: 11.14\n",
            "Fold: 1\n"
          ],
          "name": "stdout"
        },
        {
          "output_type": "stream",
          "text": [
            "/usr/local/lib/python3.7/dist-packages/sklearn/metrics/_classification.py:1272: UndefinedMetricWarning: Precision and F-score are ill-defined and being set to 0.0 in labels with no predicted samples. Use `zero_division` parameter to control this behavior.\n",
            "  _warn_prf(average, modifier, msg_start, len(result))\n"
          ],
          "name": "stderr"
        },
        {
          "output_type": "stream",
          "text": [
            "=>Epoch: 1 Train loss: 0.4331, Val loss: 0.2824, Time epoch: 1.23\n",
            "=>Epoch: 10 Train loss: 0.1501, Val loss: 0.0600, Time epoch: 11.15\n",
            "Fold: 2\n",
            "=>Epoch: 1 Train loss: 0.3619, Val loss: 0.3121, Time epoch: 1.23\n",
            "=>Epoch: 10 Train loss: 0.1368, Val loss: 0.0527, Time epoch: 11.23\n",
            "Fold: 3\n",
            "=>Epoch: 1 Train loss: 0.3691, Val loss: 0.3783, Time epoch: 1.24\n",
            "=>Epoch: 10 Train loss: 0.1397, Val loss: 0.1280, Time epoch: 11.19\n",
            "Fold: 4\n"
          ],
          "name": "stdout"
        },
        {
          "output_type": "stream",
          "text": [
            "/usr/local/lib/python3.7/dist-packages/sklearn/metrics/_classification.py:1272: UndefinedMetricWarning: Precision and F-score are ill-defined and being set to 0.0 in labels with no predicted samples. Use `zero_division` parameter to control this behavior.\n",
            "  _warn_prf(average, modifier, msg_start, len(result))\n"
          ],
          "name": "stderr"
        },
        {
          "output_type": "stream",
          "text": [
            "=>Epoch: 1 Train loss: 0.3148, Val loss: 0.3696, Time epoch: 1.25\n",
            "=>Epoch: 10 Train loss: 0.1317, Val loss: 0.0904, Time epoch: 11.19\n"
          ],
          "name": "stdout"
        },
        {
          "output_type": "stream",
          "text": [
            "/usr/local/lib/python3.7/dist-packages/sklearn/metrics/_classification.py:1272: UndefinedMetricWarning: Precision and F-score are ill-defined and being set to 0.0 in labels with no predicted samples. Use `zero_division` parameter to control this behavior.\n",
            "  _warn_prf(average, modifier, msg_start, len(result))\n",
            "/usr/local/lib/python3.7/dist-packages/sklearn/metrics/_classification.py:1272: UndefinedMetricWarning: Precision and F-score are ill-defined and being set to 0.0 in labels with no predicted samples. Use `zero_division` parameter to control this behavior.\n",
            "  _warn_prf(average, modifier, msg_start, len(result))\n",
            "/usr/local/lib/python3.7/dist-packages/sklearn/metrics/_classification.py:1272: UndefinedMetricWarning: Precision and F-score are ill-defined and being set to 0.0 in labels with no predicted samples. Use `zero_division` parameter to control this behavior.\n",
            "  _warn_prf(average, modifier, msg_start, len(result))\n",
            "/usr/local/lib/python3.7/dist-packages/sklearn/metrics/_classification.py:1272: UndefinedMetricWarning: Precision and F-score are ill-defined and being set to 0.0 in labels with no predicted samples. Use `zero_division` parameter to control this behavior.\n",
            "  _warn_prf(average, modifier, msg_start, len(result))\n",
            "/usr/local/lib/python3.7/dist-packages/sklearn/metrics/_classification.py:1272: UndefinedMetricWarning: Precision and F-score are ill-defined and being set to 0.0 in labels with no predicted samples. Use `zero_division` parameter to control this behavior.\n",
            "  _warn_prf(average, modifier, msg_start, len(result))\n",
            "/usr/local/lib/python3.7/dist-packages/sklearn/metrics/_classification.py:1272: UndefinedMetricWarning: Precision and F-score are ill-defined and being set to 0.0 in labels with no predicted samples. Use `zero_division` parameter to control this behavior.\n",
            "  _warn_prf(average, modifier, msg_start, len(result))\n"
          ],
          "name": "stderr"
        },
        {
          "output_type": "stream",
          "text": [
            ">>>>>> subject: 12\n",
            "Fold: 0\n",
            "Fold: 1\n",
            "Fold: 2\n",
            "Fold: 3\n",
            "Fold: 4\n",
            "Fold: 0\n",
            "Fold: 1\n",
            "Fold: 2\n",
            "Fold: 3\n",
            "Fold: 4\n",
            "Fold: 0\n",
            "Fold: 1\n",
            "Fold: 2\n",
            "Fold: 3\n",
            "Fold: 4\n",
            "Fold: 0\n",
            "=>Epoch: 1 Train loss: 0.3149, Val loss: 0.2436, Time epoch: 1.66\n",
            "=>Epoch: 10 Train loss: 0.0423, Val loss: 0.3865, Time epoch: 14.22\n",
            "Fold: 1\n",
            "=>Epoch: 1 Train loss: 0.3214, Val loss: 0.2421, Time epoch: 1.56\n",
            "=>Epoch: 10 Train loss: 0.0595, Val loss: 0.5927, Time epoch: 13.99\n",
            "Fold: 2\n",
            "=>Epoch: 1 Train loss: 0.2982, Val loss: 0.2893, Time epoch: 1.59\n",
            "=>Epoch: 10 Train loss: 0.0033, Val loss: 0.8643, Time epoch: 14.08\n",
            "Fold: 3\n",
            "=>Epoch: 1 Train loss: 0.2747, Val loss: 0.3427, Time epoch: 1.56\n",
            "=>Epoch: 10 Train loss: 0.0124, Val loss: 0.8057, Time epoch: 13.96\n",
            "Fold: 4\n",
            "=>Epoch: 1 Train loss: 0.3303, Val loss: 0.2360, Time epoch: 1.58\n",
            "=>Epoch: 10 Train loss: 0.0397, Val loss: 0.6115, Time epoch: 14.18\n",
            "Fold: 0\n",
            "=>Epoch: 1 Train loss: 0.3951, Val loss: 0.4540, Time epoch: 1.24\n",
            "=>Epoch: 10 Train loss: 0.1238, Val loss: 0.1617, Time epoch: 11.21\n",
            "Fold: 1\n"
          ],
          "name": "stdout"
        },
        {
          "output_type": "stream",
          "text": [
            "/usr/local/lib/python3.7/dist-packages/sklearn/metrics/_classification.py:1272: UndefinedMetricWarning: Precision and F-score are ill-defined and being set to 0.0 in labels with no predicted samples. Use `zero_division` parameter to control this behavior.\n",
            "  _warn_prf(average, modifier, msg_start, len(result))\n"
          ],
          "name": "stderr"
        },
        {
          "output_type": "stream",
          "text": [
            "=>Epoch: 1 Train loss: 0.4302, Val loss: 0.3895, Time epoch: 1.26\n",
            "=>Epoch: 10 Train loss: 0.1269, Val loss: 0.3157, Time epoch: 11.42\n",
            "Fold: 2\n"
          ],
          "name": "stdout"
        },
        {
          "output_type": "stream",
          "text": [
            "/usr/local/lib/python3.7/dist-packages/sklearn/metrics/_classification.py:1272: UndefinedMetricWarning: Precision and F-score are ill-defined and being set to 0.0 in labels with no predicted samples. Use `zero_division` parameter to control this behavior.\n",
            "  _warn_prf(average, modifier, msg_start, len(result))\n"
          ],
          "name": "stderr"
        },
        {
          "output_type": "stream",
          "text": [
            "=>Epoch: 1 Train loss: 0.3603, Val loss: 0.4498, Time epoch: 1.24\n",
            "=>Epoch: 10 Train loss: 0.1361, Val loss: 0.2859, Time epoch: 11.30\n",
            "Fold: 3\n"
          ],
          "name": "stdout"
        },
        {
          "output_type": "stream",
          "text": [
            "/usr/local/lib/python3.7/dist-packages/sklearn/metrics/_classification.py:1272: UndefinedMetricWarning: Precision and F-score are ill-defined and being set to 0.0 in labels with no predicted samples. Use `zero_division` parameter to control this behavior.\n",
            "  _warn_prf(average, modifier, msg_start, len(result))\n"
          ],
          "name": "stderr"
        },
        {
          "output_type": "stream",
          "text": [
            "=>Epoch: 1 Train loss: 0.3562, Val loss: 0.4858, Time epoch: 1.26\n",
            "=>Epoch: 10 Train loss: 0.1593, Val loss: 1.0360, Time epoch: 11.27\n",
            "Fold: 4\n"
          ],
          "name": "stdout"
        },
        {
          "output_type": "stream",
          "text": [
            "/usr/local/lib/python3.7/dist-packages/sklearn/metrics/_classification.py:1272: UndefinedMetricWarning: Precision and F-score are ill-defined and being set to 0.0 in labels with no predicted samples. Use `zero_division` parameter to control this behavior.\n",
            "  _warn_prf(average, modifier, msg_start, len(result))\n"
          ],
          "name": "stderr"
        },
        {
          "output_type": "stream",
          "text": [
            "=>Epoch: 1 Train loss: 0.4863, Val loss: 0.3875, Time epoch: 1.26\n",
            "=>Epoch: 10 Train loss: 0.1377, Val loss: 0.2840, Time epoch: 11.35\n"
          ],
          "name": "stdout"
        },
        {
          "output_type": "stream",
          "text": [
            "/usr/local/lib/python3.7/dist-packages/sklearn/metrics/_classification.py:1272: UndefinedMetricWarning: Precision and F-score are ill-defined and being set to 0.0 in labels with no predicted samples. Use `zero_division` parameter to control this behavior.\n",
            "  _warn_prf(average, modifier, msg_start, len(result))\n",
            "/usr/local/lib/python3.7/dist-packages/sklearn/metrics/_classification.py:1272: UndefinedMetricWarning: Precision and F-score are ill-defined and being set to 0.0 in labels with no predicted samples. Use `zero_division` parameter to control this behavior.\n",
            "  _warn_prf(average, modifier, msg_start, len(result))\n",
            "/usr/local/lib/python3.7/dist-packages/sklearn/metrics/_classification.py:1272: UndefinedMetricWarning: Precision and F-score are ill-defined and being set to 0.0 in labels with no predicted samples. Use `zero_division` parameter to control this behavior.\n",
            "  _warn_prf(average, modifier, msg_start, len(result))\n",
            "/usr/local/lib/python3.7/dist-packages/sklearn/metrics/_classification.py:1272: UndefinedMetricWarning: Precision and F-score are ill-defined and being set to 0.0 in labels with no predicted samples. Use `zero_division` parameter to control this behavior.\n",
            "  _warn_prf(average, modifier, msg_start, len(result))\n",
            "/usr/local/lib/python3.7/dist-packages/sklearn/metrics/_classification.py:1272: UndefinedMetricWarning: Precision and F-score are ill-defined and being set to 0.0 in labels with no predicted samples. Use `zero_division` parameter to control this behavior.\n",
            "  _warn_prf(average, modifier, msg_start, len(result))\n",
            "/usr/local/lib/python3.7/dist-packages/sklearn/metrics/_classification.py:1272: UndefinedMetricWarning: Precision and F-score are ill-defined and being set to 0.0 in labels with no predicted samples. Use `zero_division` parameter to control this behavior.\n",
            "  _warn_prf(average, modifier, msg_start, len(result))\n"
          ],
          "name": "stderr"
        },
        {
          "output_type": "stream",
          "text": [
            ">>>>>> subject: 13\n",
            "Fold: 0\n",
            "Fold: 1\n",
            "Fold: 2\n",
            "Fold: 3\n",
            "Fold: 4\n",
            "Fold: 0\n",
            "Fold: 1\n",
            "Fold: 2\n",
            "Fold: 3\n",
            "Fold: 4\n",
            "Fold: 0\n",
            "Fold: 1\n",
            "Fold: 2\n",
            "Fold: 3\n",
            "Fold: 4\n",
            "Fold: 0\n",
            "=>Epoch: 1 Train loss: 0.6476, Val loss: 0.6214, Time epoch: 1.66\n",
            "=>Epoch: 10 Train loss: 0.0115, Val loss: 2.7134, Time epoch: 14.31\n",
            "Fold: 1\n",
            "=>Epoch: 1 Train loss: 0.6400, Val loss: 0.7084, Time epoch: 1.54\n",
            "=>Epoch: 10 Train loss: 0.0124, Val loss: 4.1103, Time epoch: 14.12\n",
            "Fold: 2\n",
            "=>Epoch: 1 Train loss: 0.6580, Val loss: 0.5773, Time epoch: 1.56\n",
            "=>Epoch: 10 Train loss: 0.1467, Val loss: 2.3173, Time epoch: 14.28\n",
            "Fold: 3\n",
            "=>Epoch: 1 Train loss: 0.6379, Val loss: 0.6501, Time epoch: 1.58\n",
            "=>Epoch: 10 Train loss: 0.0936, Val loss: 2.5838, Time epoch: 14.26\n",
            "Fold: 4\n",
            "=>Epoch: 1 Train loss: 0.6412, Val loss: 0.6991, Time epoch: 1.57\n",
            "=>Epoch: 10 Train loss: 0.0713, Val loss: 1.9831, Time epoch: 14.26\n",
            "Fold: 0\n",
            "=>Epoch: 1 Train loss: 0.6228, Val loss: 0.6457, Time epoch: 1.25\n",
            "=>Epoch: 10 Train loss: 0.1414, Val loss: 0.6552, Time epoch: 11.34\n",
            "Fold: 1\n",
            "=>Epoch: 1 Train loss: 0.6386, Val loss: 0.6698, Time epoch: 1.25\n",
            "=>Epoch: 10 Train loss: 0.1631, Val loss: 0.8370, Time epoch: 11.89\n",
            "Fold: 2\n",
            "=>Epoch: 1 Train loss: 0.6675, Val loss: 0.6467, Time epoch: 1.26\n",
            "=>Epoch: 10 Train loss: 0.1457, Val loss: 0.4809, Time epoch: 11.41\n",
            "Fold: 3\n",
            "=>Epoch: 1 Train loss: 0.6327, Val loss: 0.6702, Time epoch: 1.27\n",
            "=>Epoch: 10 Train loss: 0.1555, Val loss: 0.6708, Time epoch: 11.43\n",
            "Fold: 4\n",
            "=>Epoch: 1 Train loss: 0.6332, Val loss: 0.6656, Time epoch: 1.27\n",
            "=>Epoch: 10 Train loss: 0.1574, Val loss: 0.6778, Time epoch: 11.38\n",
            ">>>>>> subject: 14\n",
            "Fold: 0\n",
            "Fold: 1\n",
            "Fold: 2\n",
            "Fold: 3\n",
            "Fold: 4\n",
            "Fold: 0\n",
            "Fold: 1\n",
            "Fold: 2\n",
            "Fold: 3\n",
            "Fold: 4\n",
            "Fold: 0\n"
          ],
          "name": "stdout"
        },
        {
          "output_type": "stream",
          "text": [
            "/usr/local/lib/python3.7/dist-packages/sklearn/metrics/_classification.py:1272: UndefinedMetricWarning: Precision and F-score are ill-defined and being set to 0.0 in labels with no predicted samples. Use `zero_division` parameter to control this behavior.\n",
            "  _warn_prf(average, modifier, msg_start, len(result))\n",
            "/usr/local/lib/python3.7/dist-packages/sklearn/metrics/_classification.py:1272: UndefinedMetricWarning: Precision and F-score are ill-defined and being set to 0.0 in labels with no predicted samples. Use `zero_division` parameter to control this behavior.\n",
            "  _warn_prf(average, modifier, msg_start, len(result))\n",
            "/usr/local/lib/python3.7/dist-packages/sklearn/metrics/_classification.py:1272: UndefinedMetricWarning: Precision and F-score are ill-defined and being set to 0.0 in labels with no predicted samples. Use `zero_division` parameter to control this behavior.\n",
            "  _warn_prf(average, modifier, msg_start, len(result))\n",
            "/usr/local/lib/python3.7/dist-packages/sklearn/metrics/_classification.py:1272: UndefinedMetricWarning: Precision and F-score are ill-defined and being set to 0.0 in labels with no predicted samples. Use `zero_division` parameter to control this behavior.\n",
            "  _warn_prf(average, modifier, msg_start, len(result))\n",
            "/usr/local/lib/python3.7/dist-packages/sklearn/metrics/_classification.py:1272: UndefinedMetricWarning: Precision and F-score are ill-defined and being set to 0.0 in labels with no predicted samples. Use `zero_division` parameter to control this behavior.\n",
            "  _warn_prf(average, modifier, msg_start, len(result))\n"
          ],
          "name": "stderr"
        },
        {
          "output_type": "stream",
          "text": [
            "Fold: 1\n",
            "Fold: 2\n",
            "Fold: 3\n",
            "Fold: 4\n",
            "Fold: 0\n",
            "=>Epoch: 1 Train loss: 0.5405, Val loss: 0.5119, Time epoch: 1.67\n",
            "=>Epoch: 10 Train loss: 0.0003, Val loss: 1.5791, Time epoch: 14.53\n",
            "Fold: 1\n",
            "=>Epoch: 1 Train loss: 0.5838, Val loss: 0.3553, Time epoch: 1.59\n",
            "=>Epoch: 10 Train loss: 0.0045, Val loss: 0.8563, Time epoch: 14.16\n",
            "Fold: 2\n",
            "=>Epoch: 1 Train loss: 0.4894, Val loss: 0.7191, Time epoch: 1.58\n",
            "=>Epoch: 10 Train loss: 0.0145, Val loss: 2.0173, Time epoch: 14.49\n",
            "Fold: 3\n",
            "=>Epoch: 1 Train loss: 0.5431, Val loss: 0.4894, Time epoch: 1.57\n",
            "=>Epoch: 10 Train loss: 0.0026, Val loss: 1.0639, Time epoch: 14.29\n",
            "Fold: 4\n",
            "=>Epoch: 1 Train loss: 0.5271, Val loss: 0.6049, Time epoch: 1.59\n",
            "=>Epoch: 10 Train loss: 0.0006, Val loss: 1.9552, Time epoch: 14.32\n",
            "Fold: 0\n",
            "=>Epoch: 1 Train loss: 0.5175, Val loss: 0.6227, Time epoch: 1.28\n",
            "=>Epoch: 10 Train loss: 0.1458, Val loss: 0.4819, Time epoch: 11.41\n",
            "Fold: 1\n",
            "=>Epoch: 1 Train loss: 0.5709, Val loss: 0.5033, Time epoch: 1.27\n",
            "=>Epoch: 10 Train loss: 0.1516, Val loss: 0.1685, Time epoch: 11.49\n",
            "Fold: 2\n",
            "=>Epoch: 1 Train loss: 0.4848, Val loss: 0.6401, Time epoch: 1.26\n",
            "=>Epoch: 10 Train loss: 0.1474, Val loss: 0.6106, Time epoch: 11.42\n",
            "Fold: 3\n",
            "=>Epoch: 1 Train loss: 0.5072, Val loss: 0.5820, Time epoch: 1.30\n",
            "=>Epoch: 10 Train loss: 0.1226, Val loss: 0.3312, Time epoch: 11.44\n",
            "Fold: 4\n",
            "=>Epoch: 1 Train loss: 0.5562, Val loss: 0.6099, Time epoch: 1.29\n",
            "=>Epoch: 10 Train loss: 0.1370, Val loss: 0.5475, Time epoch: 11.54\n",
            ">>>>>> subject: 15\n",
            "Fold: 0\n",
            "Fold: 1\n",
            "Fold: 2\n",
            "Fold: 3\n",
            "Fold: 4\n",
            "Fold: 0\n",
            "Fold: 1\n",
            "Fold: 2\n",
            "Fold: 3\n",
            "Fold: 4\n",
            "Fold: 0\n"
          ],
          "name": "stdout"
        },
        {
          "output_type": "stream",
          "text": [
            "/usr/local/lib/python3.7/dist-packages/sklearn/metrics/_classification.py:1272: UndefinedMetricWarning: Precision and F-score are ill-defined and being set to 0.0 in labels with no predicted samples. Use `zero_division` parameter to control this behavior.\n",
            "  _warn_prf(average, modifier, msg_start, len(result))\n",
            "/usr/local/lib/python3.7/dist-packages/sklearn/metrics/_classification.py:1272: UndefinedMetricWarning: Precision and F-score are ill-defined and being set to 0.0 in labels with no predicted samples. Use `zero_division` parameter to control this behavior.\n",
            "  _warn_prf(average, modifier, msg_start, len(result))\n",
            "/usr/local/lib/python3.7/dist-packages/sklearn/metrics/_classification.py:1272: UndefinedMetricWarning: Precision and F-score are ill-defined and being set to 0.0 in labels with no predicted samples. Use `zero_division` parameter to control this behavior.\n",
            "  _warn_prf(average, modifier, msg_start, len(result))\n",
            "/usr/local/lib/python3.7/dist-packages/sklearn/metrics/_classification.py:1272: UndefinedMetricWarning: Precision and F-score are ill-defined and being set to 0.0 in labels with no predicted samples. Use `zero_division` parameter to control this behavior.\n",
            "  _warn_prf(average, modifier, msg_start, len(result))\n",
            "/usr/local/lib/python3.7/dist-packages/sklearn/metrics/_classification.py:1272: UndefinedMetricWarning: Precision and F-score are ill-defined and being set to 0.0 in labels with no predicted samples. Use `zero_division` parameter to control this behavior.\n",
            "  _warn_prf(average, modifier, msg_start, len(result))\n"
          ],
          "name": "stderr"
        },
        {
          "output_type": "stream",
          "text": [
            "Fold: 1\n",
            "Fold: 2\n",
            "Fold: 3\n",
            "Fold: 4\n",
            "Fold: 0\n",
            "=>Epoch: 1 Train loss: 0.6765, Val loss: 0.7338, Time epoch: 1.71\n",
            "=>Epoch: 10 Train loss: 0.0059, Val loss: 4.6555, Time epoch: 14.33\n",
            "Fold: 1\n",
            "=>Epoch: 1 Train loss: 0.6832, Val loss: 0.6711, Time epoch: 1.68\n",
            "=>Epoch: 10 Train loss: 0.0015, Val loss: 3.5615, Time epoch: 14.48\n",
            "Fold: 2\n",
            "=>Epoch: 1 Train loss: 0.6886, Val loss: 0.6614, Time epoch: 1.60\n",
            "=>Epoch: 10 Train loss: 0.0162, Val loss: 4.4777, Time epoch: 14.37\n",
            "Fold: 3\n",
            "=>Epoch: 1 Train loss: 0.6765, Val loss: 0.7038, Time epoch: 1.60\n",
            "=>Epoch: 10 Train loss: 0.0311, Val loss: 4.1398, Time epoch: 14.48\n",
            "Fold: 4\n",
            "=>Epoch: 1 Train loss: 0.6871, Val loss: 0.6650, Time epoch: 1.60\n",
            "=>Epoch: 10 Train loss: 0.0776, Val loss: 3.1094, Time epoch: 14.43\n",
            "Fold: 0\n",
            "=>Epoch: 1 Train loss: 0.6427, Val loss: 0.6914, Time epoch: 1.28\n",
            "=>Epoch: 10 Train loss: 0.1271, Val loss: 0.8231, Time epoch: 11.61\n",
            "Fold: 1\n",
            "=>Epoch: 1 Train loss: 0.6598, Val loss: 0.6864, Time epoch: 1.27\n",
            "=>Epoch: 10 Train loss: 0.1512, Val loss: 0.7741, Time epoch: 11.61\n",
            "Fold: 2\n",
            "=>Epoch: 1 Train loss: 0.6506, Val loss: 0.7170, Time epoch: 1.28\n",
            "=>Epoch: 10 Train loss: 0.1467, Val loss: 0.6863, Time epoch: 11.62\n",
            "Fold: 3\n",
            "=>Epoch: 1 Train loss: 0.6511, Val loss: 0.6921, Time epoch: 1.30\n",
            "=>Epoch: 10 Train loss: 0.1542, Val loss: 0.9429, Time epoch: 11.61\n",
            "Fold: 4\n",
            "=>Epoch: 1 Train loss: 0.6544, Val loss: 0.7300, Time epoch: 1.29\n",
            "=>Epoch: 10 Train loss: 0.1579, Val loss: 0.6881, Time epoch: 11.66\n",
            ">>>>>> subject: 16\n",
            "Fold: 0\n",
            "Fold: 1\n",
            "Fold: 2\n",
            "Fold: 3\n",
            "Fold: 4\n",
            "Fold: 0\n",
            "Fold: 1\n",
            "Fold: 2\n",
            "Fold: 3\n",
            "Fold: 4\n",
            "Fold: 0\n"
          ],
          "name": "stdout"
        },
        {
          "output_type": "stream",
          "text": [
            "/usr/local/lib/python3.7/dist-packages/sklearn/metrics/_classification.py:1272: UndefinedMetricWarning: Precision and F-score are ill-defined and being set to 0.0 in labels with no predicted samples. Use `zero_division` parameter to control this behavior.\n",
            "  _warn_prf(average, modifier, msg_start, len(result))\n",
            "/usr/local/lib/python3.7/dist-packages/sklearn/metrics/_classification.py:1272: UndefinedMetricWarning: Precision and F-score are ill-defined and being set to 0.0 in labels with no predicted samples. Use `zero_division` parameter to control this behavior.\n",
            "  _warn_prf(average, modifier, msg_start, len(result))\n",
            "/usr/local/lib/python3.7/dist-packages/sklearn/metrics/_classification.py:1272: UndefinedMetricWarning: Precision and F-score are ill-defined and being set to 0.0 in labels with no predicted samples. Use `zero_division` parameter to control this behavior.\n",
            "  _warn_prf(average, modifier, msg_start, len(result))\n",
            "/usr/local/lib/python3.7/dist-packages/sklearn/metrics/_classification.py:1272: UndefinedMetricWarning: Precision and F-score are ill-defined and being set to 0.0 in labels with no predicted samples. Use `zero_division` parameter to control this behavior.\n",
            "  _warn_prf(average, modifier, msg_start, len(result))\n",
            "/usr/local/lib/python3.7/dist-packages/sklearn/metrics/_classification.py:1272: UndefinedMetricWarning: Precision and F-score are ill-defined and being set to 0.0 in labels with no predicted samples. Use `zero_division` parameter to control this behavior.\n",
            "  _warn_prf(average, modifier, msg_start, len(result))\n"
          ],
          "name": "stderr"
        },
        {
          "output_type": "stream",
          "text": [
            "Fold: 1\n",
            "Fold: 2\n",
            "Fold: 3\n",
            "Fold: 4\n",
            "Fold: 0\n",
            "=>Epoch: 1 Train loss: 0.5018, Val loss: 0.5738, Time epoch: 1.71\n",
            "=>Epoch: 10 Train loss: 0.0003, Val loss: 1.6298, Time epoch: 14.55\n",
            "Fold: 1\n",
            "=>Epoch: 1 Train loss: 0.5168, Val loss: 0.4165, Time epoch: 1.62\n",
            "=>Epoch: 10 Train loss: 0.0002, Val loss: 2.1933, Time epoch: 14.50\n",
            "Fold: 2\n",
            "=>Epoch: 1 Train loss: 0.4964, Val loss: 0.5426, Time epoch: 1.61\n",
            "=>Epoch: 10 Train loss: 0.0043, Val loss: 1.9488, Time epoch: 14.66\n",
            "Fold: 3\n",
            "=>Epoch: 1 Train loss: 0.5004, Val loss: 0.6158, Time epoch: 1.61\n",
            "=>Epoch: 10 Train loss: 0.0007, Val loss: 1.4857, Time epoch: 14.43\n",
            "Fold: 4\n",
            "=>Epoch: 1 Train loss: 0.5344, Val loss: 0.3928, Time epoch: 1.60\n",
            "=>Epoch: 10 Train loss: 0.0002, Val loss: 1.9993, Time epoch: 14.49\n",
            "Fold: 0\n",
            "=>Epoch: 1 Train loss: 0.5242, Val loss: 0.5779, Time epoch: 1.29\n",
            "=>Epoch: 10 Train loss: 0.1346, Val loss: 0.5358, Time epoch: 11.67\n",
            "Fold: 1\n",
            "=>Epoch: 1 Train loss: 0.5040, Val loss: 0.6109, Time epoch: 1.30\n",
            "=>Epoch: 10 Train loss: 0.1356, Val loss: 0.5067, Time epoch: 11.81\n",
            "Fold: 2\n",
            "=>Epoch: 1 Train loss: 0.5002, Val loss: 0.5845, Time epoch: 1.30\n",
            "=>Epoch: 10 Train loss: 0.1473, Val loss: 0.6067, Time epoch: 11.76\n",
            "Fold: 3\n",
            "=>Epoch: 1 Train loss: 0.5624, Val loss: 0.6073, Time epoch: 1.30\n",
            "=>Epoch: 10 Train loss: 0.1344, Val loss: 0.6688, Time epoch: 11.81\n",
            "Fold: 4\n"
          ],
          "name": "stdout"
        },
        {
          "output_type": "stream",
          "text": [
            "/usr/local/lib/python3.7/dist-packages/sklearn/metrics/_classification.py:1272: UndefinedMetricWarning: Precision and F-score are ill-defined and being set to 0.0 in labels with no predicted samples. Use `zero_division` parameter to control this behavior.\n",
            "  _warn_prf(average, modifier, msg_start, len(result))\n"
          ],
          "name": "stderr"
        },
        {
          "output_type": "stream",
          "text": [
            "=>Epoch: 1 Train loss: 0.5533, Val loss: 0.5344, Time epoch: 1.30\n",
            "=>Epoch: 10 Train loss: 0.1381, Val loss: 0.4431, Time epoch: 11.79\n",
            ">>>>>> subject: 17\n",
            "Fold: 0\n",
            "Fold: 1\n",
            "Fold: 2\n",
            "Fold: 3\n",
            "Fold: 4\n",
            "Fold: 0\n",
            "Fold: 1\n",
            "Fold: 2\n",
            "Fold: 3\n",
            "Fold: 4\n",
            "Fold: 0\n"
          ],
          "name": "stdout"
        },
        {
          "output_type": "stream",
          "text": [
            "/usr/local/lib/python3.7/dist-packages/sklearn/metrics/_classification.py:1272: UndefinedMetricWarning: Precision and F-score are ill-defined and being set to 0.0 in labels with no predicted samples. Use `zero_division` parameter to control this behavior.\n",
            "  _warn_prf(average, modifier, msg_start, len(result))\n",
            "/usr/local/lib/python3.7/dist-packages/sklearn/metrics/_classification.py:1272: UndefinedMetricWarning: Precision and F-score are ill-defined and being set to 0.0 in labels with no predicted samples. Use `zero_division` parameter to control this behavior.\n",
            "  _warn_prf(average, modifier, msg_start, len(result))\n",
            "/usr/local/lib/python3.7/dist-packages/sklearn/metrics/_classification.py:1272: UndefinedMetricWarning: Precision and F-score are ill-defined and being set to 0.0 in labels with no predicted samples. Use `zero_division` parameter to control this behavior.\n",
            "  _warn_prf(average, modifier, msg_start, len(result))\n",
            "/usr/local/lib/python3.7/dist-packages/sklearn/metrics/_classification.py:1272: UndefinedMetricWarning: Precision and F-score are ill-defined and being set to 0.0 in labels with no predicted samples. Use `zero_division` parameter to control this behavior.\n",
            "  _warn_prf(average, modifier, msg_start, len(result))\n",
            "/usr/local/lib/python3.7/dist-packages/sklearn/metrics/_classification.py:1272: UndefinedMetricWarning: Precision and F-score are ill-defined and being set to 0.0 in labels with no predicted samples. Use `zero_division` parameter to control this behavior.\n",
            "  _warn_prf(average, modifier, msg_start, len(result))\n"
          ],
          "name": "stderr"
        },
        {
          "output_type": "stream",
          "text": [
            "Fold: 1\n",
            "Fold: 2\n",
            "Fold: 3\n",
            "Fold: 4\n",
            "Fold: 0\n",
            "=>Epoch: 1 Train loss: 0.6989, Val loss: 0.6810, Time epoch: 1.74\n",
            "=>Epoch: 10 Train loss: 0.0409, Val loss: 1.6003, Time epoch: 14.63\n",
            "Fold: 1\n",
            "=>Epoch: 1 Train loss: 0.6878, Val loss: 0.6713, Time epoch: 1.70\n",
            "=>Epoch: 10 Train loss: 0.0509, Val loss: 1.6204, Time epoch: 14.67\n",
            "Fold: 2\n",
            "=>Epoch: 1 Train loss: 0.6872, Val loss: 0.7041, Time epoch: 1.62\n",
            "=>Epoch: 10 Train loss: 0.0036, Val loss: 3.4378, Time epoch: 14.59\n",
            "Fold: 3\n",
            "=>Epoch: 1 Train loss: 0.6899, Val loss: 0.6870, Time epoch: 1.63\n",
            "=>Epoch: 10 Train loss: 0.0447, Val loss: 2.0492, Time epoch: 14.74\n",
            "Fold: 4\n",
            "=>Epoch: 1 Train loss: 0.6912, Val loss: 0.6920, Time epoch: 1.62\n",
            "=>Epoch: 10 Train loss: 0.0017, Val loss: 2.5561, Time epoch: 14.77\n",
            "Fold: 0\n",
            "=>Epoch: 1 Train loss: 0.6252, Val loss: 0.7624, Time epoch: 1.30\n",
            "=>Epoch: 10 Train loss: 0.1584, Val loss: 0.8494, Time epoch: 11.81\n",
            "Fold: 1\n",
            "=>Epoch: 1 Train loss: 0.5833, Val loss: 0.6796, Time epoch: 1.32\n",
            "=>Epoch: 10 Train loss: 0.1362, Val loss: 0.5141, Time epoch: 11.90\n",
            "Fold: 2\n",
            "=>Epoch: 1 Train loss: 0.6169, Val loss: 0.6769, Time epoch: 1.32\n",
            "=>Epoch: 10 Train loss: 0.1268, Val loss: 0.5940, Time epoch: 11.95\n",
            "Fold: 3\n",
            "=>Epoch: 1 Train loss: 0.6411, Val loss: 0.6668, Time epoch: 1.32\n",
            "=>Epoch: 10 Train loss: 0.1368, Val loss: 0.4573, Time epoch: 12.02\n",
            "Fold: 4\n",
            "=>Epoch: 1 Train loss: 0.6528, Val loss: 0.6747, Time epoch: 1.33\n",
            "=>Epoch: 10 Train loss: 0.1332, Val loss: 0.4825, Time epoch: 11.90\n",
            ">>>>>> subject: 18\n",
            "Fold: 0\n",
            "Fold: 1\n",
            "Fold: 2\n",
            "Fold: 3\n",
            "Fold: 4\n",
            "Fold: 0\n",
            "Fold: 1\n",
            "Fold: 2\n",
            "Fold: 3\n",
            "Fold: 4\n",
            "Fold: 0\n"
          ],
          "name": "stdout"
        },
        {
          "output_type": "stream",
          "text": [
            "/usr/local/lib/python3.7/dist-packages/sklearn/metrics/_classification.py:1272: UndefinedMetricWarning: Precision and F-score are ill-defined and being set to 0.0 in labels with no predicted samples. Use `zero_division` parameter to control this behavior.\n",
            "  _warn_prf(average, modifier, msg_start, len(result))\n",
            "/usr/local/lib/python3.7/dist-packages/sklearn/metrics/_classification.py:1272: UndefinedMetricWarning: Precision and F-score are ill-defined and being set to 0.0 in labels with no predicted samples. Use `zero_division` parameter to control this behavior.\n",
            "  _warn_prf(average, modifier, msg_start, len(result))\n",
            "/usr/local/lib/python3.7/dist-packages/sklearn/metrics/_classification.py:1272: UndefinedMetricWarning: Precision and F-score are ill-defined and being set to 0.0 in labels with no predicted samples. Use `zero_division` parameter to control this behavior.\n",
            "  _warn_prf(average, modifier, msg_start, len(result))\n",
            "/usr/local/lib/python3.7/dist-packages/sklearn/metrics/_classification.py:1272: UndefinedMetricWarning: Precision and F-score are ill-defined and being set to 0.0 in labels with no predicted samples. Use `zero_division` parameter to control this behavior.\n",
            "  _warn_prf(average, modifier, msg_start, len(result))\n",
            "/usr/local/lib/python3.7/dist-packages/sklearn/metrics/_classification.py:1272: UndefinedMetricWarning: Precision and F-score are ill-defined and being set to 0.0 in labels with no predicted samples. Use `zero_division` parameter to control this behavior.\n",
            "  _warn_prf(average, modifier, msg_start, len(result))\n"
          ],
          "name": "stderr"
        },
        {
          "output_type": "stream",
          "text": [
            "Fold: 1\n",
            "Fold: 2\n",
            "Fold: 3\n",
            "Fold: 4\n",
            "Fold: 0\n",
            "=>Epoch: 1 Train loss: 0.4630, Val loss: 0.4830, Time epoch: 1.80\n",
            "=>Epoch: 10 Train loss: 0.0003, Val loss: 1.1049, Time epoch: 15.32\n",
            "Fold: 1\n",
            "=>Epoch: 1 Train loss: 0.4980, Val loss: 0.3745, Time epoch: 1.66\n",
            "=>Epoch: 10 Train loss: 0.0112, Val loss: 0.0334, Time epoch: 15.12\n",
            "Fold: 2\n",
            "=>Epoch: 1 Train loss: 0.4545, Val loss: 0.5756, Time epoch: 1.70\n",
            "=>Epoch: 10 Train loss: 0.0002, Val loss: 1.5591, Time epoch: 15.66\n",
            "Fold: 3\n",
            "=>Epoch: 1 Train loss: 0.4657, Val loss: 0.4523, Time epoch: 1.65\n",
            "=>Epoch: 10 Train loss: 0.0051, Val loss: 1.7030, Time epoch: 14.92\n",
            "Fold: 4\n",
            "=>Epoch: 1 Train loss: 0.4757, Val loss: 0.3828, Time epoch: 1.65\n",
            "=>Epoch: 10 Train loss: 0.0023, Val loss: 2.4737, Time epoch: 14.79\n",
            "Fold: 0\n",
            "=>Epoch: 1 Train loss: 0.4890, Val loss: 0.6280, Time epoch: 1.31\n",
            "=>Epoch: 10 Train loss: 0.1499, Val loss: 0.3542, Time epoch: 12.02\n",
            "Fold: 1\n",
            "=>Epoch: 1 Train loss: 0.4796, Val loss: 0.5765, Time epoch: 1.32\n",
            "=>Epoch: 10 Train loss: 0.1255, Val loss: 0.1017, Time epoch: 12.05\n",
            "Fold: 2\n",
            "=>Epoch: 1 Train loss: 0.4844, Val loss: 0.6402, Time epoch: 1.33\n",
            "=>Epoch: 10 Train loss: 0.1470, Val loss: 0.5380, Time epoch: 12.03\n",
            "Fold: 3\n",
            "=>Epoch: 1 Train loss: 0.4573, Val loss: 0.5792, Time epoch: 1.32\n",
            "=>Epoch: 10 Train loss: 0.1430, Val loss: 0.3533, Time epoch: 12.07\n",
            "Fold: 4\n",
            "=>Epoch: 1 Train loss: 0.5304, Val loss: 0.5542, Time epoch: 1.33\n",
            "=>Epoch: 10 Train loss: 0.1371, Val loss: 0.3750, Time epoch: 12.02\n",
            ">>>>>> subject: 19\n",
            "Fold: 0\n",
            "Fold: 1\n",
            "Fold: 2\n",
            "Fold: 3\n",
            "Fold: 4\n",
            "Fold: 0\n",
            "Fold: 1\n",
            "Fold: 2\n",
            "Fold: 3\n",
            "Fold: 4\n",
            "Fold: 0\n"
          ],
          "name": "stdout"
        },
        {
          "output_type": "stream",
          "text": [
            "/usr/local/lib/python3.7/dist-packages/sklearn/metrics/_classification.py:1272: UndefinedMetricWarning: Precision and F-score are ill-defined and being set to 0.0 in labels with no predicted samples. Use `zero_division` parameter to control this behavior.\n",
            "  _warn_prf(average, modifier, msg_start, len(result))\n",
            "/usr/local/lib/python3.7/dist-packages/sklearn/metrics/_classification.py:1272: UndefinedMetricWarning: Precision and F-score are ill-defined and being set to 0.0 in labels with no predicted samples. Use `zero_division` parameter to control this behavior.\n",
            "  _warn_prf(average, modifier, msg_start, len(result))\n",
            "/usr/local/lib/python3.7/dist-packages/sklearn/metrics/_classification.py:1272: UndefinedMetricWarning: Precision and F-score are ill-defined and being set to 0.0 in labels with no predicted samples. Use `zero_division` parameter to control this behavior.\n",
            "  _warn_prf(average, modifier, msg_start, len(result))\n",
            "/usr/local/lib/python3.7/dist-packages/sklearn/metrics/_classification.py:1272: UndefinedMetricWarning: Precision and F-score are ill-defined and being set to 0.0 in labels with no predicted samples. Use `zero_division` parameter to control this behavior.\n",
            "  _warn_prf(average, modifier, msg_start, len(result))\n",
            "/usr/local/lib/python3.7/dist-packages/sklearn/metrics/_classification.py:1272: UndefinedMetricWarning: Precision and F-score are ill-defined and being set to 0.0 in labels with no predicted samples. Use `zero_division` parameter to control this behavior.\n",
            "  _warn_prf(average, modifier, msg_start, len(result))\n"
          ],
          "name": "stderr"
        },
        {
          "output_type": "stream",
          "text": [
            "Fold: 1\n",
            "Fold: 2\n",
            "Fold: 3\n",
            "Fold: 4\n",
            "Fold: 0\n",
            "=>Epoch: 1 Train loss: 0.6963, Val loss: 0.6852, Time epoch: 1.79\n",
            "=>Epoch: 10 Train loss: 0.1271, Val loss: 1.4355, Time epoch: 15.56\n",
            "Fold: 1\n",
            "=>Epoch: 1 Train loss: 0.6913, Val loss: 0.7250, Time epoch: 1.80\n",
            "=>Epoch: 10 Train loss: 0.0444, Val loss: 1.8609, Time epoch: 15.77\n",
            "Fold: 2\n",
            "=>Epoch: 1 Train loss: 0.6893, Val loss: 0.6939, Time epoch: 1.78\n",
            "=>Epoch: 10 Train loss: 0.0652, Val loss: 1.5851, Time epoch: 15.69\n",
            "Fold: 3\n",
            "=>Epoch: 1 Train loss: 0.6981, Val loss: 0.6889, Time epoch: 1.68\n",
            "=>Epoch: 10 Train loss: 0.0753, Val loss: 1.4489, Time epoch: 15.22\n",
            "Fold: 4\n",
            "=>Epoch: 1 Train loss: 0.6916, Val loss: 0.6956, Time epoch: 1.71\n",
            "=>Epoch: 10 Train loss: 0.1122, Val loss: 1.6839, Time epoch: 15.26\n",
            "Fold: 0\n",
            "=>Epoch: 1 Train loss: 0.6391, Val loss: 0.7040, Time epoch: 1.33\n",
            "=>Epoch: 10 Train loss: 0.1393, Val loss: 0.5447, Time epoch: 12.09\n",
            "Fold: 1\n",
            "=>Epoch: 1 Train loss: 0.6167, Val loss: 0.6894, Time epoch: 1.33\n",
            "=>Epoch: 10 Train loss: 0.1272, Val loss: 0.5744, Time epoch: 12.13\n",
            "Fold: 2\n",
            "=>Epoch: 1 Train loss: 0.6023, Val loss: 0.6784, Time epoch: 1.36\n",
            "=>Epoch: 10 Train loss: 0.1389, Val loss: 0.6287, Time epoch: 12.19\n",
            "Fold: 3\n",
            "=>Epoch: 1 Train loss: 0.6348, Val loss: 0.6895, Time epoch: 1.34\n",
            "=>Epoch: 10 Train loss: 0.1408, Val loss: 0.6032, Time epoch: 12.20\n",
            "Fold: 4\n",
            "=>Epoch: 1 Train loss: 0.6176, Val loss: 0.6751, Time epoch: 1.37\n",
            "=>Epoch: 10 Train loss: 0.1314, Val loss: 0.5379, Time epoch: 13.13\n",
            ">>>>>> subject: 20\n",
            "Fold: 0\n",
            "Fold: 1\n",
            "Fold: 2\n",
            "Fold: 3\n",
            "Fold: 4\n",
            "Fold: 0\n",
            "Fold: 1\n",
            "Fold: 2\n",
            "Fold: 3\n",
            "Fold: 4\n",
            "Fold: 0\n"
          ],
          "name": "stdout"
        },
        {
          "output_type": "stream",
          "text": [
            "/usr/local/lib/python3.7/dist-packages/sklearn/metrics/_classification.py:1272: UndefinedMetricWarning: Precision and F-score are ill-defined and being set to 0.0 in labels with no predicted samples. Use `zero_division` parameter to control this behavior.\n",
            "  _warn_prf(average, modifier, msg_start, len(result))\n",
            "/usr/local/lib/python3.7/dist-packages/sklearn/metrics/_classification.py:1272: UndefinedMetricWarning: Precision and F-score are ill-defined and being set to 0.0 in labels with no predicted samples. Use `zero_division` parameter to control this behavior.\n",
            "  _warn_prf(average, modifier, msg_start, len(result))\n",
            "/usr/local/lib/python3.7/dist-packages/sklearn/metrics/_classification.py:1272: UndefinedMetricWarning: Precision and F-score are ill-defined and being set to 0.0 in labels with no predicted samples. Use `zero_division` parameter to control this behavior.\n",
            "  _warn_prf(average, modifier, msg_start, len(result))\n",
            "/usr/local/lib/python3.7/dist-packages/sklearn/metrics/_classification.py:1272: UndefinedMetricWarning: Precision and F-score are ill-defined and being set to 0.0 in labels with no predicted samples. Use `zero_division` parameter to control this behavior.\n",
            "  _warn_prf(average, modifier, msg_start, len(result))\n",
            "/usr/local/lib/python3.7/dist-packages/sklearn/metrics/_classification.py:1272: UndefinedMetricWarning: Precision and F-score are ill-defined and being set to 0.0 in labels with no predicted samples. Use `zero_division` parameter to control this behavior.\n",
            "  _warn_prf(average, modifier, msg_start, len(result))\n"
          ],
          "name": "stderr"
        },
        {
          "output_type": "stream",
          "text": [
            "Fold: 1\n",
            "Fold: 2\n",
            "Fold: 3\n",
            "Fold: 4\n",
            "Fold: 0\n",
            "=>Epoch: 1 Train loss: 0.5754, Val loss: 0.5118, Time epoch: 1.78\n",
            "=>Epoch: 10 Train loss: 0.0015, Val loss: 2.1349, Time epoch: 15.07\n",
            "Fold: 1\n",
            "=>Epoch: 1 Train loss: 0.5806, Val loss: 0.5307, Time epoch: 1.75\n",
            "=>Epoch: 10 Train loss: 0.0017, Val loss: 0.7014, Time epoch: 15.52\n",
            "Fold: 2\n",
            "=>Epoch: 1 Train loss: 0.5759, Val loss: 0.5430, Time epoch: 1.70\n",
            "=>Epoch: 10 Train loss: 0.0021, Val loss: 1.6267, Time epoch: 15.87\n",
            "Fold: 3\n",
            "=>Epoch: 1 Train loss: 0.5558, Val loss: 0.6256, Time epoch: 1.68\n",
            "=>Epoch: 10 Train loss: 0.0046, Val loss: 2.1780, Time epoch: 15.16\n",
            "Fold: 4\n",
            "=>Epoch: 1 Train loss: 0.5515, Val loss: 0.6139, Time epoch: 1.68\n",
            "=>Epoch: 10 Train loss: 0.0444, Val loss: 2.2895, Time epoch: 15.29\n",
            "Fold: 0\n",
            "=>Epoch: 1 Train loss: 0.4526, Val loss: 0.5150, Time epoch: 1.34\n",
            "=>Epoch: 10 Train loss: 0.1268, Val loss: 0.3383, Time epoch: 12.23\n",
            "Fold: 1\n",
            "=>Epoch: 1 Train loss: 0.5026, Val loss: 0.5664, Time epoch: 1.37\n",
            "=>Epoch: 10 Train loss: 0.1546, Val loss: 0.2570, Time epoch: 12.26\n",
            "Fold: 2\n",
            "=>Epoch: 1 Train loss: 0.5041, Val loss: 0.5603, Time epoch: 1.35\n",
            "=>Epoch: 10 Train loss: 0.1388, Val loss: 0.3562, Time epoch: 12.27\n",
            "Fold: 3\n",
            "=>Epoch: 1 Train loss: 0.5058, Val loss: 0.5845, Time epoch: 1.36\n",
            "=>Epoch: 10 Train loss: 0.1434, Val loss: 0.6297, Time epoch: 12.27\n",
            "Fold: 4\n",
            "=>Epoch: 1 Train loss: 0.4956, Val loss: 0.5822, Time epoch: 1.35\n",
            "=>Epoch: 10 Train loss: 0.1224, Val loss: 0.4137, Time epoch: 12.32\n",
            ">>>>>> subject: 21\n",
            "Fold: 0\n",
            "Fold: 1\n",
            "Fold: 2\n",
            "Fold: 3\n",
            "Fold: 4\n",
            "Fold: 0\n",
            "Fold: 1\n",
            "Fold: 2\n",
            "Fold: 3\n",
            "Fold: 4\n",
            "Fold: 0\n"
          ],
          "name": "stdout"
        },
        {
          "output_type": "stream",
          "text": [
            "/usr/local/lib/python3.7/dist-packages/sklearn/metrics/_classification.py:1272: UndefinedMetricWarning: Precision and F-score are ill-defined and being set to 0.0 in labels with no predicted samples. Use `zero_division` parameter to control this behavior.\n",
            "  _warn_prf(average, modifier, msg_start, len(result))\n",
            "/usr/local/lib/python3.7/dist-packages/sklearn/metrics/_classification.py:1272: UndefinedMetricWarning: Precision and F-score are ill-defined and being set to 0.0 in labels with no predicted samples. Use `zero_division` parameter to control this behavior.\n",
            "  _warn_prf(average, modifier, msg_start, len(result))\n",
            "/usr/local/lib/python3.7/dist-packages/sklearn/metrics/_classification.py:1272: UndefinedMetricWarning: Precision and F-score are ill-defined and being set to 0.0 in labels with no predicted samples. Use `zero_division` parameter to control this behavior.\n",
            "  _warn_prf(average, modifier, msg_start, len(result))\n",
            "/usr/local/lib/python3.7/dist-packages/sklearn/metrics/_classification.py:1272: UndefinedMetricWarning: Precision and F-score are ill-defined and being set to 0.0 in labels with no predicted samples. Use `zero_division` parameter to control this behavior.\n",
            "  _warn_prf(average, modifier, msg_start, len(result))\n",
            "/usr/local/lib/python3.7/dist-packages/sklearn/metrics/_classification.py:1272: UndefinedMetricWarning: Precision and F-score are ill-defined and being set to 0.0 in labels with no predicted samples. Use `zero_division` parameter to control this behavior.\n",
            "  _warn_prf(average, modifier, msg_start, len(result))\n"
          ],
          "name": "stderr"
        },
        {
          "output_type": "stream",
          "text": [
            "Fold: 1\n",
            "Fold: 2\n",
            "Fold: 3\n",
            "Fold: 4\n",
            "Fold: 0\n",
            "=>Epoch: 1 Train loss: 0.4205, Val loss: 0.4626, Time epoch: 1.82\n",
            "=>Epoch: 10 Train loss: 0.0098, Val loss: 0.6476, Time epoch: 15.27\n",
            "Fold: 1\n",
            "=>Epoch: 1 Train loss: 0.4540, Val loss: 0.3765, Time epoch: 1.68\n",
            "=>Epoch: 10 Train loss: 0.0097, Val loss: 0.5691, Time epoch: 15.20\n",
            "Fold: 2\n",
            "=>Epoch: 1 Train loss: 0.4328, Val loss: 0.4150, Time epoch: 1.73\n",
            "=>Epoch: 10 Train loss: 0.0014, Val loss: 0.5338, Time epoch: 15.31\n",
            "Fold: 3\n",
            "=>Epoch: 1 Train loss: 0.4041, Val loss: 0.4826, Time epoch: 1.72\n",
            "=>Epoch: 10 Train loss: 0.0018, Val loss: 1.0783, Time epoch: 15.41\n",
            "Fold: 4\n",
            "=>Epoch: 1 Train loss: 0.4508, Val loss: 0.2798, Time epoch: 1.83\n",
            "=>Epoch: 10 Train loss: 0.0075, Val loss: 0.3903, Time epoch: 15.75\n",
            "Fold: 0\n",
            "=>Epoch: 1 Train loss: 0.4707, Val loss: 0.5795, Time epoch: 1.36\n",
            "=>Epoch: 10 Train loss: 0.1259, Val loss: 0.1428, Time epoch: 12.33\n",
            "Fold: 1\n",
            "=>Epoch: 1 Train loss: 0.4542, Val loss: 0.5776, Time epoch: 1.36\n",
            "=>Epoch: 10 Train loss: 0.1481, Val loss: 0.1253, Time epoch: 12.41\n",
            "Fold: 2\n",
            "=>Epoch: 1 Train loss: 0.4693, Val loss: 0.5621, Time epoch: 1.37\n",
            "=>Epoch: 10 Train loss: 0.1263, Val loss: 0.1794, Time epoch: 12.47\n",
            "Fold: 3\n",
            "=>Epoch: 1 Train loss: 0.4067, Val loss: 0.5642, Time epoch: 1.38\n",
            "=>Epoch: 10 Train loss: 0.1350, Val loss: 0.3512, Time epoch: 12.42\n",
            "Fold: 4\n",
            "=>Epoch: 1 Train loss: 0.3835, Val loss: 0.5055, Time epoch: 1.39\n",
            "=>Epoch: 10 Train loss: 0.1533, Val loss: 0.1260, Time epoch: 12.39\n",
            ">>>>>> subject: 22\n",
            "Fold: 0\n",
            "Fold: 1\n",
            "Fold: 2\n",
            "Fold: 3\n",
            "Fold: 4\n",
            "Fold: 0\n",
            "Fold: 1\n",
            "Fold: 2\n",
            "Fold: 3\n",
            "Fold: 4\n",
            "Fold: 0\n"
          ],
          "name": "stdout"
        },
        {
          "output_type": "stream",
          "text": [
            "/usr/local/lib/python3.7/dist-packages/sklearn/metrics/_classification.py:1272: UndefinedMetricWarning: Precision and F-score are ill-defined and being set to 0.0 in labels with no predicted samples. Use `zero_division` parameter to control this behavior.\n",
            "  _warn_prf(average, modifier, msg_start, len(result))\n",
            "/usr/local/lib/python3.7/dist-packages/sklearn/metrics/_classification.py:1272: UndefinedMetricWarning: Precision and F-score are ill-defined and being set to 0.0 in labels with no predicted samples. Use `zero_division` parameter to control this behavior.\n",
            "  _warn_prf(average, modifier, msg_start, len(result))\n",
            "/usr/local/lib/python3.7/dist-packages/sklearn/metrics/_classification.py:1272: UndefinedMetricWarning: Precision and F-score are ill-defined and being set to 0.0 in labels with no predicted samples. Use `zero_division` parameter to control this behavior.\n",
            "  _warn_prf(average, modifier, msg_start, len(result))\n",
            "/usr/local/lib/python3.7/dist-packages/sklearn/metrics/_classification.py:1272: UndefinedMetricWarning: Precision and F-score are ill-defined and being set to 0.0 in labels with no predicted samples. Use `zero_division` parameter to control this behavior.\n",
            "  _warn_prf(average, modifier, msg_start, len(result))\n",
            "/usr/local/lib/python3.7/dist-packages/sklearn/metrics/_classification.py:1272: UndefinedMetricWarning: Precision and F-score are ill-defined and being set to 0.0 in labels with no predicted samples. Use `zero_division` parameter to control this behavior.\n",
            "  _warn_prf(average, modifier, msg_start, len(result))\n"
          ],
          "name": "stderr"
        },
        {
          "output_type": "stream",
          "text": [
            "Fold: 1\n",
            "Fold: 2\n",
            "Fold: 3\n",
            "Fold: 4\n",
            "Fold: 0\n",
            "=>Epoch: 1 Train loss: 0.3337, Val loss: 0.1889, Time epoch: 1.79\n",
            "=>Epoch: 10 Train loss: 0.0071, Val loss: 0.3868, Time epoch: 15.38\n",
            "Fold: 1\n",
            "=>Epoch: 1 Train loss: 0.3258, Val loss: 0.2891, Time epoch: 1.68\n",
            "=>Epoch: 10 Train loss: 0.0009, Val loss: 0.5006, Time epoch: 15.22\n",
            "Fold: 2\n",
            "=>Epoch: 1 Train loss: 0.3297, Val loss: 0.2394, Time epoch: 1.69\n",
            "=>Epoch: 10 Train loss: 0.0158, Val loss: 0.3070, Time epoch: 15.27\n",
            "Fold: 3\n",
            "=>Epoch: 1 Train loss: 0.3233, Val loss: 0.2342, Time epoch: 1.68\n",
            "=>Epoch: 10 Train loss: 0.0171, Val loss: 0.5058, Time epoch: 15.29\n",
            "Fold: 4\n",
            "=>Epoch: 1 Train loss: 0.2932, Val loss: 0.4565, Time epoch: 1.71\n",
            "=>Epoch: 10 Train loss: 0.0030, Val loss: 1.1730, Time epoch: 15.29\n",
            "Fold: 0\n",
            "=>Epoch: 1 Train loss: 0.3921, Val loss: 0.4329, Time epoch: 1.37\n",
            "=>Epoch: 10 Train loss: 0.1410, Val loss: 0.0917, Time epoch: 12.36\n",
            "Fold: 1\n"
          ],
          "name": "stdout"
        },
        {
          "output_type": "stream",
          "text": [
            "/usr/local/lib/python3.7/dist-packages/sklearn/metrics/_classification.py:1272: UndefinedMetricWarning: Precision and F-score are ill-defined and being set to 0.0 in labels with no predicted samples. Use `zero_division` parameter to control this behavior.\n",
            "  _warn_prf(average, modifier, msg_start, len(result))\n"
          ],
          "name": "stderr"
        },
        {
          "output_type": "stream",
          "text": [
            "=>Epoch: 1 Train loss: 0.4087, Val loss: 0.4249, Time epoch: 1.37\n",
            "=>Epoch: 10 Train loss: 0.1344, Val loss: 0.1753, Time epoch: 12.37\n",
            "Fold: 2\n"
          ],
          "name": "stdout"
        },
        {
          "output_type": "stream",
          "text": [
            "/usr/local/lib/python3.7/dist-packages/sklearn/metrics/_classification.py:1272: UndefinedMetricWarning: Precision and F-score are ill-defined and being set to 0.0 in labels with no predicted samples. Use `zero_division` parameter to control this behavior.\n",
            "  _warn_prf(average, modifier, msg_start, len(result))\n"
          ],
          "name": "stderr"
        },
        {
          "output_type": "stream",
          "text": [
            "=>Epoch: 1 Train loss: 0.3420, Val loss: 0.4646, Time epoch: 1.39\n",
            "=>Epoch: 10 Train loss: 0.1371, Val loss: 0.1889, Time epoch: 12.49\n",
            "Fold: 3\n",
            "=>Epoch: 1 Train loss: 0.3417, Val loss: 0.5079, Time epoch: 1.39\n",
            "=>Epoch: 10 Train loss: 0.1353, Val loss: 0.1884, Time epoch: 12.50\n",
            "Fold: 4\n",
            "=>Epoch: 1 Train loss: 0.3525, Val loss: 0.4861, Time epoch: 1.37\n",
            "=>Epoch: 10 Train loss: 0.1318, Val loss: 0.3894, Time epoch: 12.44\n"
          ],
          "name": "stdout"
        },
        {
          "output_type": "stream",
          "text": [
            "/usr/local/lib/python3.7/dist-packages/sklearn/metrics/_classification.py:1272: UndefinedMetricWarning: Precision and F-score are ill-defined and being set to 0.0 in labels with no predicted samples. Use `zero_division` parameter to control this behavior.\n",
            "  _warn_prf(average, modifier, msg_start, len(result))\n",
            "/usr/local/lib/python3.7/dist-packages/sklearn/metrics/_classification.py:1272: UndefinedMetricWarning: Precision and F-score are ill-defined and being set to 0.0 in labels with no predicted samples. Use `zero_division` parameter to control this behavior.\n",
            "  _warn_prf(average, modifier, msg_start, len(result))\n",
            "/usr/local/lib/python3.7/dist-packages/sklearn/metrics/_classification.py:1272: UndefinedMetricWarning: Precision and F-score are ill-defined and being set to 0.0 in labels with no predicted samples. Use `zero_division` parameter to control this behavior.\n",
            "  _warn_prf(average, modifier, msg_start, len(result))\n",
            "/usr/local/lib/python3.7/dist-packages/sklearn/metrics/_classification.py:1272: UndefinedMetricWarning: Precision and F-score are ill-defined and being set to 0.0 in labels with no predicted samples. Use `zero_division` parameter to control this behavior.\n",
            "  _warn_prf(average, modifier, msg_start, len(result))\n",
            "/usr/local/lib/python3.7/dist-packages/sklearn/metrics/_classification.py:1272: UndefinedMetricWarning: Precision and F-score are ill-defined and being set to 0.0 in labels with no predicted samples. Use `zero_division` parameter to control this behavior.\n",
            "  _warn_prf(average, modifier, msg_start, len(result))\n",
            "/usr/local/lib/python3.7/dist-packages/sklearn/metrics/_classification.py:1272: UndefinedMetricWarning: Precision and F-score are ill-defined and being set to 0.0 in labels with no predicted samples. Use `zero_division` parameter to control this behavior.\n",
            "  _warn_prf(average, modifier, msg_start, len(result))\n"
          ],
          "name": "stderr"
        },
        {
          "output_type": "stream",
          "text": [
            ">>>>>> subject: 23\n",
            "Fold: 0\n",
            "Fold: 1\n",
            "Fold: 2\n",
            "Fold: 3\n",
            "Fold: 4\n",
            "Fold: 0\n",
            "Fold: 1\n",
            "Fold: 2\n",
            "Fold: 3\n",
            "Fold: 4\n",
            "Fold: 0\n",
            "Fold: 1\n",
            "Fold: 2\n",
            "Fold: 3\n",
            "Fold: 4\n",
            "Fold: 0\n",
            "=>Epoch: 1 Train loss: 0.2687, Val loss: 0.0541, Time epoch: 1.81\n",
            "=>Epoch: 10 Train loss: 0.0002, Val loss: 0.2509, Time epoch: 15.31\n",
            "Fold: 1\n",
            "=>Epoch: 1 Train loss: 0.2581, Val loss: 0.1733, Time epoch: 1.71\n",
            "=>Epoch: 10 Train loss: 0.0092, Val loss: 0.2982, Time epoch: 15.29\n",
            "Fold: 2\n",
            "=>Epoch: 1 Train loss: 0.2560, Val loss: 0.1736, Time epoch: 1.71\n",
            "=>Epoch: 10 Train loss: 0.0008, Val loss: 0.9239, Time epoch: 15.28\n",
            "Fold: 3\n",
            "=>Epoch: 1 Train loss: 0.2485, Val loss: 0.2422, Time epoch: 1.73\n",
            "=>Epoch: 10 Train loss: 0.0259, Val loss: 0.1547, Time epoch: 15.70\n",
            "Fold: 4\n",
            "=>Epoch: 1 Train loss: 0.2241, Val loss: 0.3007, Time epoch: 1.81\n",
            "=>Epoch: 10 Train loss: 0.0066, Val loss: 0.4792, Time epoch: 15.43\n",
            "Fold: 0\n",
            "=>Epoch: 1 Train loss: 0.3633, Val loss: 0.2920, Time epoch: 1.37\n",
            "=>Epoch: 10 Train loss: 0.1351, Val loss: 0.0123, Time epoch: 12.60\n",
            "Fold: 1\n",
            "=>Epoch: 1 Train loss: 0.3471, Val loss: 0.4090, Time epoch: 1.39\n",
            "=>Epoch: 10 Train loss: 0.1218, Val loss: 0.1537, Time epoch: 12.50\n",
            "Fold: 2\n",
            "=>Epoch: 1 Train loss: 0.3809, Val loss: 0.2958, Time epoch: 1.40\n",
            "=>Epoch: 10 Train loss: 0.1268, Val loss: 0.2687, Time epoch: 12.55\n",
            "Fold: 3\n",
            "=>Epoch: 1 Train loss: 0.3979, Val loss: 0.2935, Time epoch: 1.41\n",
            "=>Epoch: 10 Train loss: 0.1349, Val loss: 0.1825, Time epoch: 12.76\n",
            "Fold: 4\n",
            "=>Epoch: 1 Train loss: 0.3261, Val loss: 0.3647, Time epoch: 1.40\n",
            "=>Epoch: 10 Train loss: 0.1446, Val loss: 0.2599, Time epoch: 12.66\n",
            ">>>>>> subject: 24\n",
            "Fold: 0\n",
            "Fold: 1\n",
            "Fold: 2\n",
            "Fold: 3\n",
            "Fold: 4\n",
            "Fold: 0\n",
            "Fold: 1\n",
            "Fold: 2\n",
            "Fold: 3\n",
            "Fold: 4\n",
            "Fold: 0\n"
          ],
          "name": "stdout"
        },
        {
          "output_type": "stream",
          "text": [
            "/usr/local/lib/python3.7/dist-packages/sklearn/metrics/_classification.py:1272: UndefinedMetricWarning: Precision and F-score are ill-defined and being set to 0.0 in labels with no predicted samples. Use `zero_division` parameter to control this behavior.\n",
            "  _warn_prf(average, modifier, msg_start, len(result))\n",
            "/usr/local/lib/python3.7/dist-packages/sklearn/metrics/_classification.py:1272: UndefinedMetricWarning: Precision and F-score are ill-defined and being set to 0.0 in labels with no predicted samples. Use `zero_division` parameter to control this behavior.\n",
            "  _warn_prf(average, modifier, msg_start, len(result))\n",
            "/usr/local/lib/python3.7/dist-packages/sklearn/metrics/_classification.py:1272: UndefinedMetricWarning: Precision and F-score are ill-defined and being set to 0.0 in labels with no predicted samples. Use `zero_division` parameter to control this behavior.\n",
            "  _warn_prf(average, modifier, msg_start, len(result))\n",
            "/usr/local/lib/python3.7/dist-packages/sklearn/metrics/_classification.py:1272: UndefinedMetricWarning: Precision and F-score are ill-defined and being set to 0.0 in labels with no predicted samples. Use `zero_division` parameter to control this behavior.\n",
            "  _warn_prf(average, modifier, msg_start, len(result))\n",
            "/usr/local/lib/python3.7/dist-packages/sklearn/metrics/_classification.py:1272: UndefinedMetricWarning: Precision and F-score are ill-defined and being set to 0.0 in labels with no predicted samples. Use `zero_division` parameter to control this behavior.\n",
            "  _warn_prf(average, modifier, msg_start, len(result))\n"
          ],
          "name": "stderr"
        },
        {
          "output_type": "stream",
          "text": [
            "Fold: 1\n",
            "Fold: 2\n",
            "Fold: 3\n",
            "Fold: 4\n",
            "Fold: 0\n",
            "=>Epoch: 1 Train loss: 0.6332, Val loss: 0.5347, Time epoch: 1.84\n",
            "=>Epoch: 10 Train loss: 0.0312, Val loss: 2.4427, Time epoch: 15.68\n",
            "Fold: 1\n",
            "=>Epoch: 1 Train loss: 0.6093, Val loss: 0.6395, Time epoch: 1.75\n",
            "=>Epoch: 10 Train loss: 0.0031, Val loss: 2.3927, Time epoch: 15.57\n",
            "Fold: 2\n",
            "=>Epoch: 1 Train loss: 0.5770, Val loss: 0.9183, Time epoch: 1.78\n",
            "=>Epoch: 10 Train loss: 0.0073, Val loss: 4.6260, Time epoch: 15.69\n",
            "Fold: 3\n",
            "=>Epoch: 1 Train loss: 0.6399, Val loss: 0.5130, Time epoch: 1.74\n",
            "=>Epoch: 10 Train loss: 0.0006, Val loss: 1.9811, Time epoch: 15.77\n",
            "Fold: 4\n",
            "=>Epoch: 1 Train loss: 0.6178, Val loss: 0.5879, Time epoch: 1.77\n",
            "=>Epoch: 10 Train loss: 0.0336, Val loss: 2.5942, Time epoch: 15.73\n",
            "Fold: 0\n",
            "=>Epoch: 1 Train loss: 0.5907, Val loss: 0.6042, Time epoch: 1.41\n",
            "=>Epoch: 10 Train loss: 0.1505, Val loss: 0.4811, Time epoch: 12.67\n",
            "Fold: 1\n",
            "=>Epoch: 1 Train loss: 0.6127, Val loss: 0.6475, Time epoch: 1.41\n",
            "=>Epoch: 10 Train loss: 0.1483, Val loss: 0.6329, Time epoch: 12.70\n",
            "Fold: 2\n",
            "=>Epoch: 1 Train loss: 0.5716, Val loss: 0.6997, Time epoch: 1.41\n",
            "=>Epoch: 10 Train loss: 0.1435, Val loss: 1.0222, Time epoch: 12.70\n",
            "Fold: 3\n",
            "=>Epoch: 1 Train loss: 0.6347, Val loss: 0.6041, Time epoch: 1.42\n",
            "=>Epoch: 10 Train loss: 0.1410, Val loss: 0.4437, Time epoch: 12.76\n",
            "Fold: 4\n",
            "=>Epoch: 1 Train loss: 0.6100, Val loss: 0.6129, Time epoch: 1.41\n",
            "=>Epoch: 10 Train loss: 0.1415, Val loss: 0.6009, Time epoch: 12.68\n",
            ">>>>>> subject: 25\n",
            "Fold: 0\n",
            "Fold: 1\n",
            "Fold: 2\n",
            "Fold: 3\n",
            "Fold: 4\n",
            "Fold: 0\n",
            "Fold: 1\n",
            "Fold: 2\n",
            "Fold: 3\n",
            "Fold: 4\n",
            "Fold: 0\n"
          ],
          "name": "stdout"
        },
        {
          "output_type": "stream",
          "text": [
            "/usr/local/lib/python3.7/dist-packages/sklearn/metrics/_classification.py:1272: UndefinedMetricWarning: Precision and F-score are ill-defined and being set to 0.0 in labels with no predicted samples. Use `zero_division` parameter to control this behavior.\n",
            "  _warn_prf(average, modifier, msg_start, len(result))\n",
            "/usr/local/lib/python3.7/dist-packages/sklearn/metrics/_classification.py:1272: UndefinedMetricWarning: Precision and F-score are ill-defined and being set to 0.0 in labels with no predicted samples. Use `zero_division` parameter to control this behavior.\n",
            "  _warn_prf(average, modifier, msg_start, len(result))\n",
            "/usr/local/lib/python3.7/dist-packages/sklearn/metrics/_classification.py:1272: UndefinedMetricWarning: Precision and F-score are ill-defined and being set to 0.0 in labels with no predicted samples. Use `zero_division` parameter to control this behavior.\n",
            "  _warn_prf(average, modifier, msg_start, len(result))\n",
            "/usr/local/lib/python3.7/dist-packages/sklearn/metrics/_classification.py:1272: UndefinedMetricWarning: Precision and F-score are ill-defined and being set to 0.0 in labels with no predicted samples. Use `zero_division` parameter to control this behavior.\n",
            "  _warn_prf(average, modifier, msg_start, len(result))\n",
            "/usr/local/lib/python3.7/dist-packages/sklearn/metrics/_classification.py:1272: UndefinedMetricWarning: Precision and F-score are ill-defined and being set to 0.0 in labels with no predicted samples. Use `zero_division` parameter to control this behavior.\n",
            "  _warn_prf(average, modifier, msg_start, len(result))\n"
          ],
          "name": "stderr"
        },
        {
          "output_type": "stream",
          "text": [
            "Fold: 1\n",
            "Fold: 2\n",
            "Fold: 3\n",
            "Fold: 4\n",
            "Fold: 0\n",
            "=>Epoch: 1 Train loss: 0.6886, Val loss: 0.6584, Time epoch: 1.88\n",
            "=>Epoch: 10 Train loss: 0.0049, Val loss: 2.4966, Time epoch: 15.74\n",
            "Fold: 1\n",
            "=>Epoch: 1 Train loss: 0.6744, Val loss: 0.7544, Time epoch: 1.73\n",
            "=>Epoch: 10 Train loss: 0.0137, Val loss: 3.0435, Time epoch: 15.68\n",
            "Fold: 2\n",
            "=>Epoch: 1 Train loss: 0.6794, Val loss: 0.6891, Time epoch: 1.75\n",
            "=>Epoch: 10 Train loss: 0.0058, Val loss: 2.9876, Time epoch: 15.76\n",
            "Fold: 3\n",
            "=>Epoch: 1 Train loss: 0.6727, Val loss: 0.6851, Time epoch: 1.77\n",
            "=>Epoch: 10 Train loss: 0.0078, Val loss: 1.8842, Time epoch: 15.78\n",
            "Fold: 4\n",
            "=>Epoch: 1 Train loss: 0.6763, Val loss: 0.7018, Time epoch: 1.79\n",
            "=>Epoch: 10 Train loss: 0.0003, Val loss: 2.6016, Time epoch: 15.62\n",
            "Fold: 0\n",
            "=>Epoch: 1 Train loss: 0.6117, Val loss: 0.7285, Time epoch: 1.40\n",
            "=>Epoch: 10 Train loss: 0.1287, Val loss: 0.4946, Time epoch: 12.76\n",
            "Fold: 1\n",
            "=>Epoch: 1 Train loss: 0.6560, Val loss: 0.6803, Time epoch: 1.42\n",
            "=>Epoch: 10 Train loss: 0.1486, Val loss: 0.7906, Time epoch: 12.81\n",
            "Fold: 2\n",
            "=>Epoch: 1 Train loss: 0.6202, Val loss: 0.6696, Time epoch: 1.41\n",
            "=>Epoch: 10 Train loss: 0.1529, Val loss: 0.7512, Time epoch: 12.80\n",
            "Fold: 3\n",
            "=>Epoch: 1 Train loss: 0.5967, Val loss: 0.6744, Time epoch: 1.45\n",
            "=>Epoch: 10 Train loss: 0.1417, Val loss: 0.4629, Time epoch: 12.85\n",
            "Fold: 4\n",
            "=>Epoch: 1 Train loss: 0.6100, Val loss: 0.6822, Time epoch: 1.41\n",
            "=>Epoch: 10 Train loss: 0.1558, Val loss: 0.7877, Time epoch: 12.75\n"
          ],
          "name": "stdout"
        }
      ]
    },
    {
      "cell_type": "code",
      "metadata": {
        "id": "ZlslWu6NsmrE"
      },
      "source": [
        "#Save all the results to a single .csv file\n",
        "pd.DataFrame(all_subject_cross_val).to_csv('all_cross_val_results.csv')"
      ],
      "execution_count": null,
      "outputs": []
    },
    {
      "cell_type": "code",
      "metadata": {
        "id": "FCPxRpprM9vj"
      },
      "source": [
        "#Requires a .csv file from the above. The file can be found in the github in \"Code results\" folder\n",
        "all_subject_cross_val = pd.read_csv('all_cross_val_results.csv',index_col=0)"
      ],
      "execution_count": null,
      "outputs": []
    },
    {
      "cell_type": "code",
      "metadata": {
        "id": "pwb-J7cAW-M4"
      },
      "source": [
        "#ast is used in order to convert arrays encoded as strings back into array in the csv file\n",
        "import ast\n",
        "#ast.literal_eval(all_subject_cross_val[0:1]['0'][0])"
      ],
      "execution_count": null,
      "outputs": []
    },
    {
      "cell_type": "code",
      "metadata": {
        "colab": {
          "base_uri": "https://localhost:8080/"
        },
        "id": "e2SwtFXkNF8h",
        "outputId": "85031931-b969-4f47-d975-ab14c59de29c"
      },
      "source": [
        "uni_sub, mostf_sub, lda_sub, cnn_sub, unet_sub = all_subject_cross_val.iloc[0]\n",
        "test = pd.DataFrame(ast.literal_eval(uni_sub),columns=cols)\n",
        "\n",
        "test['mcc'] = (test['TP']*test['TN'] - test['FP']*test['FN'])/(((test['TP']+test['FP'])*(test['TP']+test['FN'])*(test['TN']+test['FP'])*(test['TN']+test['FN']))**(1/2))\n",
        "print(test)\n",
        "test.mean()"
      ],
      "execution_count": null,
      "outputs": [
        {
          "output_type": "stream",
          "text": [
            "   ErrP prec  Non_ErrP prec  ErrP recall  ...  FN    Youdon       mcc\n",
            "0   0.479167       0.596154     0.522727  ...  21  0.076299  0.075808\n",
            "1   0.490909       0.622222     0.613636  ...  17  0.113636  0.113384\n",
            "2   0.425532       0.547170     0.454545  ...  24 -0.027597 -0.027447\n",
            "3   0.350877       0.441860     0.454545  ...  24 -0.206169 -0.206715\n",
            "4   0.387755       0.509804     0.431818  ...  25 -0.103896 -0.103166\n",
            "\n",
            "[5 rows x 16 columns]\n"
          ],
          "name": "stdout"
        },
        {
          "output_type": "execute_result",
          "data": {
            "text/plain": [
              "ErrP prec           0.426848\n",
              "Non_ErrP prec       0.543442\n",
              "ErrP recall         0.495455\n",
              "Non_ErrP recall     0.475000\n",
              "ErrP f              0.457931\n",
              "Non_ErrP f          0.506092\n",
              "weighted prec       0.485145\n",
              "weighted recall     0.485227\n",
              "weighted_f          0.482012\n",
              "auc                 0.500000\n",
              "TP                 21.800000\n",
              "FP                 29.400000\n",
              "TN                 26.600000\n",
              "FN                 22.200000\n",
              "Youdon             -0.029545\n",
              "mcc                -0.029627\n",
              "dtype: float64"
            ]
          },
          "metadata": {
            "tags": []
          },
          "execution_count": 34
        }
      ]
    },
    {
      "cell_type": "code",
      "metadata": {
        "colab": {
          "base_uri": "https://localhost:8080/"
        },
        "id": "G9nZWA2RlhzY",
        "outputId": "624f2454-775d-46d0-b2e4-78c37b024d4d"
      },
      "source": [
        "uni_sub, mostf_sub, lda_sub, cnn_sub, unet_sub = all_subject_cross_val.iloc[0]\n",
        "test = pd.DataFrame(ast.literal_eval(uni_sub),columns=cols)\n",
        "\n",
        "test['mcc'] = (test['TP']*test['TN'] - test['FP']*test['FN'])/(((test['TP']+test['FP'])*(test['TP']+test['FN'])*(test['TN']+test['FP'])*(test['TN']+test['FN']))**(1/2))\n",
        "print(test)\n",
        "test.mean()"
      ],
      "execution_count": null,
      "outputs": [
        {
          "output_type": "stream",
          "text": [
            "   ErrP prec  Non_ErrP prec  ErrP recall  ...  FN    Youdon       mcc\n",
            "0   0.480769       0.604167     0.568182  ...  19  0.086039  0.085486\n",
            "1   0.488889       0.600000     0.500000  ...  22  0.089286  0.089087\n",
            "2   0.510204       0.627451     0.568182  ...  19  0.139610  0.138629\n",
            "3   0.441860       0.561404     0.431818  ...  25  0.003247  0.003255\n",
            "4   0.416667       0.538462     0.454545  ...  24 -0.045455 -0.045162\n",
            "\n",
            "[5 rows x 16 columns]\n"
          ],
          "name": "stdout"
        },
        {
          "output_type": "execute_result",
          "data": {
            "text/plain": [
              "ErrP prec           0.467678\n",
              "Non_ErrP prec       0.586297\n",
              "ErrP recall         0.504545\n",
              "Non_ErrP recall     0.550000\n",
              "ErrP f              0.484883\n",
              "Non_ErrP f          0.567062\n",
              "weighted prec       0.526987\n",
              "weighted recall     0.527273\n",
              "weighted_f          0.525972\n",
              "auc                 0.500000\n",
              "TP                 22.200000\n",
              "FP                 25.200000\n",
              "TN                 30.800000\n",
              "FN                 21.800000\n",
              "Youdon              0.054545\n",
              "mcc                 0.054259\n",
              "dtype: float64"
            ]
          },
          "metadata": {
            "tags": []
          },
          "execution_count": 53
        }
      ]
    },
    {
      "cell_type": "code",
      "metadata": {
        "id": "CuqiyPjDOfy5"
      },
      "source": [
        "#ast.literal_eval(uni_sub)"
      ],
      "execution_count": null,
      "outputs": []
    },
    {
      "cell_type": "code",
      "metadata": {
        "id": "XsQT0mTch9py"
      },
      "source": [
        "metric_list = ['ErrP prec', 'Non_ErrP prec', 'ErrP recall', 'Non_ErrP recall', 'auc', 'Youdon', 'mcc', 'ErrP f', 'Non_ErrP f', 'weighted_f']"
      ],
      "execution_count": null,
      "outputs": []
    },
    {
      "cell_type": "code",
      "metadata": {
        "id": "S-GmgE5sqC4I"
      },
      "source": [
        "def make_mcc_in_df(pd_df):\n",
        "    pd_df['mcc'] = (pd_df['TP']*pd_df['TN'] - pd_df['FP']*pd_df['FN'])/(((pd_df['TP']+pd_df['FP'])*(pd_df['TP']+pd_df['FN'])*(pd_df['TN']+pd_df['FP'])*(pd_df['TN']+pd_df['FN']))**(1/2))\n",
        "    return pd_df"
      ],
      "execution_count": null,
      "outputs": []
    },
    {
      "cell_type": "code",
      "metadata": {
        "id": "3CuuIkmYg0zN"
      },
      "source": [
        "moel = ['uni','mostf','lda','cnn','unet']\n",
        "\n",
        "def get_mean_std(metric):\n",
        "    mean_list = []\n",
        "    std_list = []\n",
        "\n",
        "    for i in range(26):\n",
        "        uni_sub, mostf_sub, lda_sub, cnn_sub, unet_sub = all_subject_cross_val.iloc[i]\n",
        "\n",
        "        uni_sub = pd.DataFrame(ast.literal_eval(uni_sub),columns=cols)\n",
        "        mostf_sub = pd.DataFrame(ast.literal_eval(mostf_sub),columns=cols)\n",
        "        lda_sub = pd.DataFrame(ast.literal_eval(lda_sub),columns=cols)\n",
        "        cnn_sub = pd.DataFrame(ast.literal_eval(cnn_sub),columns=cols)\n",
        "        unet_sub = pd.DataFrame(ast.literal_eval(unet_sub),columns=cols)\n",
        "\n",
        "        if metric == 'mcc':\n",
        "            uni_sub = make_mcc_in_df(uni_sub)\n",
        "            mostf_sub = make_mcc_in_df(mostf_sub)\n",
        "            lda_sub = make_mcc_in_df(lda_sub)\n",
        "            cnn_sub = make_mcc_in_df(cnn_sub)\n",
        "            unet_sub = make_mcc_in_df(unet_sub)\n",
        "\n",
        "        uni_sub = uni_sub[metric]\n",
        "        mostf_sub = mostf_sub[metric]\n",
        "        lda_sub = lda_sub[metric]\n",
        "        cnn_sub = cnn_sub[metric]\n",
        "        unet_sub = unet_sub[metric]\n",
        "\n",
        "        # uni_sub, mostf_sub, lda_sub, cnn_sub, unet_sub = all_subject_cross_val.values.tolist()[i]\n",
        "\n",
        "        # uni_sub = pd.DataFrame(uni_sub,columns=cols)[metric]\n",
        "        # mostf_sub = pd.DataFrame(mostf_sub,columns=cols)[metric]\n",
        "        # lda_sub = pd.DataFrame(lda_sub,columns=cols)[metric]\n",
        "        # cnn_sub = pd.DataFrame(cnn_sub,columns=cols)[metric]\n",
        "        # unet_sub = pd.DataFrame(unet_sub,columns=cols)[metric]\n",
        "\n",
        "        mean_list.append((uni_sub.mean(),mostf_sub.mean(),lda_sub.mean(),cnn_sub.mean(),unet_sub.mean()))\n",
        "        std_list.append((uni_sub.std(),mostf_sub.std(),lda_sub.std(),cnn_sub.std(),unet_sub.std()))\n",
        "\n",
        "    return pd.concat([pd.DataFrame(mean_list,columns=moel), pd.DataFrame(std_list,columns=moel)],axis=1)\n",
        "\n",
        "for metric in metric_list:\n",
        "    get_mean_std(metric).to_csv(\"mean and std_\" + str(metric) + \".csv\")"
      ],
      "execution_count": null,
      "outputs": []
    },
    {
      "cell_type": "code",
      "metadata": {
        "colab": {
          "base_uri": "https://localhost:8080/"
        },
        "id": "1svQTsOZdYoe",
        "outputId": "f3317a99-d3c3-44e8-d0c3-4c54892b6be6"
      },
      "source": [
        "from scipy import stats\n",
        "\n",
        "moel = ['uni','mostf','lda','cnn','unet']\n",
        "\n",
        "def get_shapiro_wilk(metric):\n",
        "    pvals = []\n",
        "\n",
        "    for i in range(26):\n",
        "        uni_sub, mostf_sub, lda_sub, cnn_sub, unet_sub = all_subject_cross_val.iloc[i]\n",
        "        \n",
        "        uni_sub = pd.DataFrame(ast.literal_eval(uni_sub),columns=cols)\n",
        "        mostf_sub = pd.DataFrame(ast.literal_eval(mostf_sub),columns=cols)\n",
        "        lda_sub = pd.DataFrame(ast.literal_eval(lda_sub),columns=cols)\n",
        "        cnn_sub = pd.DataFrame(ast.literal_eval(cnn_sub),columns=cols)\n",
        "        unet_sub = pd.DataFrame(ast.literal_eval(unet_sub),columns=cols)\n",
        "\n",
        "        if metric == 'mcc':\n",
        "            uni_sub = make_mcc_in_df(uni_sub)\n",
        "            mostf_sub = make_mcc_in_df(mostf_sub)\n",
        "            lda_sub = make_mcc_in_df(lda_sub)\n",
        "            cnn_sub = make_mcc_in_df(cnn_sub)\n",
        "            unet_sub = make_mcc_in_df(unet_sub)\n",
        "\n",
        "        uni_sub = uni_sub[metric]\n",
        "        mostf_sub = mostf_sub[metric]\n",
        "        lda_sub = lda_sub[metric]\n",
        "        cnn_sub = cnn_sub[metric]\n",
        "        unet_sub = unet_sub[metric]\n",
        "\n",
        "        _, uni_pval = stats.shapiro(uni_sub)\n",
        "        _, mostf_pval = stats.shapiro(mostf_sub)\n",
        "        _, lda_pval = stats.shapiro(lda_sub)\n",
        "        _, cnn_pval = stats.shapiro(cnn_sub)\n",
        "        _, unet_pval = stats.shapiro(unet_sub)\n",
        "\n",
        "        pvals.append((uni_pval, mostf_pval, lda_pval, cnn_pval, unet_pval))\n",
        "        pd_pvals = pd.DataFrame(pvals)\n",
        "\n",
        "    return pd_pvals\n",
        "\n",
        "for metric in metric_list:\n",
        "    get_shapiro_wilk(metric).to_csv(\"shapirowilk_\" + str(metric) + \".csv\")"
      ],
      "execution_count": null,
      "outputs": [
        {
          "output_type": "stream",
          "text": [
            "/usr/local/lib/python3.7/dist-packages/scipy/stats/morestats.py:1673: UserWarning: Input data for shapiro has range zero. The results may not be accurate.\n",
            "  warnings.warn(\"Input data for shapiro has range zero. The results \"\n"
          ],
          "name": "stderr"
        }
      ]
    },
    {
      "cell_type": "code",
      "metadata": {
        "colab": {
          "base_uri": "https://localhost:8080/"
        },
        "id": "NucDpDT3h0iK",
        "outputId": "be39d57d-104e-41db-b348-5134f9df2366"
      },
      "source": [
        "shap_test = pd.read_csv('all_cross_val_results.csv', index_col=False)\n",
        "t = pd.DataFrame(ast.literal_eval(shap_test.iloc[20][3]),columns=cols)['auc']\n",
        "a, b = stats.shapiro(t)\n",
        "print(b)\n",
        "print(t)"
      ],
      "execution_count": null,
      "outputs": [
        {
          "output_type": "stream",
          "text": [
            "0.02514771744608879\n",
            "0    0.817143\n",
            "1    0.796484\n",
            "2    0.783297\n",
            "3    0.666813\n",
            "4    0.812308\n",
            "Name: auc, dtype: float64\n"
          ],
          "name": "stdout"
        }
      ]
    },
    {
      "cell_type": "code",
      "metadata": {
        "id": "ewLVITkeg8O5"
      },
      "source": [
        "comparisons = ['lda_cnn','lda_unet','lda_uni','lda_mostf','cnn_unet','cnn_uni','cnn_mostf','unet_uni','unet_mostf']\n",
        "\n",
        "def make_mannwhitney(metric):\n",
        "    #print(metric)\n",
        "    mannwhitney_results = []\n",
        "    counter = 0\n",
        "    for i in range(26):\n",
        "        uni_sub, mostf_sub, lda_sub, cnn_sub, unet_sub = all_subject_cross_val.iloc[i]\n",
        "\n",
        "        uni_sub = pd.DataFrame(ast.literal_eval(uni_sub),columns=cols)\n",
        "        mostf_sub = pd.DataFrame(ast.literal_eval(mostf_sub),columns=cols)\n",
        "        lda_sub = pd.DataFrame(ast.literal_eval(lda_sub),columns=cols)\n",
        "        cnn_sub = pd.DataFrame(ast.literal_eval(cnn_sub),columns=cols)\n",
        "        unet_sub = pd.DataFrame(ast.literal_eval(unet_sub),columns=cols)\n",
        "\n",
        "        if metric == 'mcc':\n",
        "            uni_sub = make_mcc_in_df(uni_sub)\n",
        "            mostf_sub = make_mcc_in_df(mostf_sub)\n",
        "            lda_sub = make_mcc_in_df(lda_sub)\n",
        "            cnn_sub = make_mcc_in_df(cnn_sub)\n",
        "            unet_sub = make_mcc_in_df(unet_sub)\n",
        "\n",
        "        uni_sub = uni_sub[metric]\n",
        "        mostf_sub = mostf_sub[metric]\n",
        "        lda_sub = lda_sub[metric]\n",
        "        cnn_sub = cnn_sub[metric]\n",
        "        unet_sub = unet_sub[metric]\n",
        "\n",
        "        #_, uni_pval = stats.shapiro(uni_sub)\n",
        "        #_, mostf_pval = stats.shapiro(mostf_sub)\n",
        "        #_, lda_pval = stats.shapiro(lda_sub)\n",
        "        #_, cnn_pval = stats.shapiro(cnn_sub)\n",
        "        #_, unet_pval = stats.shapiro(unet_sub)\n",
        "\n",
        "        lda_cnn= stats.mannwhitneyu(lda_sub, cnn_sub)[1]\n",
        "        lda_unet=stats.mannwhitneyu(lda_sub, unet_sub)[1]\n",
        "        lda_uni=stats.mannwhitneyu(lda_sub, uni_sub)[1]\n",
        "        lda_mostf=stats.mannwhitneyu(lda_sub, mostf_sub)[1]\n",
        "\n",
        "        unet_uni=stats.mannwhitneyu(unet_sub, uni_sub)[1]\n",
        "        #print(\"U: \" , unet_sub)\n",
        "        #print(\"Most: \", mostf_sub)\n",
        "        try:\n",
        "          unet_mostf=stats.mannwhitneyu(unet_sub, mostf_sub)[1]\n",
        "        except:\n",
        "          unet_mostf = 1.000\n",
        "        cnn_unet=stats.mannwhitneyu(cnn_sub, unet_sub)[1]\n",
        "        cnn_uni=stats.mannwhitneyu(cnn_sub, uni_sub)[1]\n",
        "        cnn_mostf=stats.mannwhitneyu(cnn_sub, mostf_sub)[1]\n",
        "\n",
        "        mannwhitney_results.append((lda_cnn,lda_unet,lda_uni,lda_mostf,cnn_unet,cnn_uni,cnn_mostf,unet_uni,unet_mostf))\n",
        "\n",
        "    return pd.DataFrame(mannwhitney_results,columns=comparisons)\n",
        "\n",
        "for metric in metric_list:\n",
        "    make_mannwhitney(metric).to_csv(\"mannwhitney_\" + str(metric) + \".csv\")"
      ],
      "execution_count": null,
      "outputs": []
    },
    {
      "cell_type": "markdown",
      "metadata": {
        "id": "bab8j06GA28p"
      },
      "source": [
        "###Cross domain test\n"
      ]
    },
    {
      "cell_type": "code",
      "metadata": {
        "colab": {
          "base_uri": "https://localhost:8080/"
        },
        "id": "_RNcCnw6Q8Ed",
        "outputId": "4e503b9e-50d3-4fec-c431-af300b4d3d35"
      },
      "source": [
        "def get_cross_results():\n",
        "    lda_sub, lda_model = train_loop_cross(clf_lda)\n",
        "    # cnn_sub, cnn_model, cnn_states = Neural_loop_cross(BaseCNN().to(device),subject_num,cnn_lstm_train_loop,1e-4,10,False,0.5)\n",
        "    # unet_sub, unet_model = Neural_loop_cross(UNet().to(device),subject_num,train_loop_UNet,1e-4,10,True,0.5)\n",
        "\n",
        "    return lda_sub, lda_model#, cnn_sub, cnn_model, cnn_states, unet_sub, unet_model\n",
        "\n",
        "all_lda_models = get_cross_results()"
      ],
      "execution_count": null,
      "outputs": [
        {
          "output_type": "stream",
          "text": [
            "Sub: 0\n",
            "Sub: 1\n",
            "Sub: 2\n",
            "Sub: 3\n",
            "Sub: 4\n",
            "Sub: 5\n",
            "Sub: 6\n",
            "Sub: 7\n",
            "Sub: 8\n",
            "Sub: 9\n",
            "Sub: 10\n",
            "Sub: 11\n",
            "Sub: 12\n",
            "Sub: 13\n",
            "Sub: 14\n",
            "Sub: 15\n",
            "Sub: 16\n",
            "Sub: 17\n",
            "Sub: 18\n",
            "Sub: 19\n",
            "Sub: 20\n",
            "Sub: 21\n",
            "Sub: 22\n",
            "Sub: 23\n",
            "Sub: 24\n",
            "Sub: 25\n"
          ],
          "name": "stdout"
        }
      ]
    },
    {
      "cell_type": "code",
      "metadata": {
        "id": "RY5gGbqVXHX5"
      },
      "source": [
        "all_lda_models"
      ],
      "execution_count": null,
      "outputs": []
    },
    {
      "cell_type": "code",
      "metadata": {
        "id": "azoW-kbdXdU0"
      },
      "source": [
        ""
      ],
      "execution_count": null,
      "outputs": []
    },
    {
      "cell_type": "code",
      "metadata": {
        "colab": {
          "base_uri": "https://localhost:8080/"
        },
        "id": "qNhVKl1QVah3",
        "outputId": "17121b9c-fd20-463e-a4b1-ff61a89a4de0"
      },
      "source": [
        "f1_cross= np.zeros((26,26))\n",
        "\n",
        "for i, model in enumerate(all_lda_models[1]):\n",
        "    for j, sub in enumerate(all_subjects_cross):\n",
        "        xtrain,ytrain,xtest,ytest, xval, yval = sub\n",
        "        subject_pred = model.predict(xtest)\n",
        "        subject_pred_probs = model.predict_proba(xtest)\n",
        "        eval_metrics = evaluation(ytest, subject_pred, subject_pred_probs[:,-1])[8]\n",
        "        f1_cross[i,j] = eval_metrics"
      ],
      "execution_count": null,
      "outputs": [
        {
          "output_type": "stream",
          "text": [
            "/usr/local/lib/python3.7/dist-packages/sklearn/metrics/_classification.py:1272: UndefinedMetricWarning: Precision and F-score are ill-defined and being set to 0.0 in labels with no predicted samples. Use `zero_division` parameter to control this behavior.\n",
            "  _warn_prf(average, modifier, msg_start, len(result))\n",
            "/usr/local/lib/python3.7/dist-packages/sklearn/metrics/_classification.py:1272: UndefinedMetricWarning: Precision and F-score are ill-defined and being set to 0.0 in labels with no predicted samples. Use `zero_division` parameter to control this behavior.\n",
            "  _warn_prf(average, modifier, msg_start, len(result))\n",
            "/usr/local/lib/python3.7/dist-packages/sklearn/metrics/_classification.py:1272: UndefinedMetricWarning: Precision and F-score are ill-defined and being set to 0.0 in labels with no predicted samples. Use `zero_division` parameter to control this behavior.\n",
            "  _warn_prf(average, modifier, msg_start, len(result))\n",
            "/usr/local/lib/python3.7/dist-packages/sklearn/metrics/_classification.py:1272: UndefinedMetricWarning: Precision and F-score are ill-defined and being set to 0.0 in labels with no predicted samples. Use `zero_division` parameter to control this behavior.\n",
            "  _warn_prf(average, modifier, msg_start, len(result))\n",
            "/usr/local/lib/python3.7/dist-packages/sklearn/metrics/_classification.py:1272: UndefinedMetricWarning: Precision and F-score are ill-defined and being set to 0.0 in labels with no predicted samples. Use `zero_division` parameter to control this behavior.\n",
            "  _warn_prf(average, modifier, msg_start, len(result))\n",
            "/usr/local/lib/python3.7/dist-packages/sklearn/metrics/_classification.py:1272: UndefinedMetricWarning: Precision and F-score are ill-defined and being set to 0.0 in labels with no predicted samples. Use `zero_division` parameter to control this behavior.\n",
            "  _warn_prf(average, modifier, msg_start, len(result))\n",
            "/usr/local/lib/python3.7/dist-packages/sklearn/metrics/_classification.py:1272: UndefinedMetricWarning: Precision and F-score are ill-defined and being set to 0.0 in labels with no predicted samples. Use `zero_division` parameter to control this behavior.\n",
            "  _warn_prf(average, modifier, msg_start, len(result))\n"
          ],
          "name": "stderr"
        }
      ]
    },
    {
      "cell_type": "code",
      "metadata": {
        "id": "NYAWFgOmV_HL"
      },
      "source": [
        "pd.DataFrame(f1_cross).to_csv('F1_matrix.csv')"
      ],
      "execution_count": null,
      "outputs": []
    },
    {
      "cell_type": "code",
      "metadata": {
        "id": "NyAQSQpUWbUP"
      },
      "source": [
        ""
      ],
      "execution_count": null,
      "outputs": []
    }
  ]
}